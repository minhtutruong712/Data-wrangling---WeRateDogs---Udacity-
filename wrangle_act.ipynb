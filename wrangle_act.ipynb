{
 "cells": [
  {
   "cell_type": "markdown",
   "metadata": {
    "extensions": {
     "jupyter_dashboards": {
      "version": 1,
      "views": {
       "grid_default": {
        "col": 0,
        "height": 4,
        "hidden": false,
        "row": 0,
        "width": 4
       },
       "report_default": {
        "hidden": false
       }
      }
     }
    }
   },
   "source": [
    "# Project: Wrangling and Analyze Data"
   ]
  },
  {
   "cell_type": "markdown",
   "metadata": {},
   "source": [
    "## Data Gathering\n",
    "In the cell below, gather **all** three pieces of data for this project and load them in the notebook. **Note:** the methods required to gather each data are different.\n",
    "1. Directly download the WeRateDogs Twitter archive data (twitter_archive_enhanced.csv)"
   ]
  },
  {
   "cell_type": "code",
   "execution_count": 292,
   "metadata": {},
   "outputs": [],
   "source": [
    "# import packages\n",
    "import pandas as pd\n",
    "import numpy as np\n",
    "import requests as re\n",
    "import os\n",
    "import tweepy as tp\n",
    "import json\n",
    "import matplotlib.pyplot as plt\n",
    "import seaborn as sb"
   ]
  },
  {
   "cell_type": "code",
   "execution_count": 293,
   "metadata": {},
   "outputs": [],
   "source": [
    "# read WeRateDogs Twitter archive file on hand\n",
    "twitter_archive = pd.read_csv(r'C:\\Users\\DE\\Documents\\Data wrangling_Udacity\\twitter-archive-enhanced.csv')"
   ]
  },
  {
   "cell_type": "markdown",
   "metadata": {},
   "source": [
    "2. Use the Requests library to download the tweet image prediction (image_predictions.tsv)"
   ]
  },
  {
   "cell_type": "code",
   "execution_count": 294,
   "metadata": {},
   "outputs": [],
   "source": [
    "# write file tsv containing images\n",
    "path = os.getcwd() # get the current path\n",
    "url = 'https://d17h27t6h515a5.cloudfront.net/topher/2017/August/599fd2ad_image-predictions/image-predictions.tsv'\n",
    "if not os.path.exists(url.split('/')[-1]):\n",
    "    response = re.get(url)\n",
    "    with open(os.path.join(path, url.split('/')[-1]), mode = 'wb') as file:\n",
    "        file.write(response.content)\n",
    "        \n",
    "# read image prediction tsv file into dataframe\n",
    "image_prediction = pd.read_csv(r'C:\\Users\\DE\\Documents\\Data wrangling_Udacity\\image-predictions.tsv', sep = '\\t')"
   ]
  },
  {
   "cell_type": "markdown",
   "metadata": {},
   "source": [
    "3. Use the Tweepy library to query additional data via the Twitter API (tweet_json.txt)"
   ]
  },
  {
   "cell_type": "code",
   "execution_count": 295,
   "metadata": {},
   "outputs": [],
   "source": [
    "# query Twitter API for each tweet in the Twitter archive and save JSON in a text file\n",
    "# omit keys from submission to comply with Twitter's API terms and conditions\n",
    "consumer_key = 'hidden'\n",
    "consumer_secret = 'hidden'\n",
    "access_token = 'hidden'\n",
    "access_secret = 'hidden'\n",
    "\n",
    "auth = tp.OAuthHandler(consumer_key, consumer_secret)\n",
    "auth.set_access_token(access_token, access_secret)\n",
    "\n",
    "api = tp.API(auth, wait_on_rate_limit=True)"
   ]
  },
  {
   "cell_type": "code",
   "execution_count": 296,
   "metadata": {},
   "outputs": [],
   "source": [
    "# avoid gather data again in case the file is ready\n",
    "if not os.path.exists('tweet_json.txt'):\n",
    "    # list twitter id into array to query Twitter API for additional information\n",
    "    list_id = twitter_archive.tweet_id.values\n",
    "\n",
    "    # store each tweet's entire set of JSON data in a file called tweet_json.txt file\n",
    "    fails_dict = {}\n",
    "    with open('tweet_json.txt', 'w', encoding = 'utf-8') as f: \n",
    "        for id in list_id: \n",
    "            try: \n",
    "                tweet = api.get_status(id, tweet_mode='extended')\n",
    "                json.dump(tweet._json, f)\n",
    "                f.write('\\n')\n",
    "            except tp.errors.TweepyException as e: \n",
    "                fails_dict[id] = e\n",
    "                pass   "
   ]
  },
  {
   "cell_type": "code",
   "execution_count": 297,
   "metadata": {},
   "outputs": [],
   "source": [
    "# read tweet_json.txt line by line into dataframe \n",
    "# with tweet ID, retweet count, favorite count\n",
    "df_list = []\n",
    "with open('tweet_json.txt', 'r', encoding = 'utf-8') as f:\n",
    "    for count, line in enumerate(f): \n",
    "        tweet_id = json.loads(line)['id']\n",
    "        retweet_count = json.loads(line)['retweet_count']\n",
    "        favorite_count = json.loads(line)['favorite_count']\n",
    "        df_list.append({'tweet_id': tweet_id, \n",
    "        'retweet_count': retweet_count, \n",
    "        'favorite_count': favorite_count})\n",
    "\n",
    "tweet_api = pd.DataFrame(df_list, columns = ['tweet_id', 'retweet_count', 'favorite_count'])       "
   ]
  },
  {
   "cell_type": "markdown",
   "metadata": {
    "extensions": {
     "jupyter_dashboards": {
      "version": 1,
      "views": {
       "grid_default": {
        "col": 4,
        "height": 4,
        "hidden": false,
        "row": 28,
        "width": 4
       },
       "report_default": {
        "hidden": false
       }
      }
     }
    }
   },
   "source": [
    "## Assessing Data\n",
    "In this section, detect and document at least **eight (8) quality issues and two (2) tidiness issue**. You must use **both** visual assessment\n",
    "programmatic assessement to assess the data.\n",
    "\n",
    "**Note:** pay attention to the following key points when you access the data.\n",
    "\n",
    "* You only want original ratings (no retweets) that have images. Though there are 5000+ tweets in the dataset, not all are dog ratings and some are retweets.\n",
    "* Assessing and cleaning the entire dataset completely would require a lot of time, and is not necessary to practice and demonstrate your skills in data wrangling. Therefore, the requirements of this project are only to assess and clean at least 8 quality issues and at least 2 tidiness issues in this dataset.\n",
    "* The fact that the rating numerators are greater than the denominators does not need to be cleaned. This [unique rating system](http://knowyourmeme.com/memes/theyre-good-dogs-brent) is a big part of the popularity of WeRateDogs.\n",
    "* You do not need to gather the tweets beyond August 1st, 2017. You can, but note that you won't be able to gather the image predictions for these tweets since you don't have access to the algorithm used.\n",
    "\n"
   ]
  },
  {
   "cell_type": "markdown",
   "metadata": {},
   "source": [
    "### Quality Issues"
   ]
  },
  {
   "cell_type": "markdown",
   "metadata": {},
   "source": [
    "1. Change datatype timestamp from string into datetime to exclude tweets beyond August 1st, 2017\n"
   ]
  },
  {
   "cell_type": "code",
   "execution_count": 298,
   "metadata": {},
   "outputs": [
    {
     "name": "stdout",
     "output_type": "stream",
     "text": [
      "<class 'pandas.core.frame.DataFrame'>\n",
      "RangeIndex: 2356 entries, 0 to 2355\n",
      "Data columns (total 17 columns):\n",
      " #   Column                      Non-Null Count  Dtype  \n",
      "---  ------                      --------------  -----  \n",
      " 0   tweet_id                    2356 non-null   int64  \n",
      " 1   in_reply_to_status_id       78 non-null     float64\n",
      " 2   in_reply_to_user_id         78 non-null     float64\n",
      " 3   timestamp                   2356 non-null   object \n",
      " 4   source                      2356 non-null   object \n",
      " 5   text                        2356 non-null   object \n",
      " 6   retweeted_status_id         181 non-null    float64\n",
      " 7   retweeted_status_user_id    181 non-null    float64\n",
      " 8   retweeted_status_timestamp  181 non-null    object \n",
      " 9   expanded_urls               2297 non-null   object \n",
      " 10  rating_numerator            2356 non-null   int64  \n",
      " 11  rating_denominator          2356 non-null   int64  \n",
      " 12  name                        2356 non-null   object \n",
      " 13  doggo                       2356 non-null   object \n",
      " 14  floofer                     2356 non-null   object \n",
      " 15  pupper                      2356 non-null   object \n",
      " 16  puppo                       2356 non-null   object \n",
      "dtypes: float64(4), int64(3), object(10)\n",
      "memory usage: 313.0+ KB\n"
     ]
    }
   ],
   "source": [
    "# check datatype of timestamp column\n",
    "twitter_archive.info()"
   ]
  },
  {
   "cell_type": "code",
   "execution_count": 299,
   "metadata": {},
   "outputs": [
    {
     "data": {
      "text/plain": [
       "0       2017-08-01 16:23:56 +0000\n",
       "1       2017-08-01 00:17:27 +0000\n",
       "2       2017-07-31 00:18:03 +0000\n",
       "3       2017-07-30 15:58:51 +0000\n",
       "4       2017-07-29 16:00:24 +0000\n",
       "                  ...            \n",
       "2351    2015-11-16 00:24:50 +0000\n",
       "2352    2015-11-16 00:04:52 +0000\n",
       "2353    2015-11-15 23:21:54 +0000\n",
       "2354    2015-11-15 23:05:30 +0000\n",
       "2355    2015-11-15 22:32:08 +0000\n",
       "Name: timestamp, Length: 2356, dtype: object"
      ]
     },
     "execution_count": 299,
     "metadata": {},
     "output_type": "execute_result"
    }
   ],
   "source": [
    "# check data format\n",
    "twitter_archive.timestamp"
   ]
  },
  {
   "cell_type": "markdown",
   "metadata": {},
   "source": [
    "2. Rating denominator is equal to 0"
   ]
  },
  {
   "cell_type": "code",
   "execution_count": 300,
   "metadata": {},
   "outputs": [
    {
     "data": {
      "text/html": [
       "<div>\n",
       "<style scoped>\n",
       "    .dataframe tbody tr th:only-of-type {\n",
       "        vertical-align: middle;\n",
       "    }\n",
       "\n",
       "    .dataframe tbody tr th {\n",
       "        vertical-align: top;\n",
       "    }\n",
       "\n",
       "    .dataframe thead th {\n",
       "        text-align: right;\n",
       "    }\n",
       "</style>\n",
       "<table border=\"1\" class=\"dataframe\">\n",
       "  <thead>\n",
       "    <tr style=\"text-align: right;\">\n",
       "      <th></th>\n",
       "      <th>tweet_id</th>\n",
       "      <th>in_reply_to_status_id</th>\n",
       "      <th>in_reply_to_user_id</th>\n",
       "      <th>timestamp</th>\n",
       "      <th>source</th>\n",
       "      <th>text</th>\n",
       "      <th>retweeted_status_id</th>\n",
       "      <th>retweeted_status_user_id</th>\n",
       "      <th>retweeted_status_timestamp</th>\n",
       "      <th>expanded_urls</th>\n",
       "      <th>rating_numerator</th>\n",
       "      <th>rating_denominator</th>\n",
       "      <th>name</th>\n",
       "      <th>doggo</th>\n",
       "      <th>floofer</th>\n",
       "      <th>pupper</th>\n",
       "      <th>puppo</th>\n",
       "    </tr>\n",
       "  </thead>\n",
       "  <tbody>\n",
       "    <tr>\n",
       "      <th>313</th>\n",
       "      <td>835246439529840640</td>\n",
       "      <td>8.352460e+17</td>\n",
       "      <td>26259576.0</td>\n",
       "      <td>2017-02-24 21:54:03 +0000</td>\n",
       "      <td>&lt;a href=\"http://twitter.com/download/iphone\" r...</td>\n",
       "      <td>@jonnysun @Lin_Manuel ok jomny I know you're e...</td>\n",
       "      <td>NaN</td>\n",
       "      <td>NaN</td>\n",
       "      <td>NaN</td>\n",
       "      <td>NaN</td>\n",
       "      <td>960</td>\n",
       "      <td>0</td>\n",
       "      <td>None</td>\n",
       "      <td>None</td>\n",
       "      <td>None</td>\n",
       "      <td>None</td>\n",
       "      <td>None</td>\n",
       "    </tr>\n",
       "  </tbody>\n",
       "</table>\n",
       "</div>"
      ],
      "text/plain": [
       "               tweet_id  in_reply_to_status_id  in_reply_to_user_id  \\\n",
       "313  835246439529840640           8.352460e+17           26259576.0   \n",
       "\n",
       "                     timestamp  \\\n",
       "313  2017-02-24 21:54:03 +0000   \n",
       "\n",
       "                                                source  \\\n",
       "313  <a href=\"http://twitter.com/download/iphone\" r...   \n",
       "\n",
       "                                                  text  retweeted_status_id  \\\n",
       "313  @jonnysun @Lin_Manuel ok jomny I know you're e...                  NaN   \n",
       "\n",
       "     retweeted_status_user_id retweeted_status_timestamp expanded_urls  \\\n",
       "313                       NaN                        NaN           NaN   \n",
       "\n",
       "     rating_numerator  rating_denominator  name doggo floofer pupper puppo  \n",
       "313               960                   0  None  None    None   None  None  "
      ]
     },
     "execution_count": 300,
     "metadata": {},
     "output_type": "execute_result"
    }
   ],
   "source": [
    "twitter_archive[twitter_archive.rating_denominator == 0]"
   ]
  },
  {
   "cell_type": "markdown",
   "metadata": {},
   "source": [
    "3. Column expanded_urls has more 2 links, one in which is not twitter link or duplicated links"
   ]
  },
  {
   "cell_type": "code",
   "execution_count": 301,
   "metadata": {},
   "outputs": [
    {
     "data": {
      "text/plain": [
       "4       https://twitter.com/dog_rates/status/891327558...\n",
       "1917    https://twitter.com/dog_rates/status/674291837...\n",
       "674     https://twitter.com/dog_rates/status/789599242...\n",
       "786     https://twitter.com/dog_rates/status/774757898...\n",
       "1823    https://twitter.com/dog_rates/status/676533798...\n",
       "1279    https://twitter.com/dog_rates/status/708845821...\n",
       "1121    https://twitter.com/dog_rates/status/730924654...\n",
       "2299    https://twitter.com/dog_rates/status/667065535...\n",
       "1482                        https://vine.co/v/i5n2irFUYWv\n",
       "841     https://twitter.com/dog_rates/status/759923798...\n",
       "Name: expanded_urls, dtype: object"
      ]
     },
     "execution_count": 301,
     "metadata": {},
     "output_type": "execute_result"
    }
   ],
   "source": [
    "# randomly check the data format in expanded_urls\n",
    "twitter_archive.expanded_urls.sample(10)"
   ]
  },
  {
   "cell_type": "code",
   "execution_count": 302,
   "metadata": {},
   "outputs": [
    {
     "data": {
      "text/plain": [
       "'https://www.gofundme.com/help-my-baby-sierra-get-better,https://twitter.com/dog_rates/status/873213775632977920/photo/1,https://twitter.com/dog_rates/status/873213775632977920/photo/1'"
      ]
     },
     "execution_count": 302,
     "metadata": {},
     "output_type": "execute_result"
    }
   ],
   "source": [
    "# check random data to see expanded_urls\n",
    "twitter_archive.at[98, 'expanded_urls']"
   ]
  },
  {
   "cell_type": "markdown",
   "metadata": {},
   "source": [
    "4. Column name contains wrong names"
   ]
  },
  {
   "cell_type": "code",
   "execution_count": 303,
   "metadata": {},
   "outputs": [
    {
     "data": {
      "text/plain": [
       "526          Ito\n",
       "504        Bauer\n",
       "165         None\n",
       "1129    Pupcasso\n",
       "1474        None\n",
       "1407      Reagan\n",
       "1193           a\n",
       "396        Sweet\n",
       "889       Maggie\n",
       "2303       Carll\n",
       "Name: name, dtype: object"
      ]
     },
     "execution_count": 303,
     "metadata": {},
     "output_type": "execute_result"
    }
   ],
   "source": [
    "# special character is not the right name is: a, the, ...\n",
    "twitter_archive.name.sample(10)"
   ]
  },
  {
   "cell_type": "markdown",
   "metadata": {},
   "source": [
    "5. Tweet_ID = 740373189193256964 the dog has the rating is 14/10 "
   ]
  },
  {
   "cell_type": "code",
   "execution_count": 304,
   "metadata": {},
   "outputs": [
    {
     "data": {
      "text/plain": [
       "'https://twitter.com/dog_rates/status/740373189193256964/photo/1,https://twitter.com/dog_rates/status/740373189193256964/photo/1,https://twitter.com/dog_rates/status/740373189193256964/photo/1,https://twitter.com/dog_rates/status/740373189193256964/photo/1'"
      ]
     },
     "execution_count": 304,
     "metadata": {},
     "output_type": "execute_result"
    }
   ],
   "source": [
    "# check data based on url by visual assessment to see the rating\n",
    "twitter_archive.at[twitter_archive[twitter_archive.tweet_id == 740373189193256964].index.values[0], 'expanded_urls']"
   ]
  },
  {
   "cell_type": "markdown",
   "metadata": {},
   "source": [
    "6. Tweet_ID = 722974582966214656 the dog has the rating is 13/10"
   ]
  },
  {
   "cell_type": "code",
   "execution_count": 305,
   "metadata": {},
   "outputs": [
    {
     "data": {
      "text/plain": [
       "'https://twitter.com/dog_rates/status/722974582966214656/photo/1'"
      ]
     },
     "execution_count": 305,
     "metadata": {},
     "output_type": "execute_result"
    }
   ],
   "source": [
    "# check data based on url by visual assessment to see the rating\n",
    "twitter_archive.at[twitter_archive[twitter_archive.tweet_id == 722974582966214656].index.values[0], 'expanded_urls']"
   ]
  },
  {
   "cell_type": "markdown",
   "metadata": {},
   "source": [
    "7. Tweet_ID = 666287406224695296 the dog has the rating is 9/10"
   ]
  },
  {
   "cell_type": "code",
   "execution_count": 306,
   "metadata": {},
   "outputs": [
    {
     "data": {
      "text/plain": [
       "'https://twitter.com/dog_rates/status/666287406224695296/photo/1'"
      ]
     },
     "execution_count": 306,
     "metadata": {},
     "output_type": "execute_result"
    }
   ],
   "source": [
    "# check data based on url by visual assessment to see the rating\n",
    "twitter_archive.at[twitter_archive[twitter_archive.tweet_id == 666287406224695296].index.values[0], 'expanded_urls']"
   ]
  },
  {
   "cell_type": "markdown",
   "metadata": {},
   "source": [
    "8. Tweet_ID = 775096608509886464 does not exist, it is a duplication of Tweet_ID = 740373189193256964"
   ]
  },
  {
   "cell_type": "code",
   "execution_count": 307,
   "metadata": {},
   "outputs": [
    {
     "data": {
      "text/plain": [
       "'https://twitter.com/dog_rates/status/740373189193256964/photo/1,https://twitter.com/dog_rates/status/740373189193256964/photo/1,https://twitter.com/dog_rates/status/740373189193256964/photo/1,https://twitter.com/dog_rates/status/740373189193256964/photo/1'"
      ]
     },
     "execution_count": 307,
     "metadata": {},
     "output_type": "execute_result"
    }
   ],
   "source": [
    "# the id in the url is 740373189193256964 not 775096608509886464\n",
    "twitter_archive.at[twitter_archive[twitter_archive.tweet_id == 775096608509886464].index.values[0], 'expanded_urls']"
   ]
  },
  {
   "cell_type": "markdown",
   "metadata": {},
   "source": [
    "9. Remove data in twitter-archive-enhancement.csv for matching with the image_prediction.tsv - only data not beyond August 1st, 2017"
   ]
  },
  {
   "cell_type": "code",
   "execution_count": 308,
   "metadata": {},
   "outputs": [
    {
     "data": {
      "text/html": [
       "<div>\n",
       "<style scoped>\n",
       "    .dataframe tbody tr th:only-of-type {\n",
       "        vertical-align: middle;\n",
       "    }\n",
       "\n",
       "    .dataframe tbody tr th {\n",
       "        vertical-align: top;\n",
       "    }\n",
       "\n",
       "    .dataframe thead th {\n",
       "        text-align: right;\n",
       "    }\n",
       "</style>\n",
       "<table border=\"1\" class=\"dataframe\">\n",
       "  <thead>\n",
       "    <tr style=\"text-align: right;\">\n",
       "      <th></th>\n",
       "      <th>tweet_id</th>\n",
       "      <th>in_reply_to_status_id</th>\n",
       "      <th>in_reply_to_user_id</th>\n",
       "      <th>timestamp</th>\n",
       "      <th>source</th>\n",
       "      <th>text</th>\n",
       "      <th>retweeted_status_id</th>\n",
       "      <th>retweeted_status_user_id</th>\n",
       "      <th>retweeted_status_timestamp</th>\n",
       "      <th>expanded_urls</th>\n",
       "      <th>rating_numerator</th>\n",
       "      <th>rating_denominator</th>\n",
       "      <th>name</th>\n",
       "      <th>doggo</th>\n",
       "      <th>floofer</th>\n",
       "      <th>pupper</th>\n",
       "      <th>puppo</th>\n",
       "    </tr>\n",
       "  </thead>\n",
       "  <tbody>\n",
       "    <tr>\n",
       "      <th>0</th>\n",
       "      <td>892420643555336193</td>\n",
       "      <td>NaN</td>\n",
       "      <td>NaN</td>\n",
       "      <td>2017-08-01 16:23:56 +0000</td>\n",
       "      <td>&lt;a href=\"http://twitter.com/download/iphone\" r...</td>\n",
       "      <td>This is Phineas. He's a mystical boy. Only eve...</td>\n",
       "      <td>NaN</td>\n",
       "      <td>NaN</td>\n",
       "      <td>NaN</td>\n",
       "      <td>https://twitter.com/dog_rates/status/892420643...</td>\n",
       "      <td>13</td>\n",
       "      <td>10</td>\n",
       "      <td>Phineas</td>\n",
       "      <td>None</td>\n",
       "      <td>None</td>\n",
       "      <td>None</td>\n",
       "      <td>None</td>\n",
       "    </tr>\n",
       "    <tr>\n",
       "      <th>1</th>\n",
       "      <td>892177421306343426</td>\n",
       "      <td>NaN</td>\n",
       "      <td>NaN</td>\n",
       "      <td>2017-08-01 00:17:27 +0000</td>\n",
       "      <td>&lt;a href=\"http://twitter.com/download/iphone\" r...</td>\n",
       "      <td>This is Tilly. She's just checking pup on you....</td>\n",
       "      <td>NaN</td>\n",
       "      <td>NaN</td>\n",
       "      <td>NaN</td>\n",
       "      <td>https://twitter.com/dog_rates/status/892177421...</td>\n",
       "      <td>13</td>\n",
       "      <td>10</td>\n",
       "      <td>Tilly</td>\n",
       "      <td>None</td>\n",
       "      <td>None</td>\n",
       "      <td>None</td>\n",
       "      <td>None</td>\n",
       "    </tr>\n",
       "  </tbody>\n",
       "</table>\n",
       "</div>"
      ],
      "text/plain": [
       "             tweet_id  in_reply_to_status_id  in_reply_to_user_id  \\\n",
       "0  892420643555336193                    NaN                  NaN   \n",
       "1  892177421306343426                    NaN                  NaN   \n",
       "\n",
       "                   timestamp  \\\n",
       "0  2017-08-01 16:23:56 +0000   \n",
       "1  2017-08-01 00:17:27 +0000   \n",
       "\n",
       "                                              source  \\\n",
       "0  <a href=\"http://twitter.com/download/iphone\" r...   \n",
       "1  <a href=\"http://twitter.com/download/iphone\" r...   \n",
       "\n",
       "                                                text  retweeted_status_id  \\\n",
       "0  This is Phineas. He's a mystical boy. Only eve...                  NaN   \n",
       "1  This is Tilly. She's just checking pup on you....                  NaN   \n",
       "\n",
       "   retweeted_status_user_id retweeted_status_timestamp  \\\n",
       "0                       NaN                        NaN   \n",
       "1                       NaN                        NaN   \n",
       "\n",
       "                                       expanded_urls  rating_numerator  \\\n",
       "0  https://twitter.com/dog_rates/status/892420643...                13   \n",
       "1  https://twitter.com/dog_rates/status/892177421...                13   \n",
       "\n",
       "   rating_denominator     name doggo floofer pupper puppo  \n",
       "0                  10  Phineas  None    None   None  None  \n",
       "1                  10    Tilly  None    None   None  None  "
      ]
     },
     "execution_count": 308,
     "metadata": {},
     "output_type": "execute_result"
    }
   ],
   "source": [
    "twitter_archive.loc[twitter_archive.timestamp > '2017-08-01']"
   ]
  },
  {
   "cell_type": "markdown",
   "metadata": {},
   "source": [
    "#### Issue #10: Rmove retweets to keep only tweets to keep original rate point\n"
   ]
  },
  {
   "cell_type": "code",
   "execution_count": 309,
   "metadata": {},
   "outputs": [
    {
     "data": {
      "text/html": [
       "<div>\n",
       "<style scoped>\n",
       "    .dataframe tbody tr th:only-of-type {\n",
       "        vertical-align: middle;\n",
       "    }\n",
       "\n",
       "    .dataframe tbody tr th {\n",
       "        vertical-align: top;\n",
       "    }\n",
       "\n",
       "    .dataframe thead th {\n",
       "        text-align: right;\n",
       "    }\n",
       "</style>\n",
       "<table border=\"1\" class=\"dataframe\">\n",
       "  <thead>\n",
       "    <tr style=\"text-align: right;\">\n",
       "      <th></th>\n",
       "      <th>tweet_id</th>\n",
       "      <th>in_reply_to_status_id</th>\n",
       "      <th>in_reply_to_user_id</th>\n",
       "      <th>timestamp</th>\n",
       "      <th>source</th>\n",
       "      <th>text</th>\n",
       "      <th>retweeted_status_id</th>\n",
       "      <th>retweeted_status_user_id</th>\n",
       "      <th>retweeted_status_timestamp</th>\n",
       "      <th>expanded_urls</th>\n",
       "      <th>rating_numerator</th>\n",
       "      <th>rating_denominator</th>\n",
       "      <th>name</th>\n",
       "      <th>doggo</th>\n",
       "      <th>floofer</th>\n",
       "      <th>pupper</th>\n",
       "      <th>puppo</th>\n",
       "    </tr>\n",
       "  </thead>\n",
       "  <tbody>\n",
       "    <tr>\n",
       "      <th>0</th>\n",
       "      <td>892420643555336193</td>\n",
       "      <td>NaN</td>\n",
       "      <td>NaN</td>\n",
       "      <td>2017-08-01 16:23:56 +0000</td>\n",
       "      <td>&lt;a href=\"http://twitter.com/download/iphone\" r...</td>\n",
       "      <td>This is Phineas. He's a mystical boy. Only eve...</td>\n",
       "      <td>NaN</td>\n",
       "      <td>NaN</td>\n",
       "      <td>NaN</td>\n",
       "      <td>https://twitter.com/dog_rates/status/892420643...</td>\n",
       "      <td>13</td>\n",
       "      <td>10</td>\n",
       "      <td>Phineas</td>\n",
       "      <td>None</td>\n",
       "      <td>None</td>\n",
       "      <td>None</td>\n",
       "      <td>None</td>\n",
       "    </tr>\n",
       "    <tr>\n",
       "      <th>1</th>\n",
       "      <td>892177421306343426</td>\n",
       "      <td>NaN</td>\n",
       "      <td>NaN</td>\n",
       "      <td>2017-08-01 00:17:27 +0000</td>\n",
       "      <td>&lt;a href=\"http://twitter.com/download/iphone\" r...</td>\n",
       "      <td>This is Tilly. She's just checking pup on you....</td>\n",
       "      <td>NaN</td>\n",
       "      <td>NaN</td>\n",
       "      <td>NaN</td>\n",
       "      <td>https://twitter.com/dog_rates/status/892177421...</td>\n",
       "      <td>13</td>\n",
       "      <td>10</td>\n",
       "      <td>Tilly</td>\n",
       "      <td>None</td>\n",
       "      <td>None</td>\n",
       "      <td>None</td>\n",
       "      <td>None</td>\n",
       "    </tr>\n",
       "    <tr>\n",
       "      <th>2</th>\n",
       "      <td>891815181378084864</td>\n",
       "      <td>NaN</td>\n",
       "      <td>NaN</td>\n",
       "      <td>2017-07-31 00:18:03 +0000</td>\n",
       "      <td>&lt;a href=\"http://twitter.com/download/iphone\" r...</td>\n",
       "      <td>This is Archie. He is a rare Norwegian Pouncin...</td>\n",
       "      <td>NaN</td>\n",
       "      <td>NaN</td>\n",
       "      <td>NaN</td>\n",
       "      <td>https://twitter.com/dog_rates/status/891815181...</td>\n",
       "      <td>12</td>\n",
       "      <td>10</td>\n",
       "      <td>Archie</td>\n",
       "      <td>None</td>\n",
       "      <td>None</td>\n",
       "      <td>None</td>\n",
       "      <td>None</td>\n",
       "    </tr>\n",
       "    <tr>\n",
       "      <th>3</th>\n",
       "      <td>891689557279858688</td>\n",
       "      <td>NaN</td>\n",
       "      <td>NaN</td>\n",
       "      <td>2017-07-30 15:58:51 +0000</td>\n",
       "      <td>&lt;a href=\"http://twitter.com/download/iphone\" r...</td>\n",
       "      <td>This is Darla. She commenced a snooze mid meal...</td>\n",
       "      <td>NaN</td>\n",
       "      <td>NaN</td>\n",
       "      <td>NaN</td>\n",
       "      <td>https://twitter.com/dog_rates/status/891689557...</td>\n",
       "      <td>13</td>\n",
       "      <td>10</td>\n",
       "      <td>Darla</td>\n",
       "      <td>None</td>\n",
       "      <td>None</td>\n",
       "      <td>None</td>\n",
       "      <td>None</td>\n",
       "    </tr>\n",
       "    <tr>\n",
       "      <th>4</th>\n",
       "      <td>891327558926688256</td>\n",
       "      <td>NaN</td>\n",
       "      <td>NaN</td>\n",
       "      <td>2017-07-29 16:00:24 +0000</td>\n",
       "      <td>&lt;a href=\"http://twitter.com/download/iphone\" r...</td>\n",
       "      <td>This is Franklin. He would like you to stop ca...</td>\n",
       "      <td>NaN</td>\n",
       "      <td>NaN</td>\n",
       "      <td>NaN</td>\n",
       "      <td>https://twitter.com/dog_rates/status/891327558...</td>\n",
       "      <td>12</td>\n",
       "      <td>10</td>\n",
       "      <td>Franklin</td>\n",
       "      <td>None</td>\n",
       "      <td>None</td>\n",
       "      <td>None</td>\n",
       "      <td>None</td>\n",
       "    </tr>\n",
       "    <tr>\n",
       "      <th>...</th>\n",
       "      <td>...</td>\n",
       "      <td>...</td>\n",
       "      <td>...</td>\n",
       "      <td>...</td>\n",
       "      <td>...</td>\n",
       "      <td>...</td>\n",
       "      <td>...</td>\n",
       "      <td>...</td>\n",
       "      <td>...</td>\n",
       "      <td>...</td>\n",
       "      <td>...</td>\n",
       "      <td>...</td>\n",
       "      <td>...</td>\n",
       "      <td>...</td>\n",
       "      <td>...</td>\n",
       "      <td>...</td>\n",
       "      <td>...</td>\n",
       "    </tr>\n",
       "    <tr>\n",
       "      <th>2351</th>\n",
       "      <td>666049248165822465</td>\n",
       "      <td>NaN</td>\n",
       "      <td>NaN</td>\n",
       "      <td>2015-11-16 00:24:50 +0000</td>\n",
       "      <td>&lt;a href=\"http://twitter.com/download/iphone\" r...</td>\n",
       "      <td>Here we have a 1949 1st generation vulpix. Enj...</td>\n",
       "      <td>NaN</td>\n",
       "      <td>NaN</td>\n",
       "      <td>NaN</td>\n",
       "      <td>https://twitter.com/dog_rates/status/666049248...</td>\n",
       "      <td>5</td>\n",
       "      <td>10</td>\n",
       "      <td>None</td>\n",
       "      <td>None</td>\n",
       "      <td>None</td>\n",
       "      <td>None</td>\n",
       "      <td>None</td>\n",
       "    </tr>\n",
       "    <tr>\n",
       "      <th>2352</th>\n",
       "      <td>666044226329800704</td>\n",
       "      <td>NaN</td>\n",
       "      <td>NaN</td>\n",
       "      <td>2015-11-16 00:04:52 +0000</td>\n",
       "      <td>&lt;a href=\"http://twitter.com/download/iphone\" r...</td>\n",
       "      <td>This is a purebred Piers Morgan. Loves to Netf...</td>\n",
       "      <td>NaN</td>\n",
       "      <td>NaN</td>\n",
       "      <td>NaN</td>\n",
       "      <td>https://twitter.com/dog_rates/status/666044226...</td>\n",
       "      <td>6</td>\n",
       "      <td>10</td>\n",
       "      <td>a</td>\n",
       "      <td>None</td>\n",
       "      <td>None</td>\n",
       "      <td>None</td>\n",
       "      <td>None</td>\n",
       "    </tr>\n",
       "    <tr>\n",
       "      <th>2353</th>\n",
       "      <td>666033412701032449</td>\n",
       "      <td>NaN</td>\n",
       "      <td>NaN</td>\n",
       "      <td>2015-11-15 23:21:54 +0000</td>\n",
       "      <td>&lt;a href=\"http://twitter.com/download/iphone\" r...</td>\n",
       "      <td>Here is a very happy pup. Big fan of well-main...</td>\n",
       "      <td>NaN</td>\n",
       "      <td>NaN</td>\n",
       "      <td>NaN</td>\n",
       "      <td>https://twitter.com/dog_rates/status/666033412...</td>\n",
       "      <td>9</td>\n",
       "      <td>10</td>\n",
       "      <td>a</td>\n",
       "      <td>None</td>\n",
       "      <td>None</td>\n",
       "      <td>None</td>\n",
       "      <td>None</td>\n",
       "    </tr>\n",
       "    <tr>\n",
       "      <th>2354</th>\n",
       "      <td>666029285002620928</td>\n",
       "      <td>NaN</td>\n",
       "      <td>NaN</td>\n",
       "      <td>2015-11-15 23:05:30 +0000</td>\n",
       "      <td>&lt;a href=\"http://twitter.com/download/iphone\" r...</td>\n",
       "      <td>This is a western brown Mitsubishi terrier. Up...</td>\n",
       "      <td>NaN</td>\n",
       "      <td>NaN</td>\n",
       "      <td>NaN</td>\n",
       "      <td>https://twitter.com/dog_rates/status/666029285...</td>\n",
       "      <td>7</td>\n",
       "      <td>10</td>\n",
       "      <td>a</td>\n",
       "      <td>None</td>\n",
       "      <td>None</td>\n",
       "      <td>None</td>\n",
       "      <td>None</td>\n",
       "    </tr>\n",
       "    <tr>\n",
       "      <th>2355</th>\n",
       "      <td>666020888022790149</td>\n",
       "      <td>NaN</td>\n",
       "      <td>NaN</td>\n",
       "      <td>2015-11-15 22:32:08 +0000</td>\n",
       "      <td>&lt;a href=\"http://twitter.com/download/iphone\" r...</td>\n",
       "      <td>Here we have a Japanese Irish Setter. Lost eye...</td>\n",
       "      <td>NaN</td>\n",
       "      <td>NaN</td>\n",
       "      <td>NaN</td>\n",
       "      <td>https://twitter.com/dog_rates/status/666020888...</td>\n",
       "      <td>8</td>\n",
       "      <td>10</td>\n",
       "      <td>None</td>\n",
       "      <td>None</td>\n",
       "      <td>None</td>\n",
       "      <td>None</td>\n",
       "      <td>None</td>\n",
       "    </tr>\n",
       "  </tbody>\n",
       "</table>\n",
       "<p>2175 rows × 17 columns</p>\n",
       "</div>"
      ],
      "text/plain": [
       "                tweet_id  in_reply_to_status_id  in_reply_to_user_id  \\\n",
       "0     892420643555336193                    NaN                  NaN   \n",
       "1     892177421306343426                    NaN                  NaN   \n",
       "2     891815181378084864                    NaN                  NaN   \n",
       "3     891689557279858688                    NaN                  NaN   \n",
       "4     891327558926688256                    NaN                  NaN   \n",
       "...                  ...                    ...                  ...   \n",
       "2351  666049248165822465                    NaN                  NaN   \n",
       "2352  666044226329800704                    NaN                  NaN   \n",
       "2353  666033412701032449                    NaN                  NaN   \n",
       "2354  666029285002620928                    NaN                  NaN   \n",
       "2355  666020888022790149                    NaN                  NaN   \n",
       "\n",
       "                      timestamp  \\\n",
       "0     2017-08-01 16:23:56 +0000   \n",
       "1     2017-08-01 00:17:27 +0000   \n",
       "2     2017-07-31 00:18:03 +0000   \n",
       "3     2017-07-30 15:58:51 +0000   \n",
       "4     2017-07-29 16:00:24 +0000   \n",
       "...                         ...   \n",
       "2351  2015-11-16 00:24:50 +0000   \n",
       "2352  2015-11-16 00:04:52 +0000   \n",
       "2353  2015-11-15 23:21:54 +0000   \n",
       "2354  2015-11-15 23:05:30 +0000   \n",
       "2355  2015-11-15 22:32:08 +0000   \n",
       "\n",
       "                                                 source  \\\n",
       "0     <a href=\"http://twitter.com/download/iphone\" r...   \n",
       "1     <a href=\"http://twitter.com/download/iphone\" r...   \n",
       "2     <a href=\"http://twitter.com/download/iphone\" r...   \n",
       "3     <a href=\"http://twitter.com/download/iphone\" r...   \n",
       "4     <a href=\"http://twitter.com/download/iphone\" r...   \n",
       "...                                                 ...   \n",
       "2351  <a href=\"http://twitter.com/download/iphone\" r...   \n",
       "2352  <a href=\"http://twitter.com/download/iphone\" r...   \n",
       "2353  <a href=\"http://twitter.com/download/iphone\" r...   \n",
       "2354  <a href=\"http://twitter.com/download/iphone\" r...   \n",
       "2355  <a href=\"http://twitter.com/download/iphone\" r...   \n",
       "\n",
       "                                                   text  retweeted_status_id  \\\n",
       "0     This is Phineas. He's a mystical boy. Only eve...                  NaN   \n",
       "1     This is Tilly. She's just checking pup on you....                  NaN   \n",
       "2     This is Archie. He is a rare Norwegian Pouncin...                  NaN   \n",
       "3     This is Darla. She commenced a snooze mid meal...                  NaN   \n",
       "4     This is Franklin. He would like you to stop ca...                  NaN   \n",
       "...                                                 ...                  ...   \n",
       "2351  Here we have a 1949 1st generation vulpix. Enj...                  NaN   \n",
       "2352  This is a purebred Piers Morgan. Loves to Netf...                  NaN   \n",
       "2353  Here is a very happy pup. Big fan of well-main...                  NaN   \n",
       "2354  This is a western brown Mitsubishi terrier. Up...                  NaN   \n",
       "2355  Here we have a Japanese Irish Setter. Lost eye...                  NaN   \n",
       "\n",
       "      retweeted_status_user_id retweeted_status_timestamp  \\\n",
       "0                          NaN                        NaN   \n",
       "1                          NaN                        NaN   \n",
       "2                          NaN                        NaN   \n",
       "3                          NaN                        NaN   \n",
       "4                          NaN                        NaN   \n",
       "...                        ...                        ...   \n",
       "2351                       NaN                        NaN   \n",
       "2352                       NaN                        NaN   \n",
       "2353                       NaN                        NaN   \n",
       "2354                       NaN                        NaN   \n",
       "2355                       NaN                        NaN   \n",
       "\n",
       "                                          expanded_urls  rating_numerator  \\\n",
       "0     https://twitter.com/dog_rates/status/892420643...                13   \n",
       "1     https://twitter.com/dog_rates/status/892177421...                13   \n",
       "2     https://twitter.com/dog_rates/status/891815181...                12   \n",
       "3     https://twitter.com/dog_rates/status/891689557...                13   \n",
       "4     https://twitter.com/dog_rates/status/891327558...                12   \n",
       "...                                                 ...               ...   \n",
       "2351  https://twitter.com/dog_rates/status/666049248...                 5   \n",
       "2352  https://twitter.com/dog_rates/status/666044226...                 6   \n",
       "2353  https://twitter.com/dog_rates/status/666033412...                 9   \n",
       "2354  https://twitter.com/dog_rates/status/666029285...                 7   \n",
       "2355  https://twitter.com/dog_rates/status/666020888...                 8   \n",
       "\n",
       "      rating_denominator      name doggo floofer pupper puppo  \n",
       "0                     10   Phineas  None    None   None  None  \n",
       "1                     10     Tilly  None    None   None  None  \n",
       "2                     10    Archie  None    None   None  None  \n",
       "3                     10     Darla  None    None   None  None  \n",
       "4                     10  Franklin  None    None   None  None  \n",
       "...                  ...       ...   ...     ...    ...   ...  \n",
       "2351                  10      None  None    None   None  None  \n",
       "2352                  10         a  None    None   None  None  \n",
       "2353                  10         a  None    None   None  None  \n",
       "2354                  10         a  None    None   None  None  \n",
       "2355                  10      None  None    None   None  None  \n",
       "\n",
       "[2175 rows x 17 columns]"
      ]
     },
     "execution_count": 309,
     "metadata": {},
     "output_type": "execute_result"
    }
   ],
   "source": [
    "twitter_archive[twitter_archive.retweeted_status_id.isnull()]\n",
    "twitter_archive[twitter_archive.retweeted_status_user_id.isnull()]\n",
    "twitter_archive[twitter_archive.retweeted_status_timestamp.isnull()]"
   ]
  },
  {
   "cell_type": "markdown",
   "metadata": {},
   "source": [
    "### Tidiness Issues"
   ]
  },
  {
   "cell_type": "markdown",
   "metadata": {},
   "source": [
    "1. Unpivot doggo, floofer, pupper, puppo into 1 column"
   ]
  },
  {
   "cell_type": "markdown",
   "metadata": {},
   "source": [
    "2. Match image prediction columns in image_prediction.tsv to define dog tweet_id and columns retweet count and favorite count in tweet_api for analysis"
   ]
  },
  {
   "cell_type": "markdown",
   "metadata": {
    "extensions": {
     "jupyter_dashboards": {
      "version": 1,
      "views": {
       "grid_default": {
        "col": 4,
        "height": 4,
        "hidden": false,
        "row": 32,
        "width": 4
       },
       "report_default": {
        "hidden": false
       }
      }
     }
    }
   },
   "source": [
    "## Cleaning Data\n",
    "In this section, clean **all** of the issues you documented while assessing. \n",
    "\n",
    "**Note:** Make a copy of the original data before cleaning. Cleaning includes merging individual pieces of data according to the rules of [tidy data](https://cran.r-project.org/web/packages/tidyr/vignettes/tidy-data.html). The result should be a high-quality and tidy master pandas DataFrame (or DataFrames, if appropriate)."
   ]
  },
  {
   "cell_type": "code",
   "execution_count": 310,
   "metadata": {},
   "outputs": [],
   "source": [
    "# Make copies of original pieces of data\n",
    "twitter_archive_cp = twitter_archive.copy()\n",
    "image_prediction_cp = image_prediction.copy()\n",
    "tweet_api_cp = tweet_api.copy()"
   ]
  },
  {
   "cell_type": "markdown",
   "metadata": {},
   "source": [
    "### Quality issue"
   ]
  },
  {
   "cell_type": "markdown",
   "metadata": {},
   "source": [
    "#### Issue #1:"
   ]
  },
  {
   "cell_type": "markdown",
   "metadata": {},
   "source": [
    "##### Define: Change datatype timestamp from string into datetime to exclude tweets beyond August 1st, 2017"
   ]
  },
  {
   "cell_type": "markdown",
   "metadata": {},
   "source": [
    "##### Code"
   ]
  },
  {
   "cell_type": "code",
   "execution_count": 311,
   "metadata": {},
   "outputs": [],
   "source": [
    "# change datatype\n",
    "twitter_archive_cp.timestamp = pd.to_datetime(twitter_archive_cp.timestamp)\n",
    "\n",
    "# exclude data with timestamp beyond August 1st, 2017\n",
    "twitter_archive_cp = twitter_archive_cp.loc[twitter_archive_cp.timestamp <= '2017-08-01']\n"
   ]
  },
  {
   "cell_type": "markdown",
   "metadata": {},
   "source": [
    "##### Test"
   ]
  },
  {
   "cell_type": "code",
   "execution_count": 312,
   "metadata": {},
   "outputs": [
    {
     "name": "stdout",
     "output_type": "stream",
     "text": [
      "<class 'pandas.core.frame.DataFrame'>\n",
      "Int64Index: 2354 entries, 2 to 2355\n",
      "Data columns (total 17 columns):\n",
      " #   Column                      Non-Null Count  Dtype              \n",
      "---  ------                      --------------  -----              \n",
      " 0   tweet_id                    2354 non-null   int64              \n",
      " 1   in_reply_to_status_id       78 non-null     float64            \n",
      " 2   in_reply_to_user_id         78 non-null     float64            \n",
      " 3   timestamp                   2354 non-null   datetime64[ns, UTC]\n",
      " 4   source                      2354 non-null   object             \n",
      " 5   text                        2354 non-null   object             \n",
      " 6   retweeted_status_id         181 non-null    float64            \n",
      " 7   retweeted_status_user_id    181 non-null    float64            \n",
      " 8   retweeted_status_timestamp  181 non-null    object             \n",
      " 9   expanded_urls               2295 non-null   object             \n",
      " 10  rating_numerator            2354 non-null   int64              \n",
      " 11  rating_denominator          2354 non-null   int64              \n",
      " 12  name                        2354 non-null   object             \n",
      " 13  doggo                       2354 non-null   object             \n",
      " 14  floofer                     2354 non-null   object             \n",
      " 15  pupper                      2354 non-null   object             \n",
      " 16  puppo                       2354 non-null   object             \n",
      "dtypes: datetime64[ns, UTC](1), float64(4), int64(3), object(9)\n",
      "memory usage: 331.0+ KB\n"
     ]
    }
   ],
   "source": [
    "# check datatype\n",
    "twitter_archive_cp.info()"
   ]
  },
  {
   "cell_type": "code",
   "execution_count": 313,
   "metadata": {},
   "outputs": [
    {
     "data": {
      "text/plain": [
       "0"
      ]
     },
     "execution_count": 313,
     "metadata": {},
     "output_type": "execute_result"
    }
   ],
   "source": [
    "# check the data in datetime to make sure not beyond 2017, Aug 1st.\n",
    "(twitter_archive_cp.timestamp > '2017-08-01').sum()"
   ]
  },
  {
   "cell_type": "markdown",
   "metadata": {},
   "source": [
    "#### Issue #2:"
   ]
  },
  {
   "cell_type": "markdown",
   "metadata": {
    "collapsed": true,
    "extensions": {
     "jupyter_dashboards": {
      "version": 1,
      "views": {
       "grid_default": {
        "hidden": true
       },
       "report_default": {
        "hidden": true
       }
      }
     }
    }
   },
   "source": [
    "##### Define: Rating denominator is equal to 0\n",
    "- Rating denominator should not be equal to 0, if exist, need to be excluded. "
   ]
  },
  {
   "cell_type": "markdown",
   "metadata": {},
   "source": [
    "##### Code"
   ]
  },
  {
   "cell_type": "code",
   "execution_count": 314,
   "metadata": {},
   "outputs": [],
   "source": [
    "# exclude the record out of data\n",
    "twitter_archive_cp = twitter_archive_cp[twitter_archive_cp.rating_denominator != 0]"
   ]
  },
  {
   "cell_type": "markdown",
   "metadata": {},
   "source": [
    "##### Test"
   ]
  },
  {
   "cell_type": "code",
   "execution_count": 315,
   "metadata": {},
   "outputs": [
    {
     "data": {
      "text/plain": [
       "0"
      ]
     },
     "execution_count": 315,
     "metadata": {},
     "output_type": "execute_result"
    }
   ],
   "source": [
    "# test the result\n",
    "(twitter_archive_cp.rating_denominator == 0).sum()"
   ]
  },
  {
   "cell_type": "markdown",
   "metadata": {},
   "source": [
    "#### Issue #3: "
   ]
  },
  {
   "cell_type": "markdown",
   "metadata": {},
   "source": [
    "##### Define: Column expanded_urls has more than 2 links, one in which is not twitter link or duplicated links\n",
    "- Tweet id has duplicated urls \n",
    "- Tweet id has other link apart from Twitter link\n"
   ]
  },
  {
   "cell_type": "markdown",
   "metadata": {},
   "source": [
    "##### Code"
   ]
  },
  {
   "cell_type": "code",
   "execution_count": 316,
   "metadata": {},
   "outputs": [],
   "source": [
    "import re"
   ]
  },
  {
   "cell_type": "code",
   "execution_count": 317,
   "metadata": {},
   "outputs": [
    {
     "name": "stdout",
     "output_type": "stream",
     "text": [
      "number of tweet_id having more than 1 url 82.0\n",
      "number of tweet_id having more than 2 urls 0.0\n"
     ]
    }
   ],
   "source": [
    "# create a serie to check url different than twitter url\n",
    "arr = twitter_archive_cp['expanded_urls'].apply(lambda x: len(set(x.split(','))) if str(x) != 'nan' else x)\n",
    "# check the rows that number of tweet_id having more than 1 url\n",
    "print('number of tweet_id having more than 1 url', arr[(arr > 1)].sum()) \n",
    "print('number of tweet_id having more than 2 urls', arr[(arr > 2)].sum())\n",
    "\n",
    "# apply for tweet_id having duplicated urls\n",
    "getOnelink = lambda x: list(set(x.split(',')))[0] if (str(x) != 'nan' and len(list(set(x.split(',')))) == 1) else x\n",
    "twitter_archive_cp['expanded_urls'] = twitter_archive_cp['expanded_urls'].apply(lambda x: getOnelink(x))\n",
    "\n",
    "# apply for tweet_id having more than 1 unique url\n",
    "def getTwitter(a): \n",
    "    return list(filter(lambda x: re.findall(r'.+twitter.com.+', x), a))[0]\n",
    "\n",
    "getTwitterlink = lambda x: getTwitter(x.split(',')) if (str(x) != 'nan' and len(list(set(x.split(',')))) > 1) else x\n",
    "twitter_archive_cp['expanded_urls'] = twitter_archive_cp['expanded_urls'].apply(lambda x: getTwitterlink(x))\n"
   ]
  },
  {
   "cell_type": "markdown",
   "metadata": {},
   "source": [
    "##### Test"
   ]
  },
  {
   "cell_type": "code",
   "execution_count": 318,
   "metadata": {},
   "outputs": [
    {
     "data": {
      "text/plain": [
       "1226    https://twitter.com/dog_rates/status/713919462...\n",
       "1094    https://twitter.com/dog_rates/status/736736130...\n",
       "1329    https://twitter.com/dog_rates/status/705898680...\n",
       "874     https://twitter.com/dog_rates/status/761292947...\n",
       "1182    https://twitter.com/dog_rates/status/718971898...\n",
       "1251    https://twitter.com/dog_rates/status/710997087...\n",
       "2012    https://twitter.com/dog_rates/status/672239279...\n",
       "1045    https://twitter.com/dog_rates/status/743595368...\n",
       "1338    https://twitter.com/dog_rates/status/705066031...\n",
       "669     https://twitter.com/dog_rates/status/762699858...\n",
       "Name: expanded_urls, dtype: object"
      ]
     },
     "execution_count": 318,
     "metadata": {},
     "output_type": "execute_result"
    }
   ],
   "source": [
    "# random check the column expanded_urls\n",
    "twitter_archive_cp['expanded_urls'].sample(10)"
   ]
  },
  {
   "cell_type": "code",
   "execution_count": 319,
   "metadata": {},
   "outputs": [
    {
     "data": {
      "text/plain": [
       "0"
      ]
     },
     "execution_count": 319,
     "metadata": {},
     "output_type": "execute_result"
    }
   ],
   "source": [
    "# check row having more than one link\n",
    "(twitter_archive_cp['expanded_urls'].apply(lambda x: len(x.split(',')) if str(x) != 'nan' else x) > 1).sum()"
   ]
  },
  {
   "cell_type": "markdown",
   "metadata": {},
   "source": [
    "#### Issue #4: "
   ]
  },
  {
   "cell_type": "markdown",
   "metadata": {},
   "source": [
    "##### Define: Column name contains wrong names\n",
    "- Special letter is not the right name for some tweet ids, such as a, the ..."
   ]
  },
  {
   "cell_type": "markdown",
   "metadata": {},
   "source": [
    "##### Code"
   ]
  },
  {
   "cell_type": "code",
   "execution_count": 320,
   "metadata": {},
   "outputs": [],
   "source": [
    "# define the lower string not the name of dogs\n",
    "twitter_archive_cp.name = twitter_archive_cp.name.apply(lambda x: 'None' if x.lower() == x else x)\n"
   ]
  },
  {
   "cell_type": "markdown",
   "metadata": {},
   "source": [
    "##### Test"
   ]
  },
  {
   "cell_type": "code",
   "execution_count": 321,
   "metadata": {},
   "outputs": [
    {
     "data": {
      "text/plain": [
       "1690       Asher\n",
       "247         None\n",
       "798         None\n",
       "1269       Vince\n",
       "2189        None\n",
       "650       Bailey\n",
       "1134     Coleman\n",
       "742         None\n",
       "1840        None\n",
       "462     Herschel\n",
       "Name: name, dtype: object"
      ]
     },
     "execution_count": 321,
     "metadata": {},
     "output_type": "execute_result"
    }
   ],
   "source": [
    "twitter_archive_cp.name.sample(10)"
   ]
  },
  {
   "cell_type": "code",
   "execution_count": 322,
   "metadata": {},
   "outputs": [
    {
     "data": {
      "text/plain": [
       "Series([], Name: name, dtype: object)"
      ]
     },
     "execution_count": 322,
     "metadata": {},
     "output_type": "execute_result"
    }
   ],
   "source": [
    "twitter_archive_cp.name[twitter_archive_cp.name.str.lower() == twitter_archive_cp.name]"
   ]
  },
  {
   "cell_type": "markdown",
   "metadata": {},
   "source": [
    "#### Issue #5, #6, #7:"
   ]
  },
  {
   "cell_type": "markdown",
   "metadata": {},
   "source": [
    "##### Define: \n",
    "- Tweet_ID = 740373189193256964 the dog has the rating is 14/10 \n",
    "- Tweet_ID = 722974582966214656 the dog has the rating is 13/10\n",
    "- Tweet_ID = 666287406224695296 the dog has the rating is 9/10"
   ]
  },
  {
   "cell_type": "markdown",
   "metadata": {},
   "source": [
    "##### Code"
   ]
  },
  {
   "cell_type": "code",
   "execution_count": 323,
   "metadata": {},
   "outputs": [],
   "source": [
    "# set function to chanfe value numerator, denominator by twwet_id\n",
    "def getIndex(tweet_id):\n",
    "    return twitter_archive_cp[twitter_archive_cp.tweet_id == tweet_id].index.values[0]    "
   ]
  },
  {
   "cell_type": "code",
   "execution_count": 324,
   "metadata": {},
   "outputs": [],
   "source": [
    "list_id = [740373189193256964, 722974582966214656, 666287406224695296]\n",
    "list_no =[14,13,9]\n",
    "list_de = [10]*3"
   ]
  },
  {
   "cell_type": "code",
   "execution_count": 325,
   "metadata": {},
   "outputs": [],
   "source": [
    "# change the cell value for numerator and denominator values\n",
    "for i,j,k in zip(list_id, list_no, list_de):\n",
    "    twitter_archive_cp.at[getIndex(i), 'rating_numerator'] = j\n",
    "    twitter_archive_cp.at[getIndex(i), 'rating_denominator'] = k\n"
   ]
  },
  {
   "cell_type": "markdown",
   "metadata": {},
   "source": [
    "##### Test"
   ]
  },
  {
   "cell_type": "code",
   "execution_count": 326,
   "metadata": {},
   "outputs": [
    {
     "data": {
      "text/html": [
       "<div>\n",
       "<style scoped>\n",
       "    .dataframe tbody tr th:only-of-type {\n",
       "        vertical-align: middle;\n",
       "    }\n",
       "\n",
       "    .dataframe tbody tr th {\n",
       "        vertical-align: top;\n",
       "    }\n",
       "\n",
       "    .dataframe thead th {\n",
       "        text-align: right;\n",
       "    }\n",
       "</style>\n",
       "<table border=\"1\" class=\"dataframe\">\n",
       "  <thead>\n",
       "    <tr style=\"text-align: right;\">\n",
       "      <th></th>\n",
       "      <th>tweet_id</th>\n",
       "      <th>in_reply_to_status_id</th>\n",
       "      <th>in_reply_to_user_id</th>\n",
       "      <th>timestamp</th>\n",
       "      <th>source</th>\n",
       "      <th>text</th>\n",
       "      <th>retweeted_status_id</th>\n",
       "      <th>retweeted_status_user_id</th>\n",
       "      <th>retweeted_status_timestamp</th>\n",
       "      <th>expanded_urls</th>\n",
       "      <th>rating_numerator</th>\n",
       "      <th>rating_denominator</th>\n",
       "      <th>name</th>\n",
       "      <th>doggo</th>\n",
       "      <th>floofer</th>\n",
       "      <th>pupper</th>\n",
       "      <th>puppo</th>\n",
       "    </tr>\n",
       "  </thead>\n",
       "  <tbody>\n",
       "    <tr>\n",
       "      <th>1068</th>\n",
       "      <td>740373189193256964</td>\n",
       "      <td>NaN</td>\n",
       "      <td>NaN</td>\n",
       "      <td>2016-06-08 02:41:38+00:00</td>\n",
       "      <td>&lt;a href=\"http://twitter.com/download/iphone\" r...</td>\n",
       "      <td>After so many requests, this is Bretagne. She ...</td>\n",
       "      <td>NaN</td>\n",
       "      <td>NaN</td>\n",
       "      <td>NaN</td>\n",
       "      <td>https://twitter.com/dog_rates/status/740373189...</td>\n",
       "      <td>14</td>\n",
       "      <td>10</td>\n",
       "      <td>None</td>\n",
       "      <td>None</td>\n",
       "      <td>None</td>\n",
       "      <td>None</td>\n",
       "      <td>None</td>\n",
       "    </tr>\n",
       "    <tr>\n",
       "      <th>1165</th>\n",
       "      <td>722974582966214656</td>\n",
       "      <td>NaN</td>\n",
       "      <td>NaN</td>\n",
       "      <td>2016-04-21 02:25:47+00:00</td>\n",
       "      <td>&lt;a href=\"http://twitter.com/download/iphone\" r...</td>\n",
       "      <td>Happy 4/20 from the squad! 13/10 for all https...</td>\n",
       "      <td>NaN</td>\n",
       "      <td>NaN</td>\n",
       "      <td>NaN</td>\n",
       "      <td>https://twitter.com/dog_rates/status/722974582...</td>\n",
       "      <td>13</td>\n",
       "      <td>10</td>\n",
       "      <td>None</td>\n",
       "      <td>None</td>\n",
       "      <td>None</td>\n",
       "      <td>None</td>\n",
       "      <td>None</td>\n",
       "    </tr>\n",
       "    <tr>\n",
       "      <th>2335</th>\n",
       "      <td>666287406224695296</td>\n",
       "      <td>NaN</td>\n",
       "      <td>NaN</td>\n",
       "      <td>2015-11-16 16:11:11+00:00</td>\n",
       "      <td>&lt;a href=\"http://twitter.com/download/iphone\" r...</td>\n",
       "      <td>This is an Albanian 3 1/2 legged  Episcopalian...</td>\n",
       "      <td>NaN</td>\n",
       "      <td>NaN</td>\n",
       "      <td>NaN</td>\n",
       "      <td>https://twitter.com/dog_rates/status/666287406...</td>\n",
       "      <td>9</td>\n",
       "      <td>10</td>\n",
       "      <td>None</td>\n",
       "      <td>None</td>\n",
       "      <td>None</td>\n",
       "      <td>None</td>\n",
       "      <td>None</td>\n",
       "    </tr>\n",
       "  </tbody>\n",
       "</table>\n",
       "</div>"
      ],
      "text/plain": [
       "                tweet_id  in_reply_to_status_id  in_reply_to_user_id  \\\n",
       "1068  740373189193256964                    NaN                  NaN   \n",
       "1165  722974582966214656                    NaN                  NaN   \n",
       "2335  666287406224695296                    NaN                  NaN   \n",
       "\n",
       "                     timestamp  \\\n",
       "1068 2016-06-08 02:41:38+00:00   \n",
       "1165 2016-04-21 02:25:47+00:00   \n",
       "2335 2015-11-16 16:11:11+00:00   \n",
       "\n",
       "                                                 source  \\\n",
       "1068  <a href=\"http://twitter.com/download/iphone\" r...   \n",
       "1165  <a href=\"http://twitter.com/download/iphone\" r...   \n",
       "2335  <a href=\"http://twitter.com/download/iphone\" r...   \n",
       "\n",
       "                                                   text  retweeted_status_id  \\\n",
       "1068  After so many requests, this is Bretagne. She ...                  NaN   \n",
       "1165  Happy 4/20 from the squad! 13/10 for all https...                  NaN   \n",
       "2335  This is an Albanian 3 1/2 legged  Episcopalian...                  NaN   \n",
       "\n",
       "      retweeted_status_user_id retweeted_status_timestamp  \\\n",
       "1068                       NaN                        NaN   \n",
       "1165                       NaN                        NaN   \n",
       "2335                       NaN                        NaN   \n",
       "\n",
       "                                          expanded_urls  rating_numerator  \\\n",
       "1068  https://twitter.com/dog_rates/status/740373189...                14   \n",
       "1165  https://twitter.com/dog_rates/status/722974582...                13   \n",
       "2335  https://twitter.com/dog_rates/status/666287406...                 9   \n",
       "\n",
       "      rating_denominator  name doggo floofer pupper puppo  \n",
       "1068                  10  None  None    None   None  None  \n",
       "1165                  10  None  None    None   None  None  \n",
       "2335                  10  None  None    None   None  None  "
      ]
     },
     "execution_count": 326,
     "metadata": {},
     "output_type": "execute_result"
    }
   ],
   "source": [
    "twitter_archive_cp[twitter_archive_cp.tweet_id.isin(list_id)]\n"
   ]
  },
  {
   "cell_type": "markdown",
   "metadata": {},
   "source": [
    "#### Issue #8:"
   ]
  },
  {
   "cell_type": "markdown",
   "metadata": {},
   "source": [
    "##### Define: Tweet_ID = 775096608509886464 does not exist, it is a duplication of Tweet_ID = 740373189193256964\n",
    "- Remove Tweet_ID = 775096608509886464 out of dataset."
   ]
  },
  {
   "cell_type": "markdown",
   "metadata": {},
   "source": [
    "##### Code"
   ]
  },
  {
   "cell_type": "code",
   "execution_count": 327,
   "metadata": {},
   "outputs": [],
   "source": [
    "# remove the row with this tweet id\n",
    "twitter_archive_cp = twitter_archive_cp.loc[twitter_archive_cp.tweet_id != 775096608509886464]"
   ]
  },
  {
   "cell_type": "markdown",
   "metadata": {},
   "source": [
    "##### Test"
   ]
  },
  {
   "cell_type": "code",
   "execution_count": 328,
   "metadata": {},
   "outputs": [
    {
     "data": {
      "text/html": [
       "<div>\n",
       "<style scoped>\n",
       "    .dataframe tbody tr th:only-of-type {\n",
       "        vertical-align: middle;\n",
       "    }\n",
       "\n",
       "    .dataframe tbody tr th {\n",
       "        vertical-align: top;\n",
       "    }\n",
       "\n",
       "    .dataframe thead th {\n",
       "        text-align: right;\n",
       "    }\n",
       "</style>\n",
       "<table border=\"1\" class=\"dataframe\">\n",
       "  <thead>\n",
       "    <tr style=\"text-align: right;\">\n",
       "      <th></th>\n",
       "      <th>tweet_id</th>\n",
       "      <th>in_reply_to_status_id</th>\n",
       "      <th>in_reply_to_user_id</th>\n",
       "      <th>timestamp</th>\n",
       "      <th>source</th>\n",
       "      <th>text</th>\n",
       "      <th>retweeted_status_id</th>\n",
       "      <th>retweeted_status_user_id</th>\n",
       "      <th>retweeted_status_timestamp</th>\n",
       "      <th>expanded_urls</th>\n",
       "      <th>rating_numerator</th>\n",
       "      <th>rating_denominator</th>\n",
       "      <th>name</th>\n",
       "      <th>doggo</th>\n",
       "      <th>floofer</th>\n",
       "      <th>pupper</th>\n",
       "      <th>puppo</th>\n",
       "    </tr>\n",
       "  </thead>\n",
       "  <tbody>\n",
       "  </tbody>\n",
       "</table>\n",
       "</div>"
      ],
      "text/plain": [
       "Empty DataFrame\n",
       "Columns: [tweet_id, in_reply_to_status_id, in_reply_to_user_id, timestamp, source, text, retweeted_status_id, retweeted_status_user_id, retweeted_status_timestamp, expanded_urls, rating_numerator, rating_denominator, name, doggo, floofer, pupper, puppo]\n",
       "Index: []"
      ]
     },
     "execution_count": 328,
     "metadata": {},
     "output_type": "execute_result"
    }
   ],
   "source": [
    "twitter_archive_cp.loc[twitter_archive_cp.tweet_id == 775096608509886464]"
   ]
  },
  {
   "cell_type": "markdown",
   "metadata": {},
   "source": [
    "#### Issue #9: "
   ]
  },
  {
   "cell_type": "markdown",
   "metadata": {},
   "source": [
    "##### Define: Remove data in twitter-archive-enhancement.csv for matching with the image_prediction.tsv - only data not beyond August 1st, 2017"
   ]
  },
  {
   "cell_type": "markdown",
   "metadata": {},
   "source": [
    "##### Code"
   ]
  },
  {
   "cell_type": "code",
   "execution_count": 329,
   "metadata": {},
   "outputs": [],
   "source": [
    "twitter_archive_cp = twitter_archive_cp.loc[twitter_archive_cp.timestamp <= '2017-08-01']"
   ]
  },
  {
   "cell_type": "markdown",
   "metadata": {},
   "source": [
    "##### Test"
   ]
  },
  {
   "cell_type": "code",
   "execution_count": 330,
   "metadata": {},
   "outputs": [
    {
     "data": {
      "text/html": [
       "<div>\n",
       "<style scoped>\n",
       "    .dataframe tbody tr th:only-of-type {\n",
       "        vertical-align: middle;\n",
       "    }\n",
       "\n",
       "    .dataframe tbody tr th {\n",
       "        vertical-align: top;\n",
       "    }\n",
       "\n",
       "    .dataframe thead th {\n",
       "        text-align: right;\n",
       "    }\n",
       "</style>\n",
       "<table border=\"1\" class=\"dataframe\">\n",
       "  <thead>\n",
       "    <tr style=\"text-align: right;\">\n",
       "      <th></th>\n",
       "      <th>tweet_id</th>\n",
       "      <th>in_reply_to_status_id</th>\n",
       "      <th>in_reply_to_user_id</th>\n",
       "      <th>timestamp</th>\n",
       "      <th>source</th>\n",
       "      <th>text</th>\n",
       "      <th>retweeted_status_id</th>\n",
       "      <th>retweeted_status_user_id</th>\n",
       "      <th>retweeted_status_timestamp</th>\n",
       "      <th>expanded_urls</th>\n",
       "      <th>rating_numerator</th>\n",
       "      <th>rating_denominator</th>\n",
       "      <th>name</th>\n",
       "      <th>doggo</th>\n",
       "      <th>floofer</th>\n",
       "      <th>pupper</th>\n",
       "      <th>puppo</th>\n",
       "    </tr>\n",
       "  </thead>\n",
       "  <tbody>\n",
       "  </tbody>\n",
       "</table>\n",
       "</div>"
      ],
      "text/plain": [
       "Empty DataFrame\n",
       "Columns: [tweet_id, in_reply_to_status_id, in_reply_to_user_id, timestamp, source, text, retweeted_status_id, retweeted_status_user_id, retweeted_status_timestamp, expanded_urls, rating_numerator, rating_denominator, name, doggo, floofer, pupper, puppo]\n",
       "Index: []"
      ]
     },
     "execution_count": 330,
     "metadata": {},
     "output_type": "execute_result"
    }
   ],
   "source": [
    "twitter_archive_cp.loc[twitter_archive_cp.timestamp > '2017-08-01']"
   ]
  },
  {
   "cell_type": "markdown",
   "metadata": {},
   "source": [
    "#### Issue #10: Rmove retweets to keep only tweets to keep original rate point\n"
   ]
  },
  {
   "cell_type": "markdown",
   "metadata": {},
   "source": [
    "##### Define: Remove retweets (text starting with RT @) "
   ]
  },
  {
   "cell_type": "markdown",
   "metadata": {},
   "source": [
    "##### Code"
   ]
  },
  {
   "cell_type": "code",
   "execution_count": 331,
   "metadata": {},
   "outputs": [],
   "source": [
    "twitter_archive_cp = twitter_archive_cp[twitter_archive_cp.retweeted_status_id.isnull()]\n",
    "twitter_archive_cp = twitter_archive_cp[twitter_archive_cp.retweeted_status_user_id.isnull()]\n",
    "twitter_archive_cp = twitter_archive_cp[twitter_archive_cp.retweeted_status_timestamp.isnull()]"
   ]
  },
  {
   "cell_type": "markdown",
   "metadata": {},
   "source": [
    "##### Test"
   ]
  },
  {
   "cell_type": "code",
   "execution_count": 332,
   "metadata": {},
   "outputs": [
    {
     "data": {
      "text/html": [
       "<div>\n",
       "<style scoped>\n",
       "    .dataframe tbody tr th:only-of-type {\n",
       "        vertical-align: middle;\n",
       "    }\n",
       "\n",
       "    .dataframe tbody tr th {\n",
       "        vertical-align: top;\n",
       "    }\n",
       "\n",
       "    .dataframe thead th {\n",
       "        text-align: right;\n",
       "    }\n",
       "</style>\n",
       "<table border=\"1\" class=\"dataframe\">\n",
       "  <thead>\n",
       "    <tr style=\"text-align: right;\">\n",
       "      <th></th>\n",
       "      <th>tweet_id</th>\n",
       "      <th>in_reply_to_status_id</th>\n",
       "      <th>in_reply_to_user_id</th>\n",
       "      <th>timestamp</th>\n",
       "      <th>source</th>\n",
       "      <th>text</th>\n",
       "      <th>retweeted_status_id</th>\n",
       "      <th>retweeted_status_user_id</th>\n",
       "      <th>retweeted_status_timestamp</th>\n",
       "      <th>expanded_urls</th>\n",
       "      <th>rating_numerator</th>\n",
       "      <th>rating_denominator</th>\n",
       "      <th>name</th>\n",
       "      <th>doggo</th>\n",
       "      <th>floofer</th>\n",
       "      <th>pupper</th>\n",
       "      <th>puppo</th>\n",
       "    </tr>\n",
       "  </thead>\n",
       "  <tbody>\n",
       "  </tbody>\n",
       "</table>\n",
       "</div>"
      ],
      "text/plain": [
       "Empty DataFrame\n",
       "Columns: [tweet_id, in_reply_to_status_id, in_reply_to_user_id, timestamp, source, text, retweeted_status_id, retweeted_status_user_id, retweeted_status_timestamp, expanded_urls, rating_numerator, rating_denominator, name, doggo, floofer, pupper, puppo]\n",
       "Index: []"
      ]
     },
     "execution_count": 332,
     "metadata": {},
     "output_type": "execute_result"
    }
   ],
   "source": [
    "twitter_archive_cp[twitter_archive_cp.retweeted_status_id.isnull() == False]"
   ]
  },
  {
   "cell_type": "markdown",
   "metadata": {},
   "source": [
    "### Tidiness issue"
   ]
  },
  {
   "cell_type": "markdown",
   "metadata": {},
   "source": [
    "#### Issue #1: "
   ]
  },
  {
   "cell_type": "markdown",
   "metadata": {},
   "source": [
    "##### Define: the dog stage is one variable and hence should form single column"
   ]
  },
  {
   "cell_type": "markdown",
   "metadata": {},
   "source": [
    "##### Code"
   ]
  },
  {
   "cell_type": "code",
   "execution_count": 333,
   "metadata": {},
   "outputs": [
    {
     "name": "stdout",
     "output_type": "stream",
     "text": [
      "<class 'pandas.core.frame.DataFrame'>\n",
      "Int64Index: 2172 entries, 2 to 2355\n",
      "Data columns (total 17 columns):\n",
      " #   Column                      Non-Null Count  Dtype              \n",
      "---  ------                      --------------  -----              \n",
      " 0   tweet_id                    2172 non-null   int64              \n",
      " 1   in_reply_to_status_id       77 non-null     float64            \n",
      " 2   in_reply_to_user_id         77 non-null     float64            \n",
      " 3   timestamp                   2172 non-null   datetime64[ns, UTC]\n",
      " 4   source                      2172 non-null   object             \n",
      " 5   text                        2172 non-null   object             \n",
      " 6   retweeted_status_id         0 non-null      float64            \n",
      " 7   retweeted_status_user_id    0 non-null      float64            \n",
      " 8   retweeted_status_timestamp  0 non-null      object             \n",
      " 9   expanded_urls               2115 non-null   object             \n",
      " 10  rating_numerator            2172 non-null   int64              \n",
      " 11  rating_denominator          2172 non-null   int64              \n",
      " 12  name                        2172 non-null   object             \n",
      " 13  doggo                       2172 non-null   object             \n",
      " 14  floofer                     2172 non-null   object             \n",
      " 15  pupper                      2172 non-null   object             \n",
      " 16  puppo                       2172 non-null   object             \n",
      "dtypes: datetime64[ns, UTC](1), float64(4), int64(3), object(9)\n",
      "memory usage: 305.4+ KB\n"
     ]
    }
   ],
   "source": [
    "twitter_archive_cp.info()"
   ]
  },
  {
   "cell_type": "code",
   "execution_count": 334,
   "metadata": {},
   "outputs": [],
   "source": [
    "dog_type = ['doggo', 'floofer', 'pupper', 'puppo']"
   ]
  },
  {
   "cell_type": "code",
   "execution_count": 335,
   "metadata": {},
   "outputs": [],
   "source": [
    "# unpivot columns in dog_type\n",
    "df1 = pd.melt(twitter_archive_cp, id_vars=twitter_archive_cp.columns.difference(dog_type), var_name='dog_type_name_column', value_name='dog_type')"
   ]
  },
  {
   "cell_type": "code",
   "execution_count": 336,
   "metadata": {},
   "outputs": [],
   "source": [
    "# split dataset into None dog_type and dog_type in ['doggo', 'floofer', 'pupper', 'puppo'] and remove duplicates\n",
    "df2 = df1.drop('dog_type_name_column', axis=1).loc[df1.dog_type == 'None'].drop_duplicates() # all tweet_id\n",
    "df3 = df1.loc[df1.dog_type == df1.dog_type_name_column].drop('dog_type_name_column', axis=1).drop_duplicates() # tweet_id having dogtype"
   ]
  },
  {
   "cell_type": "code",
   "execution_count": 337,
   "metadata": {},
   "outputs": [],
   "source": [
    "# df4 will exclude tweet_id having dogtype from df2 (real None dog type)\n",
    "df4 = df2.loc[~df2.tweet_id.isin(df3.tweet_id)]\n",
    "twitter_archive_cp = pd.concat([df3, df4], axis=0)"
   ]
  },
  {
   "cell_type": "code",
   "execution_count": 338,
   "metadata": {},
   "outputs": [
    {
     "data": {
      "text/html": [
       "<div>\n",
       "<style scoped>\n",
       "    .dataframe tbody tr th:only-of-type {\n",
       "        vertical-align: middle;\n",
       "    }\n",
       "\n",
       "    .dataframe tbody tr th {\n",
       "        vertical-align: top;\n",
       "    }\n",
       "\n",
       "    .dataframe thead th {\n",
       "        text-align: right;\n",
       "    }\n",
       "</style>\n",
       "<table border=\"1\" class=\"dataframe\">\n",
       "  <thead>\n",
       "    <tr style=\"text-align: right;\">\n",
       "      <th></th>\n",
       "      <th>expanded_urls</th>\n",
       "      <th>in_reply_to_status_id</th>\n",
       "      <th>in_reply_to_user_id</th>\n",
       "      <th>name</th>\n",
       "      <th>rating_denominator</th>\n",
       "      <th>rating_numerator</th>\n",
       "      <th>retweeted_status_id</th>\n",
       "      <th>retweeted_status_timestamp</th>\n",
       "      <th>retweeted_status_user_id</th>\n",
       "      <th>source</th>\n",
       "      <th>text</th>\n",
       "      <th>timestamp</th>\n",
       "      <th>tweet_id</th>\n",
       "      <th>dog_type</th>\n",
       "    </tr>\n",
       "  </thead>\n",
       "  <tbody>\n",
       "    <tr>\n",
       "      <th>0</th>\n",
       "      <td>https://twitter.com/dog_rates/status/890240255...</td>\n",
       "      <td>NaN</td>\n",
       "      <td>NaN</td>\n",
       "      <td>Cassie</td>\n",
       "      <td>10</td>\n",
       "      <td>14</td>\n",
       "      <td>NaN</td>\n",
       "      <td>NaN</td>\n",
       "      <td>NaN</td>\n",
       "      <td>&lt;a href=\"http://twitter.com/download/iphone\" r...</td>\n",
       "      <td>This is Cassie. She is a college pup. Studying...</td>\n",
       "      <td>2017-07-26 15:59:51+00:00</td>\n",
       "      <td>890240255349198849</td>\n",
       "      <td>doggo</td>\n",
       "    </tr>\n",
       "    <tr>\n",
       "      <th>1</th>\n",
       "      <td>https://twitter.com/dog_rates/status/884162670...</td>\n",
       "      <td>NaN</td>\n",
       "      <td>NaN</td>\n",
       "      <td>Yogi</td>\n",
       "      <td>10</td>\n",
       "      <td>12</td>\n",
       "      <td>NaN</td>\n",
       "      <td>NaN</td>\n",
       "      <td>NaN</td>\n",
       "      <td>&lt;a href=\"http://twitter.com/download/iphone\" r...</td>\n",
       "      <td>Meet Yogi. He doesn't have any important dog m...</td>\n",
       "      <td>2017-07-09 21:29:42+00:00</td>\n",
       "      <td>884162670584377345</td>\n",
       "      <td>doggo</td>\n",
       "    </tr>\n",
       "    <tr>\n",
       "      <th>2</th>\n",
       "      <td>https://twitter.com/dog_rates/status/872967104...</td>\n",
       "      <td>NaN</td>\n",
       "      <td>NaN</td>\n",
       "      <td>None</td>\n",
       "      <td>10</td>\n",
       "      <td>12</td>\n",
       "      <td>NaN</td>\n",
       "      <td>NaN</td>\n",
       "      <td>NaN</td>\n",
       "      <td>&lt;a href=\"http://twitter.com/download/iphone\" r...</td>\n",
       "      <td>Here's a very large dog. He has a date later. ...</td>\n",
       "      <td>2017-06-09 00:02:31+00:00</td>\n",
       "      <td>872967104147763200</td>\n",
       "      <td>doggo</td>\n",
       "    </tr>\n",
       "    <tr>\n",
       "      <th>3</th>\n",
       "      <td>https://twitter.com/dog_rates/status/871515927...</td>\n",
       "      <td>NaN</td>\n",
       "      <td>NaN</td>\n",
       "      <td>Napolean</td>\n",
       "      <td>10</td>\n",
       "      <td>12</td>\n",
       "      <td>NaN</td>\n",
       "      <td>NaN</td>\n",
       "      <td>NaN</td>\n",
       "      <td>&lt;a href=\"http://twitter.com/download/iphone\" r...</td>\n",
       "      <td>This is Napolean. He's a Raggedy East Nicaragu...</td>\n",
       "      <td>2017-06-04 23:56:03+00:00</td>\n",
       "      <td>871515927908634625</td>\n",
       "      <td>doggo</td>\n",
       "    </tr>\n",
       "    <tr>\n",
       "      <th>4</th>\n",
       "      <td>https://twitter.com/animalcog/status/871075758...</td>\n",
       "      <td>NaN</td>\n",
       "      <td>NaN</td>\n",
       "      <td>None</td>\n",
       "      <td>10</td>\n",
       "      <td>14</td>\n",
       "      <td>NaN</td>\n",
       "      <td>NaN</td>\n",
       "      <td>NaN</td>\n",
       "      <td>&lt;a href=\"http://twitter.com/download/iphone\" r...</td>\n",
       "      <td>Never doubt a doggo 14/10 https://t.co/AbBLh2FZCH</td>\n",
       "      <td>2017-06-03 20:33:19+00:00</td>\n",
       "      <td>871102520638267392</td>\n",
       "      <td>doggo</td>\n",
       "    </tr>\n",
       "    <tr>\n",
       "      <th>...</th>\n",
       "      <td>...</td>\n",
       "      <td>...</td>\n",
       "      <td>...</td>\n",
       "      <td>...</td>\n",
       "      <td>...</td>\n",
       "      <td>...</td>\n",
       "      <td>...</td>\n",
       "      <td>...</td>\n",
       "      <td>...</td>\n",
       "      <td>...</td>\n",
       "      <td>...</td>\n",
       "      <td>...</td>\n",
       "      <td>...</td>\n",
       "      <td>...</td>\n",
       "    </tr>\n",
       "    <tr>\n",
       "      <th>2179</th>\n",
       "      <td>https://twitter.com/dog_rates/status/666049248...</td>\n",
       "      <td>NaN</td>\n",
       "      <td>NaN</td>\n",
       "      <td>None</td>\n",
       "      <td>10</td>\n",
       "      <td>5</td>\n",
       "      <td>NaN</td>\n",
       "      <td>NaN</td>\n",
       "      <td>NaN</td>\n",
       "      <td>&lt;a href=\"http://twitter.com/download/iphone\" r...</td>\n",
       "      <td>Here we have a 1949 1st generation vulpix. Enj...</td>\n",
       "      <td>2015-11-16 00:24:50+00:00</td>\n",
       "      <td>666049248165822465</td>\n",
       "      <td>None</td>\n",
       "    </tr>\n",
       "    <tr>\n",
       "      <th>2180</th>\n",
       "      <td>https://twitter.com/dog_rates/status/666044226...</td>\n",
       "      <td>NaN</td>\n",
       "      <td>NaN</td>\n",
       "      <td>None</td>\n",
       "      <td>10</td>\n",
       "      <td>6</td>\n",
       "      <td>NaN</td>\n",
       "      <td>NaN</td>\n",
       "      <td>NaN</td>\n",
       "      <td>&lt;a href=\"http://twitter.com/download/iphone\" r...</td>\n",
       "      <td>This is a purebred Piers Morgan. Loves to Netf...</td>\n",
       "      <td>2015-11-16 00:04:52+00:00</td>\n",
       "      <td>666044226329800704</td>\n",
       "      <td>None</td>\n",
       "    </tr>\n",
       "    <tr>\n",
       "      <th>2181</th>\n",
       "      <td>https://twitter.com/dog_rates/status/666033412...</td>\n",
       "      <td>NaN</td>\n",
       "      <td>NaN</td>\n",
       "      <td>None</td>\n",
       "      <td>10</td>\n",
       "      <td>9</td>\n",
       "      <td>NaN</td>\n",
       "      <td>NaN</td>\n",
       "      <td>NaN</td>\n",
       "      <td>&lt;a href=\"http://twitter.com/download/iphone\" r...</td>\n",
       "      <td>Here is a very happy pup. Big fan of well-main...</td>\n",
       "      <td>2015-11-15 23:21:54+00:00</td>\n",
       "      <td>666033412701032449</td>\n",
       "      <td>None</td>\n",
       "    </tr>\n",
       "    <tr>\n",
       "      <th>2182</th>\n",
       "      <td>https://twitter.com/dog_rates/status/666029285...</td>\n",
       "      <td>NaN</td>\n",
       "      <td>NaN</td>\n",
       "      <td>None</td>\n",
       "      <td>10</td>\n",
       "      <td>7</td>\n",
       "      <td>NaN</td>\n",
       "      <td>NaN</td>\n",
       "      <td>NaN</td>\n",
       "      <td>&lt;a href=\"http://twitter.com/download/iphone\" r...</td>\n",
       "      <td>This is a western brown Mitsubishi terrier. Up...</td>\n",
       "      <td>2015-11-15 23:05:30+00:00</td>\n",
       "      <td>666029285002620928</td>\n",
       "      <td>None</td>\n",
       "    </tr>\n",
       "    <tr>\n",
       "      <th>2183</th>\n",
       "      <td>https://twitter.com/dog_rates/status/666020888...</td>\n",
       "      <td>NaN</td>\n",
       "      <td>NaN</td>\n",
       "      <td>None</td>\n",
       "      <td>10</td>\n",
       "      <td>8</td>\n",
       "      <td>NaN</td>\n",
       "      <td>NaN</td>\n",
       "      <td>NaN</td>\n",
       "      <td>&lt;a href=\"http://twitter.com/download/iphone\" r...</td>\n",
       "      <td>Here we have a Japanese Irish Setter. Lost eye...</td>\n",
       "      <td>2015-11-15 22:32:08+00:00</td>\n",
       "      <td>666020888022790149</td>\n",
       "      <td>None</td>\n",
       "    </tr>\n",
       "  </tbody>\n",
       "</table>\n",
       "<p>2184 rows × 14 columns</p>\n",
       "</div>"
      ],
      "text/plain": [
       "                                          expanded_urls  \\\n",
       "0     https://twitter.com/dog_rates/status/890240255...   \n",
       "1     https://twitter.com/dog_rates/status/884162670...   \n",
       "2     https://twitter.com/dog_rates/status/872967104...   \n",
       "3     https://twitter.com/dog_rates/status/871515927...   \n",
       "4     https://twitter.com/animalcog/status/871075758...   \n",
       "...                                                 ...   \n",
       "2179  https://twitter.com/dog_rates/status/666049248...   \n",
       "2180  https://twitter.com/dog_rates/status/666044226...   \n",
       "2181  https://twitter.com/dog_rates/status/666033412...   \n",
       "2182  https://twitter.com/dog_rates/status/666029285...   \n",
       "2183  https://twitter.com/dog_rates/status/666020888...   \n",
       "\n",
       "      in_reply_to_status_id  in_reply_to_user_id      name  \\\n",
       "0                       NaN                  NaN    Cassie   \n",
       "1                       NaN                  NaN      Yogi   \n",
       "2                       NaN                  NaN      None   \n",
       "3                       NaN                  NaN  Napolean   \n",
       "4                       NaN                  NaN      None   \n",
       "...                     ...                  ...       ...   \n",
       "2179                    NaN                  NaN      None   \n",
       "2180                    NaN                  NaN      None   \n",
       "2181                    NaN                  NaN      None   \n",
       "2182                    NaN                  NaN      None   \n",
       "2183                    NaN                  NaN      None   \n",
       "\n",
       "      rating_denominator  rating_numerator  retweeted_status_id  \\\n",
       "0                     10                14                  NaN   \n",
       "1                     10                12                  NaN   \n",
       "2                     10                12                  NaN   \n",
       "3                     10                12                  NaN   \n",
       "4                     10                14                  NaN   \n",
       "...                  ...               ...                  ...   \n",
       "2179                  10                 5                  NaN   \n",
       "2180                  10                 6                  NaN   \n",
       "2181                  10                 9                  NaN   \n",
       "2182                  10                 7                  NaN   \n",
       "2183                  10                 8                  NaN   \n",
       "\n",
       "     retweeted_status_timestamp  retweeted_status_user_id  \\\n",
       "0                           NaN                       NaN   \n",
       "1                           NaN                       NaN   \n",
       "2                           NaN                       NaN   \n",
       "3                           NaN                       NaN   \n",
       "4                           NaN                       NaN   \n",
       "...                         ...                       ...   \n",
       "2179                        NaN                       NaN   \n",
       "2180                        NaN                       NaN   \n",
       "2181                        NaN                       NaN   \n",
       "2182                        NaN                       NaN   \n",
       "2183                        NaN                       NaN   \n",
       "\n",
       "                                                 source  \\\n",
       "0     <a href=\"http://twitter.com/download/iphone\" r...   \n",
       "1     <a href=\"http://twitter.com/download/iphone\" r...   \n",
       "2     <a href=\"http://twitter.com/download/iphone\" r...   \n",
       "3     <a href=\"http://twitter.com/download/iphone\" r...   \n",
       "4     <a href=\"http://twitter.com/download/iphone\" r...   \n",
       "...                                                 ...   \n",
       "2179  <a href=\"http://twitter.com/download/iphone\" r...   \n",
       "2180  <a href=\"http://twitter.com/download/iphone\" r...   \n",
       "2181  <a href=\"http://twitter.com/download/iphone\" r...   \n",
       "2182  <a href=\"http://twitter.com/download/iphone\" r...   \n",
       "2183  <a href=\"http://twitter.com/download/iphone\" r...   \n",
       "\n",
       "                                                   text  \\\n",
       "0     This is Cassie. She is a college pup. Studying...   \n",
       "1     Meet Yogi. He doesn't have any important dog m...   \n",
       "2     Here's a very large dog. He has a date later. ...   \n",
       "3     This is Napolean. He's a Raggedy East Nicaragu...   \n",
       "4     Never doubt a doggo 14/10 https://t.co/AbBLh2FZCH   \n",
       "...                                                 ...   \n",
       "2179  Here we have a 1949 1st generation vulpix. Enj...   \n",
       "2180  This is a purebred Piers Morgan. Loves to Netf...   \n",
       "2181  Here is a very happy pup. Big fan of well-main...   \n",
       "2182  This is a western brown Mitsubishi terrier. Up...   \n",
       "2183  Here we have a Japanese Irish Setter. Lost eye...   \n",
       "\n",
       "                     timestamp            tweet_id dog_type  \n",
       "0    2017-07-26 15:59:51+00:00  890240255349198849    doggo  \n",
       "1    2017-07-09 21:29:42+00:00  884162670584377345    doggo  \n",
       "2    2017-06-09 00:02:31+00:00  872967104147763200    doggo  \n",
       "3    2017-06-04 23:56:03+00:00  871515927908634625    doggo  \n",
       "4    2017-06-03 20:33:19+00:00  871102520638267392    doggo  \n",
       "...                        ...                 ...      ...  \n",
       "2179 2015-11-16 00:24:50+00:00  666049248165822465     None  \n",
       "2180 2015-11-16 00:04:52+00:00  666044226329800704     None  \n",
       "2181 2015-11-15 23:21:54+00:00  666033412701032449     None  \n",
       "2182 2015-11-15 23:05:30+00:00  666029285002620928     None  \n",
       "2183 2015-11-15 22:32:08+00:00  666020888022790149     None  \n",
       "\n",
       "[2184 rows x 14 columns]"
      ]
     },
     "execution_count": 338,
     "metadata": {},
     "output_type": "execute_result"
    }
   ],
   "source": [
    "# reset index for twitter_archive_cp\n",
    "twitter_archive_cp.reset_index(drop=True)"
   ]
  },
  {
   "cell_type": "markdown",
   "metadata": {},
   "source": [
    "##### Test"
   ]
  },
  {
   "cell_type": "code",
   "execution_count": 339,
   "metadata": {},
   "outputs": [
    {
     "data": {
      "text/plain": [
       "array(['doggo', 'floofer', 'pupper', 'puppo', 'None'], dtype=object)"
      ]
     },
     "execution_count": 339,
     "metadata": {},
     "output_type": "execute_result"
    }
   ],
   "source": [
    "twitter_archive_cp['dog_type'].unique()"
   ]
  },
  {
   "cell_type": "code",
   "execution_count": 340,
   "metadata": {},
   "outputs": [
    {
     "data": {
      "text/plain": [
       "(2184, 14)"
      ]
     },
     "execution_count": 340,
     "metadata": {},
     "output_type": "execute_result"
    }
   ],
   "source": [
    "twitter_archive_cp.shape"
   ]
  },
  {
   "cell_type": "markdown",
   "metadata": {},
   "source": [
    "#### Issue #2:"
   ]
  },
  {
   "cell_type": "markdown",
   "metadata": {},
   "source": [
    "##### Define: nformation about one type of observational unit (tweets) is spread across three different files/dataframes"
   ]
  },
  {
   "cell_type": "markdown",
   "metadata": {},
   "source": [
    "##### Code:"
   ]
  },
  {
   "cell_type": "code",
   "execution_count": 341,
   "metadata": {},
   "outputs": [
    {
     "data": {
      "text/html": [
       "<div>\n",
       "<style scoped>\n",
       "    .dataframe tbody tr th:only-of-type {\n",
       "        vertical-align: middle;\n",
       "    }\n",
       "\n",
       "    .dataframe tbody tr th {\n",
       "        vertical-align: top;\n",
       "    }\n",
       "\n",
       "    .dataframe thead th {\n",
       "        text-align: right;\n",
       "    }\n",
       "</style>\n",
       "<table border=\"1\" class=\"dataframe\">\n",
       "  <thead>\n",
       "    <tr style=\"text-align: right;\">\n",
       "      <th></th>\n",
       "      <th>tweet_id</th>\n",
       "      <th>jpg_url</th>\n",
       "      <th>img_num</th>\n",
       "      <th>p1</th>\n",
       "      <th>p1_conf</th>\n",
       "      <th>p1_dog</th>\n",
       "      <th>p2</th>\n",
       "      <th>p2_conf</th>\n",
       "      <th>p2_dog</th>\n",
       "      <th>p3</th>\n",
       "      <th>p3_conf</th>\n",
       "      <th>p3_dog</th>\n",
       "    </tr>\n",
       "  </thead>\n",
       "  <tbody>\n",
       "    <tr>\n",
       "      <th>0</th>\n",
       "      <td>666020888022790149</td>\n",
       "      <td>https://pbs.twimg.com/media/CT4udn0WwAA0aMy.jpg</td>\n",
       "      <td>1</td>\n",
       "      <td>Welsh_springer_spaniel</td>\n",
       "      <td>0.465074</td>\n",
       "      <td>True</td>\n",
       "      <td>collie</td>\n",
       "      <td>0.156665</td>\n",
       "      <td>True</td>\n",
       "      <td>Shetland_sheepdog</td>\n",
       "      <td>0.061428</td>\n",
       "      <td>True</td>\n",
       "    </tr>\n",
       "    <tr>\n",
       "      <th>1</th>\n",
       "      <td>666029285002620928</td>\n",
       "      <td>https://pbs.twimg.com/media/CT42GRgUYAA5iDo.jpg</td>\n",
       "      <td>1</td>\n",
       "      <td>redbone</td>\n",
       "      <td>0.506826</td>\n",
       "      <td>True</td>\n",
       "      <td>miniature_pinscher</td>\n",
       "      <td>0.074192</td>\n",
       "      <td>True</td>\n",
       "      <td>Rhodesian_ridgeback</td>\n",
       "      <td>0.072010</td>\n",
       "      <td>True</td>\n",
       "    </tr>\n",
       "    <tr>\n",
       "      <th>2</th>\n",
       "      <td>666033412701032449</td>\n",
       "      <td>https://pbs.twimg.com/media/CT4521TWwAEvMyu.jpg</td>\n",
       "      <td>1</td>\n",
       "      <td>German_shepherd</td>\n",
       "      <td>0.596461</td>\n",
       "      <td>True</td>\n",
       "      <td>malinois</td>\n",
       "      <td>0.138584</td>\n",
       "      <td>True</td>\n",
       "      <td>bloodhound</td>\n",
       "      <td>0.116197</td>\n",
       "      <td>True</td>\n",
       "    </tr>\n",
       "    <tr>\n",
       "      <th>3</th>\n",
       "      <td>666044226329800704</td>\n",
       "      <td>https://pbs.twimg.com/media/CT5Dr8HUEAA-lEu.jpg</td>\n",
       "      <td>1</td>\n",
       "      <td>Rhodesian_ridgeback</td>\n",
       "      <td>0.408143</td>\n",
       "      <td>True</td>\n",
       "      <td>redbone</td>\n",
       "      <td>0.360687</td>\n",
       "      <td>True</td>\n",
       "      <td>miniature_pinscher</td>\n",
       "      <td>0.222752</td>\n",
       "      <td>True</td>\n",
       "    </tr>\n",
       "    <tr>\n",
       "      <th>4</th>\n",
       "      <td>666049248165822465</td>\n",
       "      <td>https://pbs.twimg.com/media/CT5IQmsXIAAKY4A.jpg</td>\n",
       "      <td>1</td>\n",
       "      <td>miniature_pinscher</td>\n",
       "      <td>0.560311</td>\n",
       "      <td>True</td>\n",
       "      <td>Rottweiler</td>\n",
       "      <td>0.243682</td>\n",
       "      <td>True</td>\n",
       "      <td>Doberman</td>\n",
       "      <td>0.154629</td>\n",
       "      <td>True</td>\n",
       "    </tr>\n",
       "  </tbody>\n",
       "</table>\n",
       "</div>"
      ],
      "text/plain": [
       "             tweet_id                                          jpg_url  \\\n",
       "0  666020888022790149  https://pbs.twimg.com/media/CT4udn0WwAA0aMy.jpg   \n",
       "1  666029285002620928  https://pbs.twimg.com/media/CT42GRgUYAA5iDo.jpg   \n",
       "2  666033412701032449  https://pbs.twimg.com/media/CT4521TWwAEvMyu.jpg   \n",
       "3  666044226329800704  https://pbs.twimg.com/media/CT5Dr8HUEAA-lEu.jpg   \n",
       "4  666049248165822465  https://pbs.twimg.com/media/CT5IQmsXIAAKY4A.jpg   \n",
       "\n",
       "   img_num                      p1   p1_conf  p1_dog                  p2  \\\n",
       "0        1  Welsh_springer_spaniel  0.465074    True              collie   \n",
       "1        1                 redbone  0.506826    True  miniature_pinscher   \n",
       "2        1         German_shepherd  0.596461    True            malinois   \n",
       "3        1     Rhodesian_ridgeback  0.408143    True             redbone   \n",
       "4        1      miniature_pinscher  0.560311    True          Rottweiler   \n",
       "\n",
       "    p2_conf  p2_dog                   p3   p3_conf  p3_dog  \n",
       "0  0.156665    True    Shetland_sheepdog  0.061428    True  \n",
       "1  0.074192    True  Rhodesian_ridgeback  0.072010    True  \n",
       "2  0.138584    True           bloodhound  0.116197    True  \n",
       "3  0.360687    True   miniature_pinscher  0.222752    True  \n",
       "4  0.243682    True             Doberman  0.154629    True  "
      ]
     },
     "execution_count": 341,
     "metadata": {},
     "output_type": "execute_result"
    }
   ],
   "source": [
    "image_prediction_cp.head()"
   ]
  },
  {
   "cell_type": "code",
   "execution_count": 342,
   "metadata": {},
   "outputs": [
    {
     "data": {
      "text/html": [
       "<div>\n",
       "<style scoped>\n",
       "    .dataframe tbody tr th:only-of-type {\n",
       "        vertical-align: middle;\n",
       "    }\n",
       "\n",
       "    .dataframe tbody tr th {\n",
       "        vertical-align: top;\n",
       "    }\n",
       "\n",
       "    .dataframe thead th {\n",
       "        text-align: right;\n",
       "    }\n",
       "</style>\n",
       "<table border=\"1\" class=\"dataframe\">\n",
       "  <thead>\n",
       "    <tr style=\"text-align: right;\">\n",
       "      <th></th>\n",
       "      <th>tweet_id</th>\n",
       "      <th>retweet_count</th>\n",
       "      <th>favorite_count</th>\n",
       "    </tr>\n",
       "  </thead>\n",
       "  <tbody>\n",
       "    <tr>\n",
       "      <th>0</th>\n",
       "      <td>892420643555336193</td>\n",
       "      <td>6953</td>\n",
       "      <td>33614</td>\n",
       "    </tr>\n",
       "    <tr>\n",
       "      <th>1</th>\n",
       "      <td>892177421306343426</td>\n",
       "      <td>5256</td>\n",
       "      <td>29150</td>\n",
       "    </tr>\n",
       "    <tr>\n",
       "      <th>2</th>\n",
       "      <td>891815181378084864</td>\n",
       "      <td>3462</td>\n",
       "      <td>21935</td>\n",
       "    </tr>\n",
       "    <tr>\n",
       "      <th>3</th>\n",
       "      <td>891689557279858688</td>\n",
       "      <td>7163</td>\n",
       "      <td>36677</td>\n",
       "    </tr>\n",
       "    <tr>\n",
       "      <th>4</th>\n",
       "      <td>891327558926688256</td>\n",
       "      <td>7703</td>\n",
       "      <td>35066</td>\n",
       "    </tr>\n",
       "  </tbody>\n",
       "</table>\n",
       "</div>"
      ],
      "text/plain": [
       "             tweet_id  retweet_count  favorite_count\n",
       "0  892420643555336193           6953           33614\n",
       "1  892177421306343426           5256           29150\n",
       "2  891815181378084864           3462           21935\n",
       "3  891689557279858688           7163           36677\n",
       "4  891327558926688256           7703           35066"
      ]
     },
     "execution_count": 342,
     "metadata": {},
     "output_type": "execute_result"
    }
   ],
   "source": [
    "tweet_api_cp.head()"
   ]
  },
  {
   "cell_type": "code",
   "execution_count": 343,
   "metadata": {},
   "outputs": [],
   "source": [
    "# merge prediction result from image_prediction_cp into twitter_archive_cp\n",
    "twitter_archive_cp = twitter_archive_cp.merge(image_prediction_cp[['tweet_id', 'p1_dog', 'p2_dog', 'p3_dog']], how='left', on='tweet_id')\n"
   ]
  },
  {
   "cell_type": "code",
   "execution_count": 344,
   "metadata": {},
   "outputs": [],
   "source": [
    "# merge retweet count and favorite count into twitter_archive_cp\n",
    "twitter_archive_cp = twitter_archive_cp.merge(tweet_api_cp, how='left', on='tweet_id')"
   ]
  },
  {
   "cell_type": "markdown",
   "metadata": {},
   "source": [
    "##### Test"
   ]
  },
  {
   "cell_type": "code",
   "execution_count": 345,
   "metadata": {},
   "outputs": [
    {
     "data": {
      "text/plain": [
       "(2184, 19)"
      ]
     },
     "execution_count": 345,
     "metadata": {},
     "output_type": "execute_result"
    }
   ],
   "source": [
    "twitter_archive_cp.shape"
   ]
  },
  {
   "cell_type": "markdown",
   "metadata": {},
   "source": [
    "## Storing Data\n",
    "Save gathered, assessed, and cleaned master dataset to a CSV file named \"twitter_archive_master.csv\"."
   ]
  },
  {
   "cell_type": "code",
   "execution_count": 352,
   "metadata": {},
   "outputs": [],
   "source": [
    "if os.path.exists('twitter_archive_master.csv'):\n",
    "    os.remove('twitter_archive_master.csv') \n",
    "    twitter_archive_cp.to_csv('twitter_archive_master.csv', index=False)\n",
    "else: \n",
    "    twitter_archive_cp.to_csv('twitter_archive_master.csv', index=False)"
   ]
  },
  {
   "cell_type": "markdown",
   "metadata": {},
   "source": [
    "## Analyzing and Visualizing Data\n",
    "In this section, analyze and visualize your wrangled data. You must produce at least **three (3) insights and one (1) visualization.**"
   ]
  },
  {
   "cell_type": "code",
   "execution_count": 353,
   "metadata": {},
   "outputs": [
    {
     "data": {
      "text/plain": [
       "(2184, 19)"
      ]
     },
     "execution_count": 353,
     "metadata": {},
     "output_type": "execute_result"
    }
   ],
   "source": [
    "# import master file\n",
    "master = pd.read_csv(r'C:\\Users\\DE\\Documents\\Data wrangling_Udacity\\twitter_archive_master.csv')\n",
    "master.shape"
   ]
  },
  {
   "cell_type": "code",
   "execution_count": 354,
   "metadata": {},
   "outputs": [
    {
     "data": {
      "text/plain": [
       "12"
      ]
     },
     "execution_count": 354,
     "metadata": {},
     "output_type": "execute_result"
    }
   ],
   "source": [
    "# check duplicates number is 14 tweet_ids = 2366 - 2352 due to difference dog type\n",
    "master[master.duplicated(subset='tweet_id', keep='last') == True]['tweet_id'].count()"
   ]
  },
  {
   "cell_type": "code",
   "execution_count": 355,
   "metadata": {},
   "outputs": [
    {
     "data": {
      "text/html": [
       "<div>\n",
       "<style scoped>\n",
       "    .dataframe tbody tr th:only-of-type {\n",
       "        vertical-align: middle;\n",
       "    }\n",
       "\n",
       "    .dataframe tbody tr th {\n",
       "        vertical-align: top;\n",
       "    }\n",
       "\n",
       "    .dataframe thead th {\n",
       "        text-align: right;\n",
       "    }\n",
       "</style>\n",
       "<table border=\"1\" class=\"dataframe\">\n",
       "  <thead>\n",
       "    <tr style=\"text-align: right;\">\n",
       "      <th></th>\n",
       "      <th>expanded_urls</th>\n",
       "      <th>in_reply_to_status_id</th>\n",
       "      <th>in_reply_to_user_id</th>\n",
       "      <th>name</th>\n",
       "      <th>rating_denominator</th>\n",
       "      <th>rating_numerator</th>\n",
       "      <th>retweeted_status_id</th>\n",
       "      <th>retweeted_status_timestamp</th>\n",
       "      <th>retweeted_status_user_id</th>\n",
       "      <th>source</th>\n",
       "      <th>text</th>\n",
       "      <th>timestamp</th>\n",
       "      <th>tweet_id</th>\n",
       "      <th>dog_type</th>\n",
       "      <th>p1_dog</th>\n",
       "      <th>p2_dog</th>\n",
       "      <th>p3_dog</th>\n",
       "      <th>retweet_count</th>\n",
       "      <th>favorite_count</th>\n",
       "    </tr>\n",
       "  </thead>\n",
       "  <tbody>\n",
       "    <tr>\n",
       "      <th>81</th>\n",
       "      <td>https://twitter.com/dog_rates/status/733109485...</td>\n",
       "      <td>NaN</td>\n",
       "      <td>NaN</td>\n",
       "      <td>None</td>\n",
       "      <td>10</td>\n",
       "      <td>12</td>\n",
       "      <td>NaN</td>\n",
       "      <td>NaN</td>\n",
       "      <td>NaN</td>\n",
       "      <td>&lt;a href=\"http://twitter.com/download/iphone\" r...</td>\n",
       "      <td>Like father (doggo), like son (pupper). Both 1...</td>\n",
       "      <td>2016-05-19 01:38:16+00:00</td>\n",
       "      <td>733109485275860992</td>\n",
       "      <td>doggo</td>\n",
       "      <td>True</td>\n",
       "      <td>True</td>\n",
       "      <td>False</td>\n",
       "      <td>15418.0</td>\n",
       "      <td>49050.0</td>\n",
       "    </tr>\n",
       "    <tr>\n",
       "      <th>169</th>\n",
       "      <td>https://twitter.com/dog_rates/status/733109485...</td>\n",
       "      <td>NaN</td>\n",
       "      <td>NaN</td>\n",
       "      <td>None</td>\n",
       "      <td>10</td>\n",
       "      <td>12</td>\n",
       "      <td>NaN</td>\n",
       "      <td>NaN</td>\n",
       "      <td>NaN</td>\n",
       "      <td>&lt;a href=\"http://twitter.com/download/iphone\" r...</td>\n",
       "      <td>Like father (doggo), like son (pupper). Both 1...</td>\n",
       "      <td>2016-05-19 01:38:16+00:00</td>\n",
       "      <td>733109485275860992</td>\n",
       "      <td>pupper</td>\n",
       "      <td>True</td>\n",
       "      <td>True</td>\n",
       "      <td>False</td>\n",
       "      <td>15418.0</td>\n",
       "      <td>49050.0</td>\n",
       "    </tr>\n",
       "    <tr>\n",
       "      <th>77</th>\n",
       "      <td>https://twitter.com/dog_rates/status/741067306...</td>\n",
       "      <td>NaN</td>\n",
       "      <td>NaN</td>\n",
       "      <td>None</td>\n",
       "      <td>10</td>\n",
       "      <td>12</td>\n",
       "      <td>NaN</td>\n",
       "      <td>NaN</td>\n",
       "      <td>NaN</td>\n",
       "      <td>&lt;a href=\"http://twitter.com/download/iphone\" r...</td>\n",
       "      <td>This is just downright precious af. 12/10 for ...</td>\n",
       "      <td>2016-06-10 00:39:48+00:00</td>\n",
       "      <td>741067306818797568</td>\n",
       "      <td>doggo</td>\n",
       "      <td>True</td>\n",
       "      <td>True</td>\n",
       "      <td>True</td>\n",
       "      <td>2793.0</td>\n",
       "      <td>8814.0</td>\n",
       "    </tr>\n",
       "    <tr>\n",
       "      <th>162</th>\n",
       "      <td>https://twitter.com/dog_rates/status/741067306...</td>\n",
       "      <td>NaN</td>\n",
       "      <td>NaN</td>\n",
       "      <td>None</td>\n",
       "      <td>10</td>\n",
       "      <td>12</td>\n",
       "      <td>NaN</td>\n",
       "      <td>NaN</td>\n",
       "      <td>NaN</td>\n",
       "      <td>&lt;a href=\"http://twitter.com/download/iphone\" r...</td>\n",
       "      <td>This is just downright precious af. 12/10 for ...</td>\n",
       "      <td>2016-06-10 00:39:48+00:00</td>\n",
       "      <td>741067306818797568</td>\n",
       "      <td>pupper</td>\n",
       "      <td>True</td>\n",
       "      <td>True</td>\n",
       "      <td>True</td>\n",
       "      <td>2793.0</td>\n",
       "      <td>8814.0</td>\n",
       "    </tr>\n",
       "    <tr>\n",
       "      <th>68</th>\n",
       "      <td>https://twitter.com/dog_rates/status/751583847...</td>\n",
       "      <td>NaN</td>\n",
       "      <td>NaN</td>\n",
       "      <td>None</td>\n",
       "      <td>10</td>\n",
       "      <td>5</td>\n",
       "      <td>NaN</td>\n",
       "      <td>NaN</td>\n",
       "      <td>NaN</td>\n",
       "      <td>&lt;a href=\"http://twitter.com/download/iphone\" r...</td>\n",
       "      <td>Please stop sending it pictures that don't eve...</td>\n",
       "      <td>2016-07-09 01:08:47+00:00</td>\n",
       "      <td>751583847268179968</td>\n",
       "      <td>doggo</td>\n",
       "      <td>True</td>\n",
       "      <td>False</td>\n",
       "      <td>False</td>\n",
       "      <td>1000.0</td>\n",
       "      <td>4079.0</td>\n",
       "    </tr>\n",
       "    <tr>\n",
       "      <th>147</th>\n",
       "      <td>https://twitter.com/dog_rates/status/751583847...</td>\n",
       "      <td>NaN</td>\n",
       "      <td>NaN</td>\n",
       "      <td>None</td>\n",
       "      <td>10</td>\n",
       "      <td>5</td>\n",
       "      <td>NaN</td>\n",
       "      <td>NaN</td>\n",
       "      <td>NaN</td>\n",
       "      <td>&lt;a href=\"http://twitter.com/download/iphone\" r...</td>\n",
       "      <td>Please stop sending it pictures that don't eve...</td>\n",
       "      <td>2016-07-09 01:08:47+00:00</td>\n",
       "      <td>751583847268179968</td>\n",
       "      <td>pupper</td>\n",
       "      <td>True</td>\n",
       "      <td>False</td>\n",
       "      <td>False</td>\n",
       "      <td>1000.0</td>\n",
       "      <td>4079.0</td>\n",
       "    </tr>\n",
       "    <tr>\n",
       "      <th>60</th>\n",
       "      <td>https://twitter.com/dog_rates/status/759793422...</td>\n",
       "      <td>NaN</td>\n",
       "      <td>NaN</td>\n",
       "      <td>Maggie</td>\n",
       "      <td>10</td>\n",
       "      <td>12</td>\n",
       "      <td>NaN</td>\n",
       "      <td>NaN</td>\n",
       "      <td>NaN</td>\n",
       "      <td>&lt;a href=\"http://twitter.com/download/iphone\" r...</td>\n",
       "      <td>Meet Maggie &amp;amp; Lila. Maggie is the doggo, L...</td>\n",
       "      <td>2016-07-31 16:50:42+00:00</td>\n",
       "      <td>759793422261743616</td>\n",
       "      <td>doggo</td>\n",
       "      <td>True</td>\n",
       "      <td>True</td>\n",
       "      <td>True</td>\n",
       "      <td>1753.0</td>\n",
       "      <td>5554.0</td>\n",
       "    </tr>\n",
       "    <tr>\n",
       "      <th>143</th>\n",
       "      <td>https://twitter.com/dog_rates/status/759793422...</td>\n",
       "      <td>NaN</td>\n",
       "      <td>NaN</td>\n",
       "      <td>Maggie</td>\n",
       "      <td>10</td>\n",
       "      <td>12</td>\n",
       "      <td>NaN</td>\n",
       "      <td>NaN</td>\n",
       "      <td>NaN</td>\n",
       "      <td>&lt;a href=\"http://twitter.com/download/iphone\" r...</td>\n",
       "      <td>Meet Maggie &amp;amp; Lila. Maggie is the doggo, L...</td>\n",
       "      <td>2016-07-31 16:50:42+00:00</td>\n",
       "      <td>759793422261743616</td>\n",
       "      <td>pupper</td>\n",
       "      <td>True</td>\n",
       "      <td>True</td>\n",
       "      <td>True</td>\n",
       "      <td>1753.0</td>\n",
       "      <td>5554.0</td>\n",
       "    </tr>\n",
       "    <tr>\n",
       "      <th>50</th>\n",
       "      <td>https://vine.co/v/5rgu2Law2ut</td>\n",
       "      <td>NaN</td>\n",
       "      <td>NaN</td>\n",
       "      <td>None</td>\n",
       "      <td>10</td>\n",
       "      <td>12</td>\n",
       "      <td>NaN</td>\n",
       "      <td>NaN</td>\n",
       "      <td>NaN</td>\n",
       "      <td>&lt;a href=\"http://vine.co\" rel=\"nofollow\"&gt;Vine -...</td>\n",
       "      <td>Pupper butt 1, Doggo 0. Both 12/10 https://t.c...</td>\n",
       "      <td>2016-09-29 01:42:20+00:00</td>\n",
       "      <td>781308096455073793</td>\n",
       "      <td>doggo</td>\n",
       "      <td>NaN</td>\n",
       "      <td>NaN</td>\n",
       "      <td>NaN</td>\n",
       "      <td>2369.0</td>\n",
       "      <td>6696.0</td>\n",
       "    </tr>\n",
       "    <tr>\n",
       "      <th>132</th>\n",
       "      <td>https://vine.co/v/5rgu2Law2ut</td>\n",
       "      <td>NaN</td>\n",
       "      <td>NaN</td>\n",
       "      <td>None</td>\n",
       "      <td>10</td>\n",
       "      <td>12</td>\n",
       "      <td>NaN</td>\n",
       "      <td>NaN</td>\n",
       "      <td>NaN</td>\n",
       "      <td>&lt;a href=\"http://vine.co\" rel=\"nofollow\"&gt;Vine -...</td>\n",
       "      <td>Pupper butt 1, Doggo 0. Both 12/10 https://t.c...</td>\n",
       "      <td>2016-09-29 01:42:20+00:00</td>\n",
       "      <td>781308096455073793</td>\n",
       "      <td>pupper</td>\n",
       "      <td>NaN</td>\n",
       "      <td>NaN</td>\n",
       "      <td>NaN</td>\n",
       "      <td>2369.0</td>\n",
       "      <td>6696.0</td>\n",
       "    </tr>\n",
       "    <tr>\n",
       "      <th>46</th>\n",
       "      <td>https://twitter.com/dog_rates/status/785639753...</td>\n",
       "      <td>NaN</td>\n",
       "      <td>NaN</td>\n",
       "      <td>Pinot</td>\n",
       "      <td>10</td>\n",
       "      <td>10</td>\n",
       "      <td>NaN</td>\n",
       "      <td>NaN</td>\n",
       "      <td>NaN</td>\n",
       "      <td>&lt;a href=\"http://twitter.com/download/iphone\" r...</td>\n",
       "      <td>This is Pinot. He's a sophisticated doggo. You...</td>\n",
       "      <td>2016-10-11 00:34:48+00:00</td>\n",
       "      <td>785639753186217984</td>\n",
       "      <td>doggo</td>\n",
       "      <td>False</td>\n",
       "      <td>False</td>\n",
       "      <td>False</td>\n",
       "      <td>2093.0</td>\n",
       "      <td>7410.0</td>\n",
       "    </tr>\n",
       "    <tr>\n",
       "      <th>131</th>\n",
       "      <td>https://twitter.com/dog_rates/status/785639753...</td>\n",
       "      <td>NaN</td>\n",
       "      <td>NaN</td>\n",
       "      <td>Pinot</td>\n",
       "      <td>10</td>\n",
       "      <td>10</td>\n",
       "      <td>NaN</td>\n",
       "      <td>NaN</td>\n",
       "      <td>NaN</td>\n",
       "      <td>&lt;a href=\"http://twitter.com/download/iphone\" r...</td>\n",
       "      <td>This is Pinot. He's a sophisticated doggo. You...</td>\n",
       "      <td>2016-10-11 00:34:48+00:00</td>\n",
       "      <td>785639753186217984</td>\n",
       "      <td>pupper</td>\n",
       "      <td>False</td>\n",
       "      <td>False</td>\n",
       "      <td>False</td>\n",
       "      <td>2093.0</td>\n",
       "      <td>7410.0</td>\n",
       "    </tr>\n",
       "    <tr>\n",
       "      <th>39</th>\n",
       "      <td>https://twitter.com/dog_rates/status/801115127...</td>\n",
       "      <td>NaN</td>\n",
       "      <td>NaN</td>\n",
       "      <td>Bones</td>\n",
       "      <td>10</td>\n",
       "      <td>12</td>\n",
       "      <td>NaN</td>\n",
       "      <td>NaN</td>\n",
       "      <td>NaN</td>\n",
       "      <td>&lt;a href=\"http://twitter.com/download/iphone\" r...</td>\n",
       "      <td>This is Bones. He's being haunted by another d...</td>\n",
       "      <td>2016-11-22 17:28:25+00:00</td>\n",
       "      <td>801115127852503040</td>\n",
       "      <td>doggo</td>\n",
       "      <td>True</td>\n",
       "      <td>True</td>\n",
       "      <td>True</td>\n",
       "      <td>1976.0</td>\n",
       "      <td>7639.0</td>\n",
       "    </tr>\n",
       "    <tr>\n",
       "      <th>126</th>\n",
       "      <td>https://twitter.com/dog_rates/status/801115127...</td>\n",
       "      <td>NaN</td>\n",
       "      <td>NaN</td>\n",
       "      <td>Bones</td>\n",
       "      <td>10</td>\n",
       "      <td>12</td>\n",
       "      <td>NaN</td>\n",
       "      <td>NaN</td>\n",
       "      <td>NaN</td>\n",
       "      <td>&lt;a href=\"http://twitter.com/download/iphone\" r...</td>\n",
       "      <td>This is Bones. He's being haunted by another d...</td>\n",
       "      <td>2016-11-22 17:28:25+00:00</td>\n",
       "      <td>801115127852503040</td>\n",
       "      <td>pupper</td>\n",
       "      <td>True</td>\n",
       "      <td>True</td>\n",
       "      <td>True</td>\n",
       "      <td>1976.0</td>\n",
       "      <td>7639.0</td>\n",
       "    </tr>\n",
       "    <tr>\n",
       "      <th>38</th>\n",
       "      <td>https://twitter.com/dog_rates/status/802265048...</td>\n",
       "      <td>7.331095e+17</td>\n",
       "      <td>4.196984e+09</td>\n",
       "      <td>None</td>\n",
       "      <td>10</td>\n",
       "      <td>11</td>\n",
       "      <td>NaN</td>\n",
       "      <td>NaN</td>\n",
       "      <td>NaN</td>\n",
       "      <td>&lt;a href=\"http://twitter.com/download/iphone\" r...</td>\n",
       "      <td>Like doggo, like pupper version 2. Both 11/10 ...</td>\n",
       "      <td>2016-11-25 21:37:47+00:00</td>\n",
       "      <td>802265048156610565</td>\n",
       "      <td>doggo</td>\n",
       "      <td>True</td>\n",
       "      <td>True</td>\n",
       "      <td>True</td>\n",
       "      <td>1285.0</td>\n",
       "      <td>6580.0</td>\n",
       "    </tr>\n",
       "    <tr>\n",
       "      <th>125</th>\n",
       "      <td>https://twitter.com/dog_rates/status/802265048...</td>\n",
       "      <td>7.331095e+17</td>\n",
       "      <td>4.196984e+09</td>\n",
       "      <td>None</td>\n",
       "      <td>10</td>\n",
       "      <td>11</td>\n",
       "      <td>NaN</td>\n",
       "      <td>NaN</td>\n",
       "      <td>NaN</td>\n",
       "      <td>&lt;a href=\"http://twitter.com/download/iphone\" r...</td>\n",
       "      <td>Like doggo, like pupper version 2. Both 11/10 ...</td>\n",
       "      <td>2016-11-25 21:37:47+00:00</td>\n",
       "      <td>802265048156610565</td>\n",
       "      <td>pupper</td>\n",
       "      <td>True</td>\n",
       "      <td>True</td>\n",
       "      <td>True</td>\n",
       "      <td>1285.0</td>\n",
       "      <td>6580.0</td>\n",
       "    </tr>\n",
       "    <tr>\n",
       "      <th>37</th>\n",
       "      <td>https://twitter.com/dog_rates/status/808106460...</td>\n",
       "      <td>NaN</td>\n",
       "      <td>NaN</td>\n",
       "      <td>None</td>\n",
       "      <td>10</td>\n",
       "      <td>12</td>\n",
       "      <td>NaN</td>\n",
       "      <td>NaN</td>\n",
       "      <td>NaN</td>\n",
       "      <td>&lt;a href=\"http://twitter.com/download/iphone\" r...</td>\n",
       "      <td>Here we have Burke (pupper) and Dexter (doggo)...</td>\n",
       "      <td>2016-12-12 00:29:28+00:00</td>\n",
       "      <td>808106460588765185</td>\n",
       "      <td>doggo</td>\n",
       "      <td>True</td>\n",
       "      <td>True</td>\n",
       "      <td>True</td>\n",
       "      <td>2051.0</td>\n",
       "      <td>8351.0</td>\n",
       "    </tr>\n",
       "    <tr>\n",
       "      <th>122</th>\n",
       "      <td>https://twitter.com/dog_rates/status/808106460...</td>\n",
       "      <td>NaN</td>\n",
       "      <td>NaN</td>\n",
       "      <td>None</td>\n",
       "      <td>10</td>\n",
       "      <td>12</td>\n",
       "      <td>NaN</td>\n",
       "      <td>NaN</td>\n",
       "      <td>NaN</td>\n",
       "      <td>&lt;a href=\"http://twitter.com/download/iphone\" r...</td>\n",
       "      <td>Here we have Burke (pupper) and Dexter (doggo)...</td>\n",
       "      <td>2016-12-12 00:29:28+00:00</td>\n",
       "      <td>808106460588765185</td>\n",
       "      <td>pupper</td>\n",
       "      <td>True</td>\n",
       "      <td>True</td>\n",
       "      <td>True</td>\n",
       "      <td>2051.0</td>\n",
       "      <td>8351.0</td>\n",
       "    </tr>\n",
       "    <tr>\n",
       "      <th>117</th>\n",
       "      <td>https://twitter.com/dog_rates/status/817777686...</td>\n",
       "      <td>NaN</td>\n",
       "      <td>NaN</td>\n",
       "      <td>Dido</td>\n",
       "      <td>10</td>\n",
       "      <td>13</td>\n",
       "      <td>NaN</td>\n",
       "      <td>NaN</td>\n",
       "      <td>NaN</td>\n",
       "      <td>&lt;a href=\"http://twitter.com/download/iphone\" r...</td>\n",
       "      <td>This is Dido. She's playing the lead role in \"...</td>\n",
       "      <td>2017-01-07 16:59:28+00:00</td>\n",
       "      <td>817777686764523521</td>\n",
       "      <td>pupper</td>\n",
       "      <td>True</td>\n",
       "      <td>True</td>\n",
       "      <td>True</td>\n",
       "      <td>2509.0</td>\n",
       "      <td>10176.0</td>\n",
       "    </tr>\n",
       "    <tr>\n",
       "      <th>32</th>\n",
       "      <td>https://twitter.com/dog_rates/status/817777686...</td>\n",
       "      <td>NaN</td>\n",
       "      <td>NaN</td>\n",
       "      <td>Dido</td>\n",
       "      <td>10</td>\n",
       "      <td>13</td>\n",
       "      <td>NaN</td>\n",
       "      <td>NaN</td>\n",
       "      <td>NaN</td>\n",
       "      <td>&lt;a href=\"http://twitter.com/download/iphone\" r...</td>\n",
       "      <td>This is Dido. She's playing the lead role in \"...</td>\n",
       "      <td>2017-01-07 16:59:28+00:00</td>\n",
       "      <td>817777686764523521</td>\n",
       "      <td>doggo</td>\n",
       "      <td>True</td>\n",
       "      <td>True</td>\n",
       "      <td>True</td>\n",
       "      <td>2509.0</td>\n",
       "      <td>10176.0</td>\n",
       "    </tr>\n",
       "    <tr>\n",
       "      <th>8</th>\n",
       "      <td>https://twitter.com/dog_rates/status/854010172...</td>\n",
       "      <td>NaN</td>\n",
       "      <td>NaN</td>\n",
       "      <td>None</td>\n",
       "      <td>10</td>\n",
       "      <td>11</td>\n",
       "      <td>NaN</td>\n",
       "      <td>NaN</td>\n",
       "      <td>NaN</td>\n",
       "      <td>&lt;a href=\"http://twitter.com/download/iphone\" r...</td>\n",
       "      <td>At first I thought this was a shy doggo, but i...</td>\n",
       "      <td>2017-04-17 16:34:26+00:00</td>\n",
       "      <td>854010172552949760</td>\n",
       "      <td>doggo</td>\n",
       "      <td>True</td>\n",
       "      <td>True</td>\n",
       "      <td>True</td>\n",
       "      <td>2779.0</td>\n",
       "      <td>14769.0</td>\n",
       "    </tr>\n",
       "    <tr>\n",
       "      <th>88</th>\n",
       "      <td>https://twitter.com/dog_rates/status/854010172...</td>\n",
       "      <td>NaN</td>\n",
       "      <td>NaN</td>\n",
       "      <td>None</td>\n",
       "      <td>10</td>\n",
       "      <td>11</td>\n",
       "      <td>NaN</td>\n",
       "      <td>NaN</td>\n",
       "      <td>NaN</td>\n",
       "      <td>&lt;a href=\"http://twitter.com/download/iphone\" r...</td>\n",
       "      <td>At first I thought this was a shy doggo, but i...</td>\n",
       "      <td>2017-04-17 16:34:26+00:00</td>\n",
       "      <td>854010172552949760</td>\n",
       "      <td>floofer</td>\n",
       "      <td>True</td>\n",
       "      <td>True</td>\n",
       "      <td>True</td>\n",
       "      <td>2779.0</td>\n",
       "      <td>14769.0</td>\n",
       "    </tr>\n",
       "    <tr>\n",
       "      <th>7</th>\n",
       "      <td>https://twitter.com/dog_rates/status/855851453...</td>\n",
       "      <td>NaN</td>\n",
       "      <td>NaN</td>\n",
       "      <td>None</td>\n",
       "      <td>10</td>\n",
       "      <td>13</td>\n",
       "      <td>NaN</td>\n",
       "      <td>NaN</td>\n",
       "      <td>NaN</td>\n",
       "      <td>&lt;a href=\"http://twitter.com/download/iphone\" r...</td>\n",
       "      <td>Here's a puppo participating in the #ScienceMa...</td>\n",
       "      <td>2017-04-22 18:31:02+00:00</td>\n",
       "      <td>855851453814013952</td>\n",
       "      <td>doggo</td>\n",
       "      <td>True</td>\n",
       "      <td>True</td>\n",
       "      <td>True</td>\n",
       "      <td>16054.0</td>\n",
       "      <td>41727.0</td>\n",
       "    </tr>\n",
       "    <tr>\n",
       "      <th>337</th>\n",
       "      <td>https://twitter.com/dog_rates/status/855851453...</td>\n",
       "      <td>NaN</td>\n",
       "      <td>NaN</td>\n",
       "      <td>None</td>\n",
       "      <td>10</td>\n",
       "      <td>13</td>\n",
       "      <td>NaN</td>\n",
       "      <td>NaN</td>\n",
       "      <td>NaN</td>\n",
       "      <td>&lt;a href=\"http://twitter.com/download/iphone\" r...</td>\n",
       "      <td>Here's a puppo participating in the #ScienceMa...</td>\n",
       "      <td>2017-04-22 18:31:02+00:00</td>\n",
       "      <td>855851453814013952</td>\n",
       "      <td>puppo</td>\n",
       "      <td>True</td>\n",
       "      <td>True</td>\n",
       "      <td>True</td>\n",
       "      <td>16054.0</td>\n",
       "      <td>41727.0</td>\n",
       "    </tr>\n",
       "  </tbody>\n",
       "</table>\n",
       "</div>"
      ],
      "text/plain": [
       "                                         expanded_urls  in_reply_to_status_id  \\\n",
       "81   https://twitter.com/dog_rates/status/733109485...                    NaN   \n",
       "169  https://twitter.com/dog_rates/status/733109485...                    NaN   \n",
       "77   https://twitter.com/dog_rates/status/741067306...                    NaN   \n",
       "162  https://twitter.com/dog_rates/status/741067306...                    NaN   \n",
       "68   https://twitter.com/dog_rates/status/751583847...                    NaN   \n",
       "147  https://twitter.com/dog_rates/status/751583847...                    NaN   \n",
       "60   https://twitter.com/dog_rates/status/759793422...                    NaN   \n",
       "143  https://twitter.com/dog_rates/status/759793422...                    NaN   \n",
       "50                       https://vine.co/v/5rgu2Law2ut                    NaN   \n",
       "132                      https://vine.co/v/5rgu2Law2ut                    NaN   \n",
       "46   https://twitter.com/dog_rates/status/785639753...                    NaN   \n",
       "131  https://twitter.com/dog_rates/status/785639753...                    NaN   \n",
       "39   https://twitter.com/dog_rates/status/801115127...                    NaN   \n",
       "126  https://twitter.com/dog_rates/status/801115127...                    NaN   \n",
       "38   https://twitter.com/dog_rates/status/802265048...           7.331095e+17   \n",
       "125  https://twitter.com/dog_rates/status/802265048...           7.331095e+17   \n",
       "37   https://twitter.com/dog_rates/status/808106460...                    NaN   \n",
       "122  https://twitter.com/dog_rates/status/808106460...                    NaN   \n",
       "117  https://twitter.com/dog_rates/status/817777686...                    NaN   \n",
       "32   https://twitter.com/dog_rates/status/817777686...                    NaN   \n",
       "8    https://twitter.com/dog_rates/status/854010172...                    NaN   \n",
       "88   https://twitter.com/dog_rates/status/854010172...                    NaN   \n",
       "7    https://twitter.com/dog_rates/status/855851453...                    NaN   \n",
       "337  https://twitter.com/dog_rates/status/855851453...                    NaN   \n",
       "\n",
       "     in_reply_to_user_id    name  rating_denominator  rating_numerator  \\\n",
       "81                   NaN    None                  10                12   \n",
       "169                  NaN    None                  10                12   \n",
       "77                   NaN    None                  10                12   \n",
       "162                  NaN    None                  10                12   \n",
       "68                   NaN    None                  10                 5   \n",
       "147                  NaN    None                  10                 5   \n",
       "60                   NaN  Maggie                  10                12   \n",
       "143                  NaN  Maggie                  10                12   \n",
       "50                   NaN    None                  10                12   \n",
       "132                  NaN    None                  10                12   \n",
       "46                   NaN   Pinot                  10                10   \n",
       "131                  NaN   Pinot                  10                10   \n",
       "39                   NaN   Bones                  10                12   \n",
       "126                  NaN   Bones                  10                12   \n",
       "38          4.196984e+09    None                  10                11   \n",
       "125         4.196984e+09    None                  10                11   \n",
       "37                   NaN    None                  10                12   \n",
       "122                  NaN    None                  10                12   \n",
       "117                  NaN    Dido                  10                13   \n",
       "32                   NaN    Dido                  10                13   \n",
       "8                    NaN    None                  10                11   \n",
       "88                   NaN    None                  10                11   \n",
       "7                    NaN    None                  10                13   \n",
       "337                  NaN    None                  10                13   \n",
       "\n",
       "     retweeted_status_id  retweeted_status_timestamp  \\\n",
       "81                   NaN                         NaN   \n",
       "169                  NaN                         NaN   \n",
       "77                   NaN                         NaN   \n",
       "162                  NaN                         NaN   \n",
       "68                   NaN                         NaN   \n",
       "147                  NaN                         NaN   \n",
       "60                   NaN                         NaN   \n",
       "143                  NaN                         NaN   \n",
       "50                   NaN                         NaN   \n",
       "132                  NaN                         NaN   \n",
       "46                   NaN                         NaN   \n",
       "131                  NaN                         NaN   \n",
       "39                   NaN                         NaN   \n",
       "126                  NaN                         NaN   \n",
       "38                   NaN                         NaN   \n",
       "125                  NaN                         NaN   \n",
       "37                   NaN                         NaN   \n",
       "122                  NaN                         NaN   \n",
       "117                  NaN                         NaN   \n",
       "32                   NaN                         NaN   \n",
       "8                    NaN                         NaN   \n",
       "88                   NaN                         NaN   \n",
       "7                    NaN                         NaN   \n",
       "337                  NaN                         NaN   \n",
       "\n",
       "     retweeted_status_user_id  \\\n",
       "81                        NaN   \n",
       "169                       NaN   \n",
       "77                        NaN   \n",
       "162                       NaN   \n",
       "68                        NaN   \n",
       "147                       NaN   \n",
       "60                        NaN   \n",
       "143                       NaN   \n",
       "50                        NaN   \n",
       "132                       NaN   \n",
       "46                        NaN   \n",
       "131                       NaN   \n",
       "39                        NaN   \n",
       "126                       NaN   \n",
       "38                        NaN   \n",
       "125                       NaN   \n",
       "37                        NaN   \n",
       "122                       NaN   \n",
       "117                       NaN   \n",
       "32                        NaN   \n",
       "8                         NaN   \n",
       "88                        NaN   \n",
       "7                         NaN   \n",
       "337                       NaN   \n",
       "\n",
       "                                                source  \\\n",
       "81   <a href=\"http://twitter.com/download/iphone\" r...   \n",
       "169  <a href=\"http://twitter.com/download/iphone\" r...   \n",
       "77   <a href=\"http://twitter.com/download/iphone\" r...   \n",
       "162  <a href=\"http://twitter.com/download/iphone\" r...   \n",
       "68   <a href=\"http://twitter.com/download/iphone\" r...   \n",
       "147  <a href=\"http://twitter.com/download/iphone\" r...   \n",
       "60   <a href=\"http://twitter.com/download/iphone\" r...   \n",
       "143  <a href=\"http://twitter.com/download/iphone\" r...   \n",
       "50   <a href=\"http://vine.co\" rel=\"nofollow\">Vine -...   \n",
       "132  <a href=\"http://vine.co\" rel=\"nofollow\">Vine -...   \n",
       "46   <a href=\"http://twitter.com/download/iphone\" r...   \n",
       "131  <a href=\"http://twitter.com/download/iphone\" r...   \n",
       "39   <a href=\"http://twitter.com/download/iphone\" r...   \n",
       "126  <a href=\"http://twitter.com/download/iphone\" r...   \n",
       "38   <a href=\"http://twitter.com/download/iphone\" r...   \n",
       "125  <a href=\"http://twitter.com/download/iphone\" r...   \n",
       "37   <a href=\"http://twitter.com/download/iphone\" r...   \n",
       "122  <a href=\"http://twitter.com/download/iphone\" r...   \n",
       "117  <a href=\"http://twitter.com/download/iphone\" r...   \n",
       "32   <a href=\"http://twitter.com/download/iphone\" r...   \n",
       "8    <a href=\"http://twitter.com/download/iphone\" r...   \n",
       "88   <a href=\"http://twitter.com/download/iphone\" r...   \n",
       "7    <a href=\"http://twitter.com/download/iphone\" r...   \n",
       "337  <a href=\"http://twitter.com/download/iphone\" r...   \n",
       "\n",
       "                                                  text  \\\n",
       "81   Like father (doggo), like son (pupper). Both 1...   \n",
       "169  Like father (doggo), like son (pupper). Both 1...   \n",
       "77   This is just downright precious af. 12/10 for ...   \n",
       "162  This is just downright precious af. 12/10 for ...   \n",
       "68   Please stop sending it pictures that don't eve...   \n",
       "147  Please stop sending it pictures that don't eve...   \n",
       "60   Meet Maggie &amp; Lila. Maggie is the doggo, L...   \n",
       "143  Meet Maggie &amp; Lila. Maggie is the doggo, L...   \n",
       "50   Pupper butt 1, Doggo 0. Both 12/10 https://t.c...   \n",
       "132  Pupper butt 1, Doggo 0. Both 12/10 https://t.c...   \n",
       "46   This is Pinot. He's a sophisticated doggo. You...   \n",
       "131  This is Pinot. He's a sophisticated doggo. You...   \n",
       "39   This is Bones. He's being haunted by another d...   \n",
       "126  This is Bones. He's being haunted by another d...   \n",
       "38   Like doggo, like pupper version 2. Both 11/10 ...   \n",
       "125  Like doggo, like pupper version 2. Both 11/10 ...   \n",
       "37   Here we have Burke (pupper) and Dexter (doggo)...   \n",
       "122  Here we have Burke (pupper) and Dexter (doggo)...   \n",
       "117  This is Dido. She's playing the lead role in \"...   \n",
       "32   This is Dido. She's playing the lead role in \"...   \n",
       "8    At first I thought this was a shy doggo, but i...   \n",
       "88   At first I thought this was a shy doggo, but i...   \n",
       "7    Here's a puppo participating in the #ScienceMa...   \n",
       "337  Here's a puppo participating in the #ScienceMa...   \n",
       "\n",
       "                     timestamp            tweet_id dog_type p1_dog p2_dog  \\\n",
       "81   2016-05-19 01:38:16+00:00  733109485275860992    doggo   True   True   \n",
       "169  2016-05-19 01:38:16+00:00  733109485275860992   pupper   True   True   \n",
       "77   2016-06-10 00:39:48+00:00  741067306818797568    doggo   True   True   \n",
       "162  2016-06-10 00:39:48+00:00  741067306818797568   pupper   True   True   \n",
       "68   2016-07-09 01:08:47+00:00  751583847268179968    doggo   True  False   \n",
       "147  2016-07-09 01:08:47+00:00  751583847268179968   pupper   True  False   \n",
       "60   2016-07-31 16:50:42+00:00  759793422261743616    doggo   True   True   \n",
       "143  2016-07-31 16:50:42+00:00  759793422261743616   pupper   True   True   \n",
       "50   2016-09-29 01:42:20+00:00  781308096455073793    doggo    NaN    NaN   \n",
       "132  2016-09-29 01:42:20+00:00  781308096455073793   pupper    NaN    NaN   \n",
       "46   2016-10-11 00:34:48+00:00  785639753186217984    doggo  False  False   \n",
       "131  2016-10-11 00:34:48+00:00  785639753186217984   pupper  False  False   \n",
       "39   2016-11-22 17:28:25+00:00  801115127852503040    doggo   True   True   \n",
       "126  2016-11-22 17:28:25+00:00  801115127852503040   pupper   True   True   \n",
       "38   2016-11-25 21:37:47+00:00  802265048156610565    doggo   True   True   \n",
       "125  2016-11-25 21:37:47+00:00  802265048156610565   pupper   True   True   \n",
       "37   2016-12-12 00:29:28+00:00  808106460588765185    doggo   True   True   \n",
       "122  2016-12-12 00:29:28+00:00  808106460588765185   pupper   True   True   \n",
       "117  2017-01-07 16:59:28+00:00  817777686764523521   pupper   True   True   \n",
       "32   2017-01-07 16:59:28+00:00  817777686764523521    doggo   True   True   \n",
       "8    2017-04-17 16:34:26+00:00  854010172552949760    doggo   True   True   \n",
       "88   2017-04-17 16:34:26+00:00  854010172552949760  floofer   True   True   \n",
       "7    2017-04-22 18:31:02+00:00  855851453814013952    doggo   True   True   \n",
       "337  2017-04-22 18:31:02+00:00  855851453814013952    puppo   True   True   \n",
       "\n",
       "    p3_dog  retweet_count  favorite_count  \n",
       "81   False        15418.0         49050.0  \n",
       "169  False        15418.0         49050.0  \n",
       "77    True         2793.0          8814.0  \n",
       "162   True         2793.0          8814.0  \n",
       "68   False         1000.0          4079.0  \n",
       "147  False         1000.0          4079.0  \n",
       "60    True         1753.0          5554.0  \n",
       "143   True         1753.0          5554.0  \n",
       "50     NaN         2369.0          6696.0  \n",
       "132    NaN         2369.0          6696.0  \n",
       "46   False         2093.0          7410.0  \n",
       "131  False         2093.0          7410.0  \n",
       "39    True         1976.0          7639.0  \n",
       "126   True         1976.0          7639.0  \n",
       "38    True         1285.0          6580.0  \n",
       "125   True         1285.0          6580.0  \n",
       "37    True         2051.0          8351.0  \n",
       "122   True         2051.0          8351.0  \n",
       "117   True         2509.0         10176.0  \n",
       "32    True         2509.0         10176.0  \n",
       "8     True         2779.0         14769.0  \n",
       "88    True         2779.0         14769.0  \n",
       "7     True        16054.0         41727.0  \n",
       "337   True        16054.0         41727.0  "
      ]
     },
     "execution_count": 355,
     "metadata": {},
     "output_type": "execute_result"
    }
   ],
   "source": [
    "# show all duplcates\n",
    "master[master.duplicated(subset='tweet_id', keep=False) == True].sort_values(by='tweet_id')"
   ]
  },
  {
   "cell_type": "code",
   "execution_count": 351,
   "metadata": {},
   "outputs": [
    {
     "data": {
      "text/plain": [
       "'https://twitter.com/dog_rates/status/733109485275860992/photo/1'"
      ]
     },
     "execution_count": 351,
     "metadata": {},
     "output_type": "execute_result"
    }
   ],
   "source": [
    "master[master.duplicated(subset='tweet_id', keep=False) == True].sort_values(by='tweet_id').at[81, 'expanded_urls']"
   ]
  },
  {
   "cell_type": "code",
   "execution_count": null,
   "metadata": {},
   "outputs": [
    {
     "name": "stdout",
     "output_type": "stream",
     "text": [
      "Check distinct rows in tweet_api True\n",
      "Check distinct rows in image prediction True\n"
     ]
    }
   ],
   "source": [
    "## Tweet_ID having the biggest retweets and favorites\n",
    "# check distinction in the other 2 datasets to make sure left join without duplications\n",
    "print('Check distinct rows in tweet_api', tweet_api['tweet_id'].nunique() == tweet_api['tweet_id'].shape[0])\n",
    "print('Check distinct rows in image prediction', image_prediction['tweet_id'].nunique() == image_prediction['tweet_id'].shape[0]) "
   ]
  },
  {
   "cell_type": "code",
   "execution_count": 356,
   "metadata": {},
   "outputs": [
    {
     "data": {
      "text/html": [
       "<div>\n",
       "<style scoped>\n",
       "    .dataframe tbody tr th:only-of-type {\n",
       "        vertical-align: middle;\n",
       "    }\n",
       "\n",
       "    .dataframe tbody tr th {\n",
       "        vertical-align: top;\n",
       "    }\n",
       "\n",
       "    .dataframe thead th {\n",
       "        text-align: right;\n",
       "    }\n",
       "</style>\n",
       "<table border=\"1\" class=\"dataframe\">\n",
       "  <thead>\n",
       "    <tr style=\"text-align: right;\">\n",
       "      <th></th>\n",
       "      <th>expanded_urls</th>\n",
       "      <th>in_reply_to_status_id</th>\n",
       "      <th>in_reply_to_user_id</th>\n",
       "      <th>name</th>\n",
       "      <th>rating_denominator</th>\n",
       "      <th>rating_numerator</th>\n",
       "      <th>retweeted_status_id</th>\n",
       "      <th>retweeted_status_timestamp</th>\n",
       "      <th>retweeted_status_user_id</th>\n",
       "      <th>source</th>\n",
       "      <th>text</th>\n",
       "      <th>timestamp</th>\n",
       "      <th>tweet_id</th>\n",
       "      <th>dog_type</th>\n",
       "      <th>p1_dog</th>\n",
       "      <th>p2_dog</th>\n",
       "      <th>p3_dog</th>\n",
       "      <th>retweet_count</th>\n",
       "      <th>favorite_count</th>\n",
       "    </tr>\n",
       "  </thead>\n",
       "  <tbody>\n",
       "    <tr>\n",
       "      <th>75</th>\n",
       "      <td>https://twitter.com/dog_rates/status/744234799...</td>\n",
       "      <td>NaN</td>\n",
       "      <td>NaN</td>\n",
       "      <td>None</td>\n",
       "      <td>10</td>\n",
       "      <td>13</td>\n",
       "      <td>NaN</td>\n",
       "      <td>NaN</td>\n",
       "      <td>NaN</td>\n",
       "      <td>&lt;a href=\"http://twitter.com/download/iphone\" r...</td>\n",
       "      <td>Here's a doggo realizing you can stand in a po...</td>\n",
       "      <td>2016-06-18 18:26:18+00:00</td>\n",
       "      <td>744234799360020481</td>\n",
       "      <td>doggo</td>\n",
       "      <td>True</td>\n",
       "      <td>False</td>\n",
       "      <td>True</td>\n",
       "      <td>70116.0</td>\n",
       "      <td>143796.0</td>\n",
       "    </tr>\n",
       "    <tr>\n",
       "      <th>340</th>\n",
       "      <td>https://twitter.com/dog_rates/status/822872901...</td>\n",
       "      <td>NaN</td>\n",
       "      <td>NaN</td>\n",
       "      <td>None</td>\n",
       "      <td>10</td>\n",
       "      <td>13</td>\n",
       "      <td>NaN</td>\n",
       "      <td>NaN</td>\n",
       "      <td>NaN</td>\n",
       "      <td>&lt;a href=\"http://twitter.com/download/iphone\" r...</td>\n",
       "      <td>Here's a super supportive puppo participating ...</td>\n",
       "      <td>2017-01-21 18:26:02+00:00</td>\n",
       "      <td>822872901745569793</td>\n",
       "      <td>puppo</td>\n",
       "      <td>True</td>\n",
       "      <td>True</td>\n",
       "      <td>True</td>\n",
       "      <td>39660.0</td>\n",
       "      <td>123296.0</td>\n",
       "    </tr>\n",
       "    <tr>\n",
       "      <th>724</th>\n",
       "      <td>https://twitter.com/dog_rates/status/807106840...</td>\n",
       "      <td>NaN</td>\n",
       "      <td>NaN</td>\n",
       "      <td>Stephan</td>\n",
       "      <td>10</td>\n",
       "      <td>13</td>\n",
       "      <td>NaN</td>\n",
       "      <td>NaN</td>\n",
       "      <td>NaN</td>\n",
       "      <td>&lt;a href=\"http://twitter.com/download/iphone\" r...</td>\n",
       "      <td>This is Stephan. He just wants to help. 13/10 ...</td>\n",
       "      <td>2016-12-09 06:17:20+00:00</td>\n",
       "      <td>807106840509214720</td>\n",
       "      <td>None</td>\n",
       "      <td>True</td>\n",
       "      <td>True</td>\n",
       "      <td>True</td>\n",
       "      <td>51274.0</td>\n",
       "      <td>110832.0</td>\n",
       "    </tr>\n",
       "    <tr>\n",
       "      <th>104</th>\n",
       "      <td>https://twitter.com/dog_rates/status/866450705...</td>\n",
       "      <td>NaN</td>\n",
       "      <td>NaN</td>\n",
       "      <td>Jamesy</td>\n",
       "      <td>10</td>\n",
       "      <td>13</td>\n",
       "      <td>NaN</td>\n",
       "      <td>NaN</td>\n",
       "      <td>NaN</td>\n",
       "      <td>&lt;a href=\"http://twitter.com/download/iphone\" r...</td>\n",
       "      <td>This is Jamesy. He gives a kiss to every other...</td>\n",
       "      <td>2017-05-22 00:28:40+00:00</td>\n",
       "      <td>866450705531457537</td>\n",
       "      <td>pupper</td>\n",
       "      <td>True</td>\n",
       "      <td>True</td>\n",
       "      <td>True</td>\n",
       "      <td>29995.0</td>\n",
       "      <td>108243.0</td>\n",
       "    </tr>\n",
       "    <tr>\n",
       "      <th>79</th>\n",
       "      <td>https://twitter.com/dog_rates/status/739238157...</td>\n",
       "      <td>NaN</td>\n",
       "      <td>NaN</td>\n",
       "      <td>None</td>\n",
       "      <td>10</td>\n",
       "      <td>13</td>\n",
       "      <td>NaN</td>\n",
       "      <td>NaN</td>\n",
       "      <td>NaN</td>\n",
       "      <td>&lt;a href=\"http://twitter.com/download/iphone\" r...</td>\n",
       "      <td>Here's a doggo blowing bubbles. It's downright...</td>\n",
       "      <td>2016-06-04 23:31:25+00:00</td>\n",
       "      <td>739238157791694849</td>\n",
       "      <td>doggo</td>\n",
       "      <td>True</td>\n",
       "      <td>True</td>\n",
       "      <td>True</td>\n",
       "      <td>52484.0</td>\n",
       "      <td>106478.0</td>\n",
       "    </tr>\n",
       "  </tbody>\n",
       "</table>\n",
       "</div>"
      ],
      "text/plain": [
       "                                         expanded_urls  in_reply_to_status_id  \\\n",
       "75   https://twitter.com/dog_rates/status/744234799...                    NaN   \n",
       "340  https://twitter.com/dog_rates/status/822872901...                    NaN   \n",
       "724  https://twitter.com/dog_rates/status/807106840...                    NaN   \n",
       "104  https://twitter.com/dog_rates/status/866450705...                    NaN   \n",
       "79   https://twitter.com/dog_rates/status/739238157...                    NaN   \n",
       "\n",
       "     in_reply_to_user_id     name  rating_denominator  rating_numerator  \\\n",
       "75                   NaN     None                  10                13   \n",
       "340                  NaN     None                  10                13   \n",
       "724                  NaN  Stephan                  10                13   \n",
       "104                  NaN   Jamesy                  10                13   \n",
       "79                   NaN     None                  10                13   \n",
       "\n",
       "     retweeted_status_id  retweeted_status_timestamp  \\\n",
       "75                   NaN                         NaN   \n",
       "340                  NaN                         NaN   \n",
       "724                  NaN                         NaN   \n",
       "104                  NaN                         NaN   \n",
       "79                   NaN                         NaN   \n",
       "\n",
       "     retweeted_status_user_id  \\\n",
       "75                        NaN   \n",
       "340                       NaN   \n",
       "724                       NaN   \n",
       "104                       NaN   \n",
       "79                        NaN   \n",
       "\n",
       "                                                source  \\\n",
       "75   <a href=\"http://twitter.com/download/iphone\" r...   \n",
       "340  <a href=\"http://twitter.com/download/iphone\" r...   \n",
       "724  <a href=\"http://twitter.com/download/iphone\" r...   \n",
       "104  <a href=\"http://twitter.com/download/iphone\" r...   \n",
       "79   <a href=\"http://twitter.com/download/iphone\" r...   \n",
       "\n",
       "                                                  text  \\\n",
       "75   Here's a doggo realizing you can stand in a po...   \n",
       "340  Here's a super supportive puppo participating ...   \n",
       "724  This is Stephan. He just wants to help. 13/10 ...   \n",
       "104  This is Jamesy. He gives a kiss to every other...   \n",
       "79   Here's a doggo blowing bubbles. It's downright...   \n",
       "\n",
       "                     timestamp            tweet_id dog_type p1_dog p2_dog  \\\n",
       "75   2016-06-18 18:26:18+00:00  744234799360020481    doggo   True  False   \n",
       "340  2017-01-21 18:26:02+00:00  822872901745569793    puppo   True   True   \n",
       "724  2016-12-09 06:17:20+00:00  807106840509214720     None   True   True   \n",
       "104  2017-05-22 00:28:40+00:00  866450705531457537   pupper   True   True   \n",
       "79   2016-06-04 23:31:25+00:00  739238157791694849    doggo   True   True   \n",
       "\n",
       "    p3_dog  retweet_count  favorite_count  \n",
       "75    True        70116.0        143796.0  \n",
       "340   True        39660.0        123296.0  \n",
       "724   True        51274.0        110832.0  \n",
       "104   True        29995.0        108243.0  \n",
       "79    True        52484.0        106478.0  "
      ]
     },
     "execution_count": 356,
     "metadata": {},
     "output_type": "execute_result"
    }
   ],
   "source": [
    "## Tweet_ID having the biggest retweets and favorites\n",
    "# sort values from largest to smallest to see the largest retweets and favoites\n",
    "master.sort_values(by='favorite_count', ascending=False).head()\n"
   ]
  },
  {
   "cell_type": "code",
   "execution_count": 357,
   "metadata": {},
   "outputs": [
    {
     "data": {
      "text/plain": [
       "'https://twitter.com/dog_rates/status/719991154352222208/photo/1'"
      ]
     },
     "execution_count": 357,
     "metadata": {},
     "output_type": "execute_result"
    }
   ],
   "source": [
    "## Tweet_ID having the biggest retweets and favorites\n",
    "# check the url of tweet which has the biggest number of retweets and favorites\n",
    "master.at[85,'expanded_urls']"
   ]
  },
  {
   "cell_type": "code",
   "execution_count": 358,
   "metadata": {},
   "outputs": [
    {
     "data": {
      "text/plain": [
       "1.2242855747690002"
      ]
     },
     "execution_count": 358,
     "metadata": {},
     "output_type": "execute_result"
    }
   ],
   "source": [
    "## Average of rating numerator per denominator\n",
    "# calculate the average of rating numerator per denominator\n",
    "from numpy import average\n",
    "average(master.drop_duplicates('tweet_id').rating_numerator/master.drop_duplicates('tweet_id').rating_denominator)"
   ]
  },
  {
   "cell_type": "code",
   "execution_count": 359,
   "metadata": {},
   "outputs": [
    {
     "name": "stdout",
     "output_type": "stream",
     "text": [
      "At least one True prediction 0.8458835341365462\n",
      "All True prediction 0.6034136546184738\n"
     ]
    },
    {
     "data": {
      "text/plain": [
       "1992"
      ]
     },
     "execution_count": 359,
     "metadata": {},
     "output_type": "execute_result"
    }
   ],
   "source": [
    "## Prediction Rate\n",
    "# drop duplicates on tweet_id level\n",
    "master_1 = master.drop_duplicates('tweet_id')\n",
    "# check total tweet ids which has predictions\n",
    "total_pre = master_1.loc[(master_1.p1_dog + master_1.p2_dog + master_1.p3_dog).isna() == False].shape[0]\n",
    "# check number of tweet ids which has at least 1 True prediction\n",
    "one_true_pre = master_1.loc[master_1.p1_dog + master_1.p2_dog + master_1.p3_dog > 0].shape[0]\n",
    "# check number of tweet ids which has all True prediction\n",
    "all_true_pre = master_1.loc[master_1.p1_dog + master_1.p2_dog + master_1.p3_dog == 3].shape[0]\n",
    "# rate True prediction\n",
    "print('At least one True prediction', one_true_pre/total_pre)\n",
    "print('All True prediction', all_true_pre/total_pre)\n",
    "total_pre"
   ]
  },
  {
   "cell_type": "markdown",
   "metadata": {},
   "source": [
    "### Insights:\n",
    "1. Tweet ID = 744234799360020481 is the tweet with the highest retweet counts and favorite counts in the dataset. This is the url: https://twitter.com/dog_rates/status/744234799360020481/video/1\n",
    "2. The average point of dog rating is 1.22, greater than 1, which means that there exists more tweets using the rating system that rating numerator greater than rating denominator.\n",
    "3. Prediction rate: \n",
    "- At least one True prediction: 0.844187168355041\n",
    "- All True prediction: 0.5991316931982634"
   ]
  },
  {
   "cell_type": "markdown",
   "metadata": {
    "collapsed": true
   },
   "source": [
    "### Visualization"
   ]
  },
  {
   "cell_type": "markdown",
   "metadata": {},
   "source": [
    "In this visualization, my interest is to see the relationship between the rating and the favorite count and retweet count."
   ]
  },
  {
   "cell_type": "code",
   "execution_count": 360,
   "metadata": {},
   "outputs": [
    {
     "name": "stderr",
     "output_type": "stream",
     "text": [
      "C:\\Users\\DE\\AppData\\Roaming\\Python\\Python37\\site-packages\\ipykernel_launcher.py:3: SettingWithCopyWarning: \n",
      "A value is trying to be set on a copy of a slice from a DataFrame.\n",
      "Try using .loc[row_indexer,col_indexer] = value instead\n",
      "\n",
      "See the caveats in the documentation: https://pandas.pydata.org/pandas-docs/stable/user_guide/indexing.html#returning-a-view-versus-a-copy\n",
      "  This is separate from the ipykernel package so we can avoid doing imports until\n"
     ]
    },
    {
     "data": {
      "text/plain": [
       "0       1.4\n",
       "1       1.2\n",
       "2       1.2\n",
       "3       1.2\n",
       "4       1.4\n",
       "       ... \n",
       "2179    0.5\n",
       "2180    0.6\n",
       "2181    0.9\n",
       "2182    0.7\n",
       "2183    0.8\n",
       "Name: rate_point, Length: 2172, dtype: float64"
      ]
     },
     "execution_count": 360,
     "metadata": {},
     "output_type": "execute_result"
    }
   ],
   "source": [
    "# create rate point column\n",
    "master_1 = master.drop_duplicates('tweet_id')\n",
    "master_1['rate_point'] = master_1['rating_numerator']/master_1['rating_denominator']\n",
    "master_1['rate_point']"
   ]
  },
  {
   "cell_type": "code",
   "execution_count": 361,
   "metadata": {},
   "outputs": [
    {
     "data": {
      "text/plain": [
       "Text(0.5, 1.0, 'Retweet count for rate point > 2 (outlier)')"
      ]
     },
     "execution_count": 361,
     "metadata": {},
     "output_type": "execute_result"
    },
    {
     "data": {
      "image/png": "[encoded data removed]",
      "text/plain": [
       "<Figure size 1800x720 with 4 Axes>"
      ]
     },
     "metadata": {
      "needs_background": "light"
     },
     "output_type": "display_data"
    }
   ],
   "source": [
    "# create fig and add subplot\n",
    "fix = plt.figure(figsize=(25,10))\n",
    "ax1 = plt.subplot(2,2,1)\n",
    "ax2 = plt.subplot(2,2,2)\n",
    "ax3 = plt.subplot(2,2,3)\n",
    "ax4 = plt.subplot(2,2,4)\n",
    "\n",
    "# regplot\n",
    "sb.regplot(data=master_1[master_1.rate_point<2], x='rate_point',y='favorite_count', fit_reg=True, ax=ax1)\n",
    "ax1.set_title('Favortie count for rate point < 2')\n",
    "\n",
    "sb.regplot(data=master_1[master_1.rate_point<2], x='rate_point',y='retweet_count', fit_reg=True, ax=ax3)\n",
    "ax3.set_title('Retweet count for rate point < 2')\n",
    "\n",
    "sb.regplot(data=master_1[master_1.rate_point>2], x='rate_point',y='favorite_count', fit_reg=True, ax=ax2)\n",
    "ax2.set_title('Favortie count for rate point > 2 (outlier)')\n",
    "\n",
    "sb.regplot(data=master_1[master_1.rate_point>2], x='rate_point',y='retweet_count', fit_reg=True, ax=ax4)\n",
    "ax4.set_title('Retweet count for rate point > 2 (outlier)')\n"
   ]
  },
  {
   "cell_type": "markdown",
   "metadata": {},
   "source": [
    "There is a slight positive correlation between the rating point and the retweet and favorite count, which means that if the tweet has the higher rating, the chance it will be retweeted or liked will be higher."
   ]
  }
 ],
 "metadata": {
  "extensions": {
   "jupyter_dashboards": {
    "activeView": "report_default",
    "version": 1,
    "views": {
     "grid_default": {
      "cellMargin": 10,
      "defaultCellHeight": 20,
      "maxColumns": 12,
      "name": "grid",
      "type": "grid"
     },
     "report_default": {
      "name": "report",
      "type": "report"
     }
    }
   }
  },
  "kernelspec": {
   "display_name": "Python 3.7.13 ('data_wrangling')",
   "language": "python",
   "name": "python3"
  },
  "language_info": {
   "codemirror_mode": {
    "name": "ipython",
    "version": 3
   },
   "file_extension": ".py",
   "mimetype": "text/x-python",
   "name": "python",
   "nbconvert_exporter": "python",
   "pygments_lexer": "ipython3",
   "version": "3.7.13"
  },
  "vscode": {
   "interpreter": {
    "hash": "757bb194e254ecf1a0e3894dc0da6672b47aebc0c507cccb4239d869fbe1032a"
   }
  }
 },
 "nbformat": 4,
 "nbformat_minor": 2
}
