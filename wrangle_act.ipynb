{
 "cells": [
  {
   "cell_type": "markdown",
   "metadata": {
    "extensions": {
     "jupyter_dashboards": {
      "version": 1,
      "views": {
       "grid_default": {
        "col": 0,
        "height": 4,
        "hidden": false,
        "row": 0,
        "width": 4
       },
       "report_default": {
        "hidden": false
       }
      }
     }
    }
   },
   "source": [
    "# Project: Wrangling and Analyze Data"
   ]
  },
  {
   "cell_type": "markdown",
   "metadata": {},
   "source": [
    "## Data Gathering\n",
    "In the cell below, gather **all** three pieces of data for this project and load them in the notebook. **Note:** the methods required to gather each data are different.\n",
    "1. Directly download the WeRateDogs Twitter archive data (twitter_archive_enhanced.csv)"
   ]
  },
  {
   "cell_type": "code",
   "execution_count": 181,
   "metadata": {},
   "outputs": [],
   "source": [
    "# import packages\n",
    "import pandas as pd\n",
    "import numpy as np\n",
    "import requests as re\n",
    "import os\n",
    "import tweepy as tp\n",
    "import json\n",
    "import matplotlib.pyplot as plt\n",
    "import seaborn as sb"
   ]
  },
  {
   "cell_type": "code",
   "execution_count": 2,
   "metadata": {},
   "outputs": [],
   "source": [
    "# read WeRateDogs Twitter archive file on hand\n",
    "twitter_archive = pd.read_csv(r'C:\\Users\\DE\\Documents\\Data wrangling_Udacity\\twitter-archive-enhanced.csv')"
   ]
  },
  {
   "cell_type": "markdown",
   "metadata": {},
   "source": [
    "2. Use the Requests library to download the tweet image prediction (image_predictions.tsv)"
   ]
  },
  {
   "cell_type": "code",
   "execution_count": 3,
   "metadata": {},
   "outputs": [],
   "source": [
    "# write file tsv containing images\n",
    "path = os.getcwd() # get the current path\n",
    "url = 'https://d17h27t6h515a5.cloudfront.net/topher/2017/August/599fd2ad_image-predictions/image-predictions.tsv'\n",
    "response = re.get(url)\n",
    "if not os.path.exists(url.split('/')[-1]):\n",
    "    with open(os.path.join(path, url.split('/')[-1]), mode = 'wb') as file:\n",
    "        file.write(response.content)\n",
    "        \n",
    "# read image prediction tsv file into dataframe\n",
    "image_prediction = pd.read_csv(r'C:\\Users\\DE\\Documents\\Data wrangling_Udacity\\image-predictions.tsv', sep = '\\t')"
   ]
  },
  {
   "cell_type": "markdown",
   "metadata": {},
   "source": [
    "3. Use the Tweepy library to query additional data via the Twitter API (tweet_json.txt)"
   ]
  },
  {
   "cell_type": "code",
   "execution_count": 4,
   "metadata": {},
   "outputs": [],
   "source": [
    "# query Twitter API for each tweet in the Twitter archive and save JSON in a text file\n",
    "# omit keys from submission to comply with Twitter's API terms and conditions\n",
    "consumer_key = 'trwzMEOtXrAFiyJRW2hZVqA5c'\n",
    "consumer_secret = 'JVI4rTTIyccfAABQDjprAGnpsQ1CEyIWaNfXSTfVei9V5mxVLv'\n",
    "access_token = '1576941143874760704-dhdfW9p2fDUxO2bkxKGOBnTAa2mxZZ'\n",
    "access_secret = 'IIuy2YQxQheg8zG3HN9C9czHAenjpn7rC7AALpctel1ov'\n",
    "\n",
    "auth = tp.OAuthHandler(consumer_key, consumer_secret)\n",
    "auth.set_access_token(access_token, access_secret)\n",
    "\n",
    "api = tp.API(auth, wait_on_rate_limit=True)"
   ]
  },
  {
   "cell_type": "code",
   "execution_count": 5,
   "metadata": {},
   "outputs": [],
   "source": [
    "# avoid gather data again in case the file is ready\n",
    "if not os.path.exists('tweet_json.txt'):\n",
    "    # list twitter id into array to query Twitter API for additional information\n",
    "    list_id = twitter_archive.tweet_id.values\n",
    "\n",
    "    # store each tweet's entire set of JSON data in a file called tweet_json.txt file\n",
    "    fails_dict = {}\n",
    "    with open('tweet_json.txt', 'w', encoding = 'utf-8') as f: \n",
    "        for id in list_id: \n",
    "            try: \n",
    "                tweet = api.get_status(id, tweet_mode='extended')\n",
    "                json.dump(tweet._json, f)\n",
    "                f.write('\\n')\n",
    "            except tp.errors.TweepyException as e: \n",
    "                fails_dict[id] = e\n",
    "                pass   "
   ]
  },
  {
   "cell_type": "code",
   "execution_count": 6,
   "metadata": {},
   "outputs": [],
   "source": [
    "# read tweet_json.txt line by line into dataframe \n",
    "# with tweet ID, retweet count, favorite count\n",
    "df_list = []\n",
    "with open('tweet_json.txt', 'r', encoding = 'utf-8') as f:\n",
    "    for count, line in enumerate(f): \n",
    "        tweet_id = json.loads(line)['id']\n",
    "        retweet_count = json.loads(line)['retweet_count']\n",
    "        favorite_count = json.loads(line)['favorite_count']\n",
    "        df_list.append({'tweet_id': tweet_id, \n",
    "        'retweet_count': retweet_count, \n",
    "        'favorite_count': favorite_count})\n",
    "\n",
    "tweet_api = pd.DataFrame(df_list, columns = ['tweet_id', 'retweet_count', 'favorite_count'])       "
   ]
  },
  {
   "cell_type": "markdown",
   "metadata": {
    "extensions": {
     "jupyter_dashboards": {
      "version": 1,
      "views": {
       "grid_default": {
        "col": 4,
        "height": 4,
        "hidden": false,
        "row": 28,
        "width": 4
       },
       "report_default": {
        "hidden": false
       }
      }
     }
    }
   },
   "source": [
    "## Assessing Data\n",
    "In this section, detect and document at least **eight (8) quality issues and two (2) tidiness issue**. You must use **both** visual assessment\n",
    "programmatic assessement to assess the data.\n",
    "\n",
    "**Note:** pay attention to the following key points when you access the data.\n",
    "\n",
    "* You only want original ratings (no retweets) that have images. Though there are 5000+ tweets in the dataset, not all are dog ratings and some are retweets.\n",
    "* Assessing and cleaning the entire dataset completely would require a lot of time, and is not necessary to practice and demonstrate your skills in data wrangling. Therefore, the requirements of this project are only to assess and clean at least 8 quality issues and at least 2 tidiness issues in this dataset.\n",
    "* The fact that the rating numerators are greater than the denominators does not need to be cleaned. This [unique rating system](http://knowyourmeme.com/memes/theyre-good-dogs-brent) is a big part of the popularity of WeRateDogs.\n",
    "* You do not need to gather the tweets beyond August 1st, 2017. You can, but note that you won't be able to gather the image predictions for these tweets since you don't have access to the algorithm used.\n",
    "\n"
   ]
  },
  {
   "cell_type": "markdown",
   "metadata": {},
   "source": [
    "### Quality Issues"
   ]
  },
  {
   "cell_type": "markdown",
   "metadata": {},
   "source": [
    "1. Change datatype timestamp from string into datetime to exclude tweets beyond August 1st, 2017\n"
   ]
  },
  {
   "cell_type": "code",
   "execution_count": 7,
   "metadata": {},
   "outputs": [
    {
     "name": "stdout",
     "output_type": "stream",
     "text": [
      "<class 'pandas.core.frame.DataFrame'>\n",
      "RangeIndex: 2356 entries, 0 to 2355\n",
      "Data columns (total 17 columns):\n",
      " #   Column                      Non-Null Count  Dtype  \n",
      "---  ------                      --------------  -----  \n",
      " 0   tweet_id                    2356 non-null   int64  \n",
      " 1   in_reply_to_status_id       78 non-null     float64\n",
      " 2   in_reply_to_user_id         78 non-null     float64\n",
      " 3   timestamp                   2356 non-null   object \n",
      " 4   source                      2356 non-null   object \n",
      " 5   text                        2356 non-null   object \n",
      " 6   retweeted_status_id         181 non-null    float64\n",
      " 7   retweeted_status_user_id    181 non-null    float64\n",
      " 8   retweeted_status_timestamp  181 non-null    object \n",
      " 9   expanded_urls               2297 non-null   object \n",
      " 10  rating_numerator            2356 non-null   int64  \n",
      " 11  rating_denominator          2356 non-null   int64  \n",
      " 12  name                        2356 non-null   object \n",
      " 13  doggo                       2356 non-null   object \n",
      " 14  floofer                     2356 non-null   object \n",
      " 15  pupper                      2356 non-null   object \n",
      " 16  puppo                       2356 non-null   object \n",
      "dtypes: float64(4), int64(3), object(10)\n",
      "memory usage: 313.0+ KB\n"
     ]
    }
   ],
   "source": [
    "# check datatype of timestamp column\n",
    "twitter_archive.info()"
   ]
  },
  {
   "cell_type": "code",
   "execution_count": 8,
   "metadata": {},
   "outputs": [
    {
     "data": {
      "text/plain": [
       "0       2017-08-01 16:23:56 +0000\n",
       "1       2017-08-01 00:17:27 +0000\n",
       "2       2017-07-31 00:18:03 +0000\n",
       "3       2017-07-30 15:58:51 +0000\n",
       "4       2017-07-29 16:00:24 +0000\n",
       "                  ...            \n",
       "2351    2015-11-16 00:24:50 +0000\n",
       "2352    2015-11-16 00:04:52 +0000\n",
       "2353    2015-11-15 23:21:54 +0000\n",
       "2354    2015-11-15 23:05:30 +0000\n",
       "2355    2015-11-15 22:32:08 +0000\n",
       "Name: timestamp, Length: 2356, dtype: object"
      ]
     },
     "execution_count": 8,
     "metadata": {},
     "output_type": "execute_result"
    }
   ],
   "source": [
    "# check data format\n",
    "twitter_archive.timestamp"
   ]
  },
  {
   "cell_type": "markdown",
   "metadata": {},
   "source": [
    "2. Rating denominator is equal to 0"
   ]
  },
  {
   "cell_type": "code",
   "execution_count": 9,
   "metadata": {},
   "outputs": [
    {
     "data": {
      "text/html": [
       "<div>\n",
       "<style scoped>\n",
       "    .dataframe tbody tr th:only-of-type {\n",
       "        vertical-align: middle;\n",
       "    }\n",
       "\n",
       "    .dataframe tbody tr th {\n",
       "        vertical-align: top;\n",
       "    }\n",
       "\n",
       "    .dataframe thead th {\n",
       "        text-align: right;\n",
       "    }\n",
       "</style>\n",
       "<table border=\"1\" class=\"dataframe\">\n",
       "  <thead>\n",
       "    <tr style=\"text-align: right;\">\n",
       "      <th></th>\n",
       "      <th>tweet_id</th>\n",
       "      <th>in_reply_to_status_id</th>\n",
       "      <th>in_reply_to_user_id</th>\n",
       "      <th>timestamp</th>\n",
       "      <th>source</th>\n",
       "      <th>text</th>\n",
       "      <th>retweeted_status_id</th>\n",
       "      <th>retweeted_status_user_id</th>\n",
       "      <th>retweeted_status_timestamp</th>\n",
       "      <th>expanded_urls</th>\n",
       "      <th>rating_numerator</th>\n",
       "      <th>rating_denominator</th>\n",
       "      <th>name</th>\n",
       "      <th>doggo</th>\n",
       "      <th>floofer</th>\n",
       "      <th>pupper</th>\n",
       "      <th>puppo</th>\n",
       "    </tr>\n",
       "  </thead>\n",
       "  <tbody>\n",
       "    <tr>\n",
       "      <th>313</th>\n",
       "      <td>835246439529840640</td>\n",
       "      <td>8.352460e+17</td>\n",
       "      <td>26259576.0</td>\n",
       "      <td>2017-02-24 21:54:03 +0000</td>\n",
       "      <td>&lt;a href=\"http://twitter.com/download/iphone\" r...</td>\n",
       "      <td>@jonnysun @Lin_Manuel ok jomny I know you're e...</td>\n",
       "      <td>NaN</td>\n",
       "      <td>NaN</td>\n",
       "      <td>NaN</td>\n",
       "      <td>NaN</td>\n",
       "      <td>960</td>\n",
       "      <td>0</td>\n",
       "      <td>None</td>\n",
       "      <td>None</td>\n",
       "      <td>None</td>\n",
       "      <td>None</td>\n",
       "      <td>None</td>\n",
       "    </tr>\n",
       "  </tbody>\n",
       "</table>\n",
       "</div>"
      ],
      "text/plain": [
       "               tweet_id  in_reply_to_status_id  in_reply_to_user_id  \\\n",
       "313  835246439529840640           8.352460e+17           26259576.0   \n",
       "\n",
       "                     timestamp  \\\n",
       "313  2017-02-24 21:54:03 +0000   \n",
       "\n",
       "                                                source  \\\n",
       "313  <a href=\"http://twitter.com/download/iphone\" r...   \n",
       "\n",
       "                                                  text  retweeted_status_id  \\\n",
       "313  @jonnysun @Lin_Manuel ok jomny I know you're e...                  NaN   \n",
       "\n",
       "     retweeted_status_user_id retweeted_status_timestamp expanded_urls  \\\n",
       "313                       NaN                        NaN           NaN   \n",
       "\n",
       "     rating_numerator  rating_denominator  name doggo floofer pupper puppo  \n",
       "313               960                   0  None  None    None   None  None  "
      ]
     },
     "execution_count": 9,
     "metadata": {},
     "output_type": "execute_result"
    }
   ],
   "source": [
    "twitter_archive[twitter_archive.rating_denominator == 0]"
   ]
  },
  {
   "cell_type": "markdown",
   "metadata": {},
   "source": [
    "3. Column expanded_urls has more 2 links, one in which is not twitter link or duplicated links"
   ]
  },
  {
   "cell_type": "code",
   "execution_count": 10,
   "metadata": {},
   "outputs": [
    {
     "data": {
      "text/plain": [
       "105     https://twitter.com/dog_rates/status/872122724...\n",
       "95      https://twitter.com/dog_rates/status/868880397...\n",
       "68      https://twitter.com/dog_rates/status/878057613...\n",
       "1686    https://twitter.com/dog_rates/status/681610798...\n",
       "435     https://twitter.com/dog_rates/status/800141422...\n",
       "1894    https://twitter.com/dog_rates/status/674743008...\n",
       "1369                        https://vine.co/v/irlDujgwOjd\n",
       "597     https://twitter.com/dog_rates/status/701214700...\n",
       "2100    https://twitter.com/dog_rates/status/670704688...\n",
       "1423    https://twitter.com/dog_rates/status/697995514...\n",
       "Name: expanded_urls, dtype: object"
      ]
     },
     "execution_count": 10,
     "metadata": {},
     "output_type": "execute_result"
    }
   ],
   "source": [
    "# randomly check the data format in expanded_urls\n",
    "twitter_archive.expanded_urls.sample(10)"
   ]
  },
  {
   "cell_type": "code",
   "execution_count": 11,
   "metadata": {},
   "outputs": [
    {
     "data": {
      "text/plain": [
       "'https://www.gofundme.com/help-my-baby-sierra-get-better,https://twitter.com/dog_rates/status/873213775632977920/photo/1,https://twitter.com/dog_rates/status/873213775632977920/photo/1'"
      ]
     },
     "execution_count": 11,
     "metadata": {},
     "output_type": "execute_result"
    }
   ],
   "source": [
    "# check random data to see expanded_urls\n",
    "twitter_archive.at[98, 'expanded_urls']"
   ]
  },
  {
   "cell_type": "markdown",
   "metadata": {},
   "source": [
    "4. Column name contains wrong names"
   ]
  },
  {
   "cell_type": "code",
   "execution_count": 12,
   "metadata": {},
   "outputs": [
    {
     "data": {
      "text/plain": [
       "2179      Tucker\n",
       "435      Peaches\n",
       "668        Bruce\n",
       "2229    Bisquick\n",
       "1509         Leo\n",
       "1145       Karll\n",
       "286        Riley\n",
       "1451       Wyatt\n",
       "2254        None\n",
       "1775       Reese\n",
       "Name: name, dtype: object"
      ]
     },
     "execution_count": 12,
     "metadata": {},
     "output_type": "execute_result"
    }
   ],
   "source": [
    "# special character is not the right name is: a, the, ...\n",
    "twitter_archive.name.sample(10)"
   ]
  },
  {
   "cell_type": "markdown",
   "metadata": {},
   "source": [
    "5. Tweet_ID = 740373189193256964 the dog has the rating is 14/10 "
   ]
  },
  {
   "cell_type": "code",
   "execution_count": 13,
   "metadata": {},
   "outputs": [
    {
     "data": {
      "text/plain": [
       "'https://twitter.com/dog_rates/status/740373189193256964/photo/1,https://twitter.com/dog_rates/status/740373189193256964/photo/1,https://twitter.com/dog_rates/status/740373189193256964/photo/1,https://twitter.com/dog_rates/status/740373189193256964/photo/1'"
      ]
     },
     "execution_count": 13,
     "metadata": {},
     "output_type": "execute_result"
    }
   ],
   "source": [
    "# check data based on url by visual assessment to see the rating\n",
    "twitter_archive.at[twitter_archive[twitter_archive.tweet_id == 740373189193256964].index.values[0], 'expanded_urls']"
   ]
  },
  {
   "cell_type": "markdown",
   "metadata": {},
   "source": [
    "6. Tweet_ID = 722974582966214656 the dog has the rating is 13/10"
   ]
  },
  {
   "cell_type": "code",
   "execution_count": 14,
   "metadata": {},
   "outputs": [
    {
     "data": {
      "text/plain": [
       "'https://twitter.com/dog_rates/status/722974582966214656/photo/1'"
      ]
     },
     "execution_count": 14,
     "metadata": {},
     "output_type": "execute_result"
    }
   ],
   "source": [
    "# check data based on url by visual assessment to see the rating\n",
    "twitter_archive.at[twitter_archive[twitter_archive.tweet_id == 722974582966214656].index.values[0], 'expanded_urls']"
   ]
  },
  {
   "cell_type": "markdown",
   "metadata": {},
   "source": [
    "7. Tweet_ID = 666287406224695296 the dog has the rating is 9/10"
   ]
  },
  {
   "cell_type": "code",
   "execution_count": 15,
   "metadata": {},
   "outputs": [
    {
     "data": {
      "text/plain": [
       "'https://twitter.com/dog_rates/status/666287406224695296/photo/1'"
      ]
     },
     "execution_count": 15,
     "metadata": {},
     "output_type": "execute_result"
    }
   ],
   "source": [
    "# check data based on url by visual assessment to see the rating\n",
    "twitter_archive.at[twitter_archive[twitter_archive.tweet_id == 666287406224695296].index.values[0], 'expanded_urls']"
   ]
  },
  {
   "cell_type": "markdown",
   "metadata": {},
   "source": [
    "8. Tweet_ID = 775096608509886464 does not exist, it is a duplication of Tweet_ID = 740373189193256964"
   ]
  },
  {
   "cell_type": "code",
   "execution_count": 16,
   "metadata": {},
   "outputs": [
    {
     "data": {
      "text/plain": [
       "'https://twitter.com/dog_rates/status/740373189193256964/photo/1,https://twitter.com/dog_rates/status/740373189193256964/photo/1,https://twitter.com/dog_rates/status/740373189193256964/photo/1,https://twitter.com/dog_rates/status/740373189193256964/photo/1'"
      ]
     },
     "execution_count": 16,
     "metadata": {},
     "output_type": "execute_result"
    }
   ],
   "source": [
    "# the id in the url is 740373189193256964 not 775096608509886464\n",
    "twitter_archive.at[twitter_archive[twitter_archive.tweet_id == 775096608509886464].index.values[0], 'expanded_urls']"
   ]
  },
  {
   "cell_type": "markdown",
   "metadata": {},
   "source": [
    "9. Remove data in twitter-archive-enhancement.csv for matching with the image_prediction.tsv - only data not beyond August 1st, 2017"
   ]
  },
  {
   "cell_type": "code",
   "execution_count": 17,
   "metadata": {},
   "outputs": [
    {
     "data": {
      "text/html": [
       "<div>\n",
       "<style scoped>\n",
       "    .dataframe tbody tr th:only-of-type {\n",
       "        vertical-align: middle;\n",
       "    }\n",
       "\n",
       "    .dataframe tbody tr th {\n",
       "        vertical-align: top;\n",
       "    }\n",
       "\n",
       "    .dataframe thead th {\n",
       "        text-align: right;\n",
       "    }\n",
       "</style>\n",
       "<table border=\"1\" class=\"dataframe\">\n",
       "  <thead>\n",
       "    <tr style=\"text-align: right;\">\n",
       "      <th></th>\n",
       "      <th>tweet_id</th>\n",
       "      <th>in_reply_to_status_id</th>\n",
       "      <th>in_reply_to_user_id</th>\n",
       "      <th>timestamp</th>\n",
       "      <th>source</th>\n",
       "      <th>text</th>\n",
       "      <th>retweeted_status_id</th>\n",
       "      <th>retweeted_status_user_id</th>\n",
       "      <th>retweeted_status_timestamp</th>\n",
       "      <th>expanded_urls</th>\n",
       "      <th>rating_numerator</th>\n",
       "      <th>rating_denominator</th>\n",
       "      <th>name</th>\n",
       "      <th>doggo</th>\n",
       "      <th>floofer</th>\n",
       "      <th>pupper</th>\n",
       "      <th>puppo</th>\n",
       "    </tr>\n",
       "  </thead>\n",
       "  <tbody>\n",
       "    <tr>\n",
       "      <th>0</th>\n",
       "      <td>892420643555336193</td>\n",
       "      <td>NaN</td>\n",
       "      <td>NaN</td>\n",
       "      <td>2017-08-01 16:23:56 +0000</td>\n",
       "      <td>&lt;a href=\"http://twitter.com/download/iphone\" r...</td>\n",
       "      <td>This is Phineas. He's a mystical boy. Only eve...</td>\n",
       "      <td>NaN</td>\n",
       "      <td>NaN</td>\n",
       "      <td>NaN</td>\n",
       "      <td>https://twitter.com/dog_rates/status/892420643...</td>\n",
       "      <td>13</td>\n",
       "      <td>10</td>\n",
       "      <td>Phineas</td>\n",
       "      <td>None</td>\n",
       "      <td>None</td>\n",
       "      <td>None</td>\n",
       "      <td>None</td>\n",
       "    </tr>\n",
       "    <tr>\n",
       "      <th>1</th>\n",
       "      <td>892177421306343426</td>\n",
       "      <td>NaN</td>\n",
       "      <td>NaN</td>\n",
       "      <td>2017-08-01 00:17:27 +0000</td>\n",
       "      <td>&lt;a href=\"http://twitter.com/download/iphone\" r...</td>\n",
       "      <td>This is Tilly. She's just checking pup on you....</td>\n",
       "      <td>NaN</td>\n",
       "      <td>NaN</td>\n",
       "      <td>NaN</td>\n",
       "      <td>https://twitter.com/dog_rates/status/892177421...</td>\n",
       "      <td>13</td>\n",
       "      <td>10</td>\n",
       "      <td>Tilly</td>\n",
       "      <td>None</td>\n",
       "      <td>None</td>\n",
       "      <td>None</td>\n",
       "      <td>None</td>\n",
       "    </tr>\n",
       "  </tbody>\n",
       "</table>\n",
       "</div>"
      ],
      "text/plain": [
       "             tweet_id  in_reply_to_status_id  in_reply_to_user_id  \\\n",
       "0  892420643555336193                    NaN                  NaN   \n",
       "1  892177421306343426                    NaN                  NaN   \n",
       "\n",
       "                   timestamp  \\\n",
       "0  2017-08-01 16:23:56 +0000   \n",
       "1  2017-08-01 00:17:27 +0000   \n",
       "\n",
       "                                              source  \\\n",
       "0  <a href=\"http://twitter.com/download/iphone\" r...   \n",
       "1  <a href=\"http://twitter.com/download/iphone\" r...   \n",
       "\n",
       "                                                text  retweeted_status_id  \\\n",
       "0  This is Phineas. He's a mystical boy. Only eve...                  NaN   \n",
       "1  This is Tilly. She's just checking pup on you....                  NaN   \n",
       "\n",
       "   retweeted_status_user_id retweeted_status_timestamp  \\\n",
       "0                       NaN                        NaN   \n",
       "1                       NaN                        NaN   \n",
       "\n",
       "                                       expanded_urls  rating_numerator  \\\n",
       "0  https://twitter.com/dog_rates/status/892420643...                13   \n",
       "1  https://twitter.com/dog_rates/status/892177421...                13   \n",
       "\n",
       "   rating_denominator     name doggo floofer pupper puppo  \n",
       "0                  10  Phineas  None    None   None  None  \n",
       "1                  10    Tilly  None    None   None  None  "
      ]
     },
     "execution_count": 17,
     "metadata": {},
     "output_type": "execute_result"
    }
   ],
   "source": [
    "twitter_archive.loc[twitter_archive.timestamp > '2017-08-01']"
   ]
  },
  {
   "cell_type": "markdown",
   "metadata": {},
   "source": [
    "### Tidiness Issues"
   ]
  },
  {
   "cell_type": "markdown",
   "metadata": {},
   "source": [
    "1. Unpivot doggo, floofer, pupper, puppo into 1 column"
   ]
  },
  {
   "cell_type": "markdown",
   "metadata": {},
   "source": [
    "2. Match image prediction columns in image_prediction.tsv to define dog tweet_id and columns retweet count and favorite count in tweet_api for analysis"
   ]
  },
  {
   "cell_type": "markdown",
   "metadata": {
    "extensions": {
     "jupyter_dashboards": {
      "version": 1,
      "views": {
       "grid_default": {
        "col": 4,
        "height": 4,
        "hidden": false,
        "row": 32,
        "width": 4
       },
       "report_default": {
        "hidden": false
       }
      }
     }
    }
   },
   "source": [
    "## Cleaning Data\n",
    "In this section, clean **all** of the issues you documented while assessing. \n",
    "\n",
    "**Note:** Make a copy of the original data before cleaning. Cleaning includes merging individual pieces of data according to the rules of [tidy data](https://cran.r-project.org/web/packages/tidyr/vignettes/tidy-data.html). The result should be a high-quality and tidy master pandas DataFrame (or DataFrames, if appropriate)."
   ]
  },
  {
   "cell_type": "code",
   "execution_count": 18,
   "metadata": {},
   "outputs": [],
   "source": [
    "# Make copies of original pieces of data\n",
    "twitter_archive_cp = twitter_archive.copy()\n",
    "image_prediction_cp = image_prediction.copy()\n",
    "tweet_api_cp = tweet_api.copy()"
   ]
  },
  {
   "cell_type": "markdown",
   "metadata": {},
   "source": [
    "### Quality issue"
   ]
  },
  {
   "cell_type": "markdown",
   "metadata": {},
   "source": [
    "#### Issue #1:"
   ]
  },
  {
   "cell_type": "markdown",
   "metadata": {},
   "source": [
    "##### Define: Change datatype timestamp from string into datetime to exclude tweets beyond August 1st, 2017"
   ]
  },
  {
   "cell_type": "markdown",
   "metadata": {},
   "source": [
    "##### Code"
   ]
  },
  {
   "cell_type": "code",
   "execution_count": 19,
   "metadata": {},
   "outputs": [],
   "source": [
    "# change datatype\n",
    "twitter_archive_cp.timestamp = pd.to_datetime(twitter_archive_cp.timestamp)\n",
    "\n",
    "# exclude data with timestamp beyond August 1st, 2017\n",
    "twitter_archive_cp = twitter_archive_cp.loc[twitter_archive_cp.timestamp <= '2017-08-01']\n"
   ]
  },
  {
   "cell_type": "markdown",
   "metadata": {},
   "source": [
    "##### Test"
   ]
  },
  {
   "cell_type": "code",
   "execution_count": 20,
   "metadata": {},
   "outputs": [
    {
     "name": "stdout",
     "output_type": "stream",
     "text": [
      "<class 'pandas.core.frame.DataFrame'>\n",
      "Int64Index: 2354 entries, 2 to 2355\n",
      "Data columns (total 17 columns):\n",
      " #   Column                      Non-Null Count  Dtype              \n",
      "---  ------                      --------------  -----              \n",
      " 0   tweet_id                    2354 non-null   int64              \n",
      " 1   in_reply_to_status_id       78 non-null     float64            \n",
      " 2   in_reply_to_user_id         78 non-null     float64            \n",
      " 3   timestamp                   2354 non-null   datetime64[ns, UTC]\n",
      " 4   source                      2354 non-null   object             \n",
      " 5   text                        2354 non-null   object             \n",
      " 6   retweeted_status_id         181 non-null    float64            \n",
      " 7   retweeted_status_user_id    181 non-null    float64            \n",
      " 8   retweeted_status_timestamp  181 non-null    object             \n",
      " 9   expanded_urls               2295 non-null   object             \n",
      " 10  rating_numerator            2354 non-null   int64              \n",
      " 11  rating_denominator          2354 non-null   int64              \n",
      " 12  name                        2354 non-null   object             \n",
      " 13  doggo                       2354 non-null   object             \n",
      " 14  floofer                     2354 non-null   object             \n",
      " 15  pupper                      2354 non-null   object             \n",
      " 16  puppo                       2354 non-null   object             \n",
      "dtypes: datetime64[ns, UTC](1), float64(4), int64(3), object(9)\n",
      "memory usage: 331.0+ KB\n"
     ]
    }
   ],
   "source": [
    "# check datatype\n",
    "twitter_archive_cp.info()"
   ]
  },
  {
   "cell_type": "code",
   "execution_count": 21,
   "metadata": {},
   "outputs": [
    {
     "data": {
      "text/plain": [
       "0"
      ]
     },
     "execution_count": 21,
     "metadata": {},
     "output_type": "execute_result"
    }
   ],
   "source": [
    "# check the data in datetime to make sure not beyond 2017, Aug 1st.\n",
    "(twitter_archive_cp.timestamp > '2017-08-01').sum()"
   ]
  },
  {
   "cell_type": "markdown",
   "metadata": {},
   "source": [
    "#### Issue #2:"
   ]
  },
  {
   "cell_type": "markdown",
   "metadata": {
    "collapsed": true,
    "extensions": {
     "jupyter_dashboards": {
      "version": 1,
      "views": {
       "grid_default": {
        "hidden": true
       },
       "report_default": {
        "hidden": true
       }
      }
     }
    }
   },
   "source": [
    "##### Define: Rating denominator is equal to 0\n",
    "- Rating denominator should not be equal to 0, if exist, need to be excluded. "
   ]
  },
  {
   "cell_type": "markdown",
   "metadata": {},
   "source": [
    "##### Code"
   ]
  },
  {
   "cell_type": "code",
   "execution_count": 22,
   "metadata": {},
   "outputs": [],
   "source": [
    "# exclude the record out of data\n",
    "twitter_archive_cp = twitter_archive_cp[twitter_archive_cp.rating_denominator != 0]"
   ]
  },
  {
   "cell_type": "markdown",
   "metadata": {},
   "source": [
    "##### Test"
   ]
  },
  {
   "cell_type": "code",
   "execution_count": 23,
   "metadata": {},
   "outputs": [
    {
     "data": {
      "text/plain": [
       "0"
      ]
     },
     "execution_count": 23,
     "metadata": {},
     "output_type": "execute_result"
    }
   ],
   "source": [
    "# test the result\n",
    "(twitter_archive_cp.rating_denominator == 0).sum()"
   ]
  },
  {
   "cell_type": "markdown",
   "metadata": {},
   "source": [
    "#### Issue #3: "
   ]
  },
  {
   "cell_type": "markdown",
   "metadata": {},
   "source": [
    "##### Define: Column expanded_urls has more than 2 links, one in which is not twitter link or duplicated links\n",
    "- Tweet id has duplicated urls \n",
    "- Tweet id has other link apart from Twitter link\n"
   ]
  },
  {
   "cell_type": "markdown",
   "metadata": {},
   "source": [
    "##### Code"
   ]
  },
  {
   "cell_type": "code",
   "execution_count": 24,
   "metadata": {},
   "outputs": [],
   "source": [
    "import re"
   ]
  },
  {
   "cell_type": "code",
   "execution_count": 25,
   "metadata": {},
   "outputs": [
    {
     "name": "stdout",
     "output_type": "stream",
     "text": [
      "number of tweet_id having more than 1 url 82.0\n",
      "number of tweet_id having more than 2 urls 0.0\n"
     ]
    }
   ],
   "source": [
    "# create a serie to check url different than twitter url\n",
    "arr = twitter_archive_cp['expanded_urls'].apply(lambda x: len(set(x.split(','))) if str(x) != 'nan' else x)\n",
    "# check the rows that number of tweet_id having more than 1 url\n",
    "print('number of tweet_id having more than 1 url', arr[(arr > 1)].sum()) \n",
    "print('number of tweet_id having more than 2 urls', arr[(arr > 2)].sum())\n",
    "\n",
    "# apply for tweet_id having duplicated urls\n",
    "getOnelink = lambda x: list(set(x.split(',')))[0] if (str(x) != 'nan' and len(list(set(x.split(',')))) == 1) else x\n",
    "twitter_archive_cp['expanded_urls'] = twitter_archive_cp['expanded_urls'].apply(lambda x: getOnelink(x))\n",
    "\n",
    "# apply for tweet_id having more than 1 unique url\n",
    "def getTwitter(a): \n",
    "    return list(filter(lambda x: re.findall(r'.+twitter.com.+', x), a))[0]\n",
    "\n",
    "getTwitterlink = lambda x: getTwitter(x.split(',')) if (str(x) != 'nan' and len(list(set(x.split(',')))) > 1) else x\n",
    "twitter_archive_cp['expanded_urls'] = twitter_archive_cp['expanded_urls'].apply(lambda x: getTwitterlink(x))\n"
   ]
  },
  {
   "cell_type": "markdown",
   "metadata": {},
   "source": [
    "##### Test"
   ]
  },
  {
   "cell_type": "code",
   "execution_count": 26,
   "metadata": {},
   "outputs": [
    {
     "data": {
      "text/plain": [
       "663     https://twitter.com/dog_rates/status/790946055...\n",
       "139     https://twitter.com/dog_rates/status/865359393...\n",
       "1629    https://twitter.com/dog_rates/status/684567543...\n",
       "540     https://twitter.com/dog_rates/status/806542213...\n",
       "307     https://twitter.com/dog_rates/status/786963064...\n",
       "1751    https://twitter.com/dog_rates/status/678991772...\n",
       "993     https://twitter.com/dog_rates/status/748575535...\n",
       "1147    https://twitter.com/dog_rates/status/726935089...\n",
       "51      https://twitter.com/dog_rates/status/882268110...\n",
       "1820    https://twitter.com/dog_rates/status/676588346...\n",
       "Name: expanded_urls, dtype: object"
      ]
     },
     "execution_count": 26,
     "metadata": {},
     "output_type": "execute_result"
    }
   ],
   "source": [
    "# random check the column expanded_urls\n",
    "twitter_archive_cp['expanded_urls'].sample(10)"
   ]
  },
  {
   "cell_type": "code",
   "execution_count": 27,
   "metadata": {},
   "outputs": [
    {
     "data": {
      "text/plain": [
       "0"
      ]
     },
     "execution_count": 27,
     "metadata": {},
     "output_type": "execute_result"
    }
   ],
   "source": [
    "# check row having more than one link\n",
    "(twitter_archive_cp['expanded_urls'].apply(lambda x: len(x.split(',')) if str(x) != 'nan' else x) > 1).sum()"
   ]
  },
  {
   "cell_type": "markdown",
   "metadata": {},
   "source": [
    "#### Issue #4: "
   ]
  },
  {
   "cell_type": "markdown",
   "metadata": {},
   "source": [
    "##### Define: Column name contains wrong names\n",
    "- Special letter is not the right name for some tweet ids, such as a, the ..."
   ]
  },
  {
   "cell_type": "markdown",
   "metadata": {},
   "source": [
    "##### Code"
   ]
  },
  {
   "cell_type": "code",
   "execution_count": 28,
   "metadata": {},
   "outputs": [],
   "source": [
    "# define the lower string not the name of dogs\n",
    "twitter_archive_cp.name = twitter_archive_cp.name.apply(lambda x: 'None' if x.lower() == x else x)\n"
   ]
  },
  {
   "cell_type": "markdown",
   "metadata": {},
   "source": [
    "##### Test"
   ]
  },
  {
   "cell_type": "code",
   "execution_count": 29,
   "metadata": {},
   "outputs": [
    {
     "data": {
      "text/plain": [
       "1927         Lucy\n",
       "1103      Kellogg\n",
       "780        Anakin\n",
       "1437       Oakley\n",
       "2318     Kreggory\n",
       "1640       Sweets\n",
       "1166    Schnitzel\n",
       "1170     Berkeley\n",
       "973          None\n",
       "125          None\n",
       "Name: name, dtype: object"
      ]
     },
     "execution_count": 29,
     "metadata": {},
     "output_type": "execute_result"
    }
   ],
   "source": [
    "twitter_archive_cp.name.sample(10)"
   ]
  },
  {
   "cell_type": "code",
   "execution_count": 30,
   "metadata": {},
   "outputs": [
    {
     "data": {
      "text/plain": [
       "Series([], Name: name, dtype: object)"
      ]
     },
     "execution_count": 30,
     "metadata": {},
     "output_type": "execute_result"
    }
   ],
   "source": [
    "twitter_archive_cp.name[twitter_archive_cp.name.str.lower() == twitter_archive_cp.name]"
   ]
  },
  {
   "cell_type": "markdown",
   "metadata": {},
   "source": [
    "#### Issue #5, #6, #7:"
   ]
  },
  {
   "cell_type": "markdown",
   "metadata": {},
   "source": [
    "##### Define: \n",
    "- Tweet_ID = 740373189193256964 the dog has the rating is 14/10 \n",
    "- Tweet_ID = 722974582966214656 the dog has the rating is 13/10\n",
    "- Tweet_ID = 666287406224695296 the dog has the rating is 9/10"
   ]
  },
  {
   "cell_type": "markdown",
   "metadata": {},
   "source": [
    "##### Code"
   ]
  },
  {
   "cell_type": "code",
   "execution_count": 31,
   "metadata": {},
   "outputs": [],
   "source": [
    "# set function to chanfe value numerator, denominator by twwet_id\n",
    "def getIndex(tweet_id):\n",
    "    return twitter_archive_cp[twitter_archive_cp.tweet_id == tweet_id].index.values[0]    "
   ]
  },
  {
   "cell_type": "code",
   "execution_count": 32,
   "metadata": {},
   "outputs": [],
   "source": [
    "list_id = [740373189193256964, 722974582966214656, 666287406224695296]\n",
    "list_no =[14,13,9]\n",
    "list_de = [10]*3"
   ]
  },
  {
   "cell_type": "code",
   "execution_count": 33,
   "metadata": {},
   "outputs": [],
   "source": [
    "# change the cell value for numerator and denominator values\n",
    "for i,j,k in zip(list_id, list_no, list_de):\n",
    "    twitter_archive_cp.at[getIndex(i), 'rating_numerator'] = j\n",
    "    twitter_archive_cp.at[getIndex(i), 'rating_denominator'] = k\n"
   ]
  },
  {
   "cell_type": "markdown",
   "metadata": {},
   "source": [
    "##### Test"
   ]
  },
  {
   "cell_type": "code",
   "execution_count": 34,
   "metadata": {},
   "outputs": [
    {
     "data": {
      "text/html": [
       "<div>\n",
       "<style scoped>\n",
       "    .dataframe tbody tr th:only-of-type {\n",
       "        vertical-align: middle;\n",
       "    }\n",
       "\n",
       "    .dataframe tbody tr th {\n",
       "        vertical-align: top;\n",
       "    }\n",
       "\n",
       "    .dataframe thead th {\n",
       "        text-align: right;\n",
       "    }\n",
       "</style>\n",
       "<table border=\"1\" class=\"dataframe\">\n",
       "  <thead>\n",
       "    <tr style=\"text-align: right;\">\n",
       "      <th></th>\n",
       "      <th>tweet_id</th>\n",
       "      <th>in_reply_to_status_id</th>\n",
       "      <th>in_reply_to_user_id</th>\n",
       "      <th>timestamp</th>\n",
       "      <th>source</th>\n",
       "      <th>text</th>\n",
       "      <th>retweeted_status_id</th>\n",
       "      <th>retweeted_status_user_id</th>\n",
       "      <th>retweeted_status_timestamp</th>\n",
       "      <th>expanded_urls</th>\n",
       "      <th>rating_numerator</th>\n",
       "      <th>rating_denominator</th>\n",
       "      <th>name</th>\n",
       "      <th>doggo</th>\n",
       "      <th>floofer</th>\n",
       "      <th>pupper</th>\n",
       "      <th>puppo</th>\n",
       "    </tr>\n",
       "  </thead>\n",
       "  <tbody>\n",
       "    <tr>\n",
       "      <th>1068</th>\n",
       "      <td>740373189193256964</td>\n",
       "      <td>NaN</td>\n",
       "      <td>NaN</td>\n",
       "      <td>2016-06-08 02:41:38+00:00</td>\n",
       "      <td>&lt;a href=\"http://twitter.com/download/iphone\" r...</td>\n",
       "      <td>After so many requests, this is Bretagne. She ...</td>\n",
       "      <td>NaN</td>\n",
       "      <td>NaN</td>\n",
       "      <td>NaN</td>\n",
       "      <td>https://twitter.com/dog_rates/status/740373189...</td>\n",
       "      <td>14</td>\n",
       "      <td>10</td>\n",
       "      <td>None</td>\n",
       "      <td>None</td>\n",
       "      <td>None</td>\n",
       "      <td>None</td>\n",
       "      <td>None</td>\n",
       "    </tr>\n",
       "    <tr>\n",
       "      <th>1165</th>\n",
       "      <td>722974582966214656</td>\n",
       "      <td>NaN</td>\n",
       "      <td>NaN</td>\n",
       "      <td>2016-04-21 02:25:47+00:00</td>\n",
       "      <td>&lt;a href=\"http://twitter.com/download/iphone\" r...</td>\n",
       "      <td>Happy 4/20 from the squad! 13/10 for all https...</td>\n",
       "      <td>NaN</td>\n",
       "      <td>NaN</td>\n",
       "      <td>NaN</td>\n",
       "      <td>https://twitter.com/dog_rates/status/722974582...</td>\n",
       "      <td>13</td>\n",
       "      <td>10</td>\n",
       "      <td>None</td>\n",
       "      <td>None</td>\n",
       "      <td>None</td>\n",
       "      <td>None</td>\n",
       "      <td>None</td>\n",
       "    </tr>\n",
       "    <tr>\n",
       "      <th>2335</th>\n",
       "      <td>666287406224695296</td>\n",
       "      <td>NaN</td>\n",
       "      <td>NaN</td>\n",
       "      <td>2015-11-16 16:11:11+00:00</td>\n",
       "      <td>&lt;a href=\"http://twitter.com/download/iphone\" r...</td>\n",
       "      <td>This is an Albanian 3 1/2 legged  Episcopalian...</td>\n",
       "      <td>NaN</td>\n",
       "      <td>NaN</td>\n",
       "      <td>NaN</td>\n",
       "      <td>https://twitter.com/dog_rates/status/666287406...</td>\n",
       "      <td>9</td>\n",
       "      <td>10</td>\n",
       "      <td>None</td>\n",
       "      <td>None</td>\n",
       "      <td>None</td>\n",
       "      <td>None</td>\n",
       "      <td>None</td>\n",
       "    </tr>\n",
       "  </tbody>\n",
       "</table>\n",
       "</div>"
      ],
      "text/plain": [
       "                tweet_id  in_reply_to_status_id  in_reply_to_user_id  \\\n",
       "1068  740373189193256964                    NaN                  NaN   \n",
       "1165  722974582966214656                    NaN                  NaN   \n",
       "2335  666287406224695296                    NaN                  NaN   \n",
       "\n",
       "                     timestamp  \\\n",
       "1068 2016-06-08 02:41:38+00:00   \n",
       "1165 2016-04-21 02:25:47+00:00   \n",
       "2335 2015-11-16 16:11:11+00:00   \n",
       "\n",
       "                                                 source  \\\n",
       "1068  <a href=\"http://twitter.com/download/iphone\" r...   \n",
       "1165  <a href=\"http://twitter.com/download/iphone\" r...   \n",
       "2335  <a href=\"http://twitter.com/download/iphone\" r...   \n",
       "\n",
       "                                                   text  retweeted_status_id  \\\n",
       "1068  After so many requests, this is Bretagne. She ...                  NaN   \n",
       "1165  Happy 4/20 from the squad! 13/10 for all https...                  NaN   \n",
       "2335  This is an Albanian 3 1/2 legged  Episcopalian...                  NaN   \n",
       "\n",
       "      retweeted_status_user_id retweeted_status_timestamp  \\\n",
       "1068                       NaN                        NaN   \n",
       "1165                       NaN                        NaN   \n",
       "2335                       NaN                        NaN   \n",
       "\n",
       "                                          expanded_urls  rating_numerator  \\\n",
       "1068  https://twitter.com/dog_rates/status/740373189...                14   \n",
       "1165  https://twitter.com/dog_rates/status/722974582...                13   \n",
       "2335  https://twitter.com/dog_rates/status/666287406...                 9   \n",
       "\n",
       "      rating_denominator  name doggo floofer pupper puppo  \n",
       "1068                  10  None  None    None   None  None  \n",
       "1165                  10  None  None    None   None  None  \n",
       "2335                  10  None  None    None   None  None  "
      ]
     },
     "execution_count": 34,
     "metadata": {},
     "output_type": "execute_result"
    }
   ],
   "source": [
    "twitter_archive_cp[twitter_archive_cp.tweet_id.isin(list_id)]\n"
   ]
  },
  {
   "cell_type": "markdown",
   "metadata": {},
   "source": [
    "#### Issue #8:"
   ]
  },
  {
   "cell_type": "markdown",
   "metadata": {},
   "source": [
    "##### Define: Tweet_ID = 775096608509886464 does not exist, it is a duplication of Tweet_ID = 740373189193256964\n",
    "- Remove Tweet_ID = 775096608509886464 out of dataset."
   ]
  },
  {
   "cell_type": "markdown",
   "metadata": {},
   "source": [
    "##### Code"
   ]
  },
  {
   "cell_type": "code",
   "execution_count": 35,
   "metadata": {},
   "outputs": [],
   "source": [
    "# remove the row with this tweet id\n",
    "twitter_archive_cp = twitter_archive_cp.loc[twitter_archive_cp.tweet_id != 775096608509886464]"
   ]
  },
  {
   "cell_type": "markdown",
   "metadata": {},
   "source": [
    "##### Test"
   ]
  },
  {
   "cell_type": "code",
   "execution_count": 36,
   "metadata": {},
   "outputs": [
    {
     "data": {
      "text/html": [
       "<div>\n",
       "<style scoped>\n",
       "    .dataframe tbody tr th:only-of-type {\n",
       "        vertical-align: middle;\n",
       "    }\n",
       "\n",
       "    .dataframe tbody tr th {\n",
       "        vertical-align: top;\n",
       "    }\n",
       "\n",
       "    .dataframe thead th {\n",
       "        text-align: right;\n",
       "    }\n",
       "</style>\n",
       "<table border=\"1\" class=\"dataframe\">\n",
       "  <thead>\n",
       "    <tr style=\"text-align: right;\">\n",
       "      <th></th>\n",
       "      <th>tweet_id</th>\n",
       "      <th>in_reply_to_status_id</th>\n",
       "      <th>in_reply_to_user_id</th>\n",
       "      <th>timestamp</th>\n",
       "      <th>source</th>\n",
       "      <th>text</th>\n",
       "      <th>retweeted_status_id</th>\n",
       "      <th>retweeted_status_user_id</th>\n",
       "      <th>retweeted_status_timestamp</th>\n",
       "      <th>expanded_urls</th>\n",
       "      <th>rating_numerator</th>\n",
       "      <th>rating_denominator</th>\n",
       "      <th>name</th>\n",
       "      <th>doggo</th>\n",
       "      <th>floofer</th>\n",
       "      <th>pupper</th>\n",
       "      <th>puppo</th>\n",
       "    </tr>\n",
       "  </thead>\n",
       "  <tbody>\n",
       "  </tbody>\n",
       "</table>\n",
       "</div>"
      ],
      "text/plain": [
       "Empty DataFrame\n",
       "Columns: [tweet_id, in_reply_to_status_id, in_reply_to_user_id, timestamp, source, text, retweeted_status_id, retweeted_status_user_id, retweeted_status_timestamp, expanded_urls, rating_numerator, rating_denominator, name, doggo, floofer, pupper, puppo]\n",
       "Index: []"
      ]
     },
     "execution_count": 36,
     "metadata": {},
     "output_type": "execute_result"
    }
   ],
   "source": [
    "twitter_archive_cp.loc[twitter_archive_cp.tweet_id == 775096608509886464]"
   ]
  },
  {
   "cell_type": "markdown",
   "metadata": {},
   "source": [
    "#### Issue 9: "
   ]
  },
  {
   "cell_type": "markdown",
   "metadata": {},
   "source": [
    "##### Define: Remove data in twitter-archive-enhancement.csv for matching with the image_prediction.tsv - only data not beyond August 1st, 2017"
   ]
  },
  {
   "cell_type": "markdown",
   "metadata": {},
   "source": [
    "##### Code"
   ]
  },
  {
   "cell_type": "code",
   "execution_count": 37,
   "metadata": {},
   "outputs": [],
   "source": [
    "twitter_archive_cp = twitter_archive_cp.loc[twitter_archive_cp.timestamp <= '2017-08-01']"
   ]
  },
  {
   "cell_type": "markdown",
   "metadata": {},
   "source": [
    "##### Test"
   ]
  },
  {
   "cell_type": "code",
   "execution_count": 38,
   "metadata": {},
   "outputs": [
    {
     "data": {
      "text/html": [
       "<div>\n",
       "<style scoped>\n",
       "    .dataframe tbody tr th:only-of-type {\n",
       "        vertical-align: middle;\n",
       "    }\n",
       "\n",
       "    .dataframe tbody tr th {\n",
       "        vertical-align: top;\n",
       "    }\n",
       "\n",
       "    .dataframe thead th {\n",
       "        text-align: right;\n",
       "    }\n",
       "</style>\n",
       "<table border=\"1\" class=\"dataframe\">\n",
       "  <thead>\n",
       "    <tr style=\"text-align: right;\">\n",
       "      <th></th>\n",
       "      <th>tweet_id</th>\n",
       "      <th>in_reply_to_status_id</th>\n",
       "      <th>in_reply_to_user_id</th>\n",
       "      <th>timestamp</th>\n",
       "      <th>source</th>\n",
       "      <th>text</th>\n",
       "      <th>retweeted_status_id</th>\n",
       "      <th>retweeted_status_user_id</th>\n",
       "      <th>retweeted_status_timestamp</th>\n",
       "      <th>expanded_urls</th>\n",
       "      <th>rating_numerator</th>\n",
       "      <th>rating_denominator</th>\n",
       "      <th>name</th>\n",
       "      <th>doggo</th>\n",
       "      <th>floofer</th>\n",
       "      <th>pupper</th>\n",
       "      <th>puppo</th>\n",
       "    </tr>\n",
       "  </thead>\n",
       "  <tbody>\n",
       "  </tbody>\n",
       "</table>\n",
       "</div>"
      ],
      "text/plain": [
       "Empty DataFrame\n",
       "Columns: [tweet_id, in_reply_to_status_id, in_reply_to_user_id, timestamp, source, text, retweeted_status_id, retweeted_status_user_id, retweeted_status_timestamp, expanded_urls, rating_numerator, rating_denominator, name, doggo, floofer, pupper, puppo]\n",
       "Index: []"
      ]
     },
     "execution_count": 38,
     "metadata": {},
     "output_type": "execute_result"
    }
   ],
   "source": [
    "twitter_archive_cp.loc[twitter_archive_cp.timestamp > '2017-08-01']"
   ]
  },
  {
   "cell_type": "markdown",
   "metadata": {},
   "source": [
    "### Tidiness issue"
   ]
  },
  {
   "cell_type": "markdown",
   "metadata": {},
   "source": [
    "#### Issue #1: "
   ]
  },
  {
   "cell_type": "markdown",
   "metadata": {},
   "source": [
    "##### Define: Unpivot doggo, floofer, pupper, puppo into 1 column"
   ]
  },
  {
   "cell_type": "markdown",
   "metadata": {},
   "source": [
    "##### Code"
   ]
  },
  {
   "cell_type": "code",
   "execution_count": 39,
   "metadata": {},
   "outputs": [
    {
     "name": "stdout",
     "output_type": "stream",
     "text": [
      "<class 'pandas.core.frame.DataFrame'>\n",
      "Int64Index: 2352 entries, 2 to 2355\n",
      "Data columns (total 17 columns):\n",
      " #   Column                      Non-Null Count  Dtype              \n",
      "---  ------                      --------------  -----              \n",
      " 0   tweet_id                    2352 non-null   int64              \n",
      " 1   in_reply_to_status_id       77 non-null     float64            \n",
      " 2   in_reply_to_user_id         77 non-null     float64            \n",
      " 3   timestamp                   2352 non-null   datetime64[ns, UTC]\n",
      " 4   source                      2352 non-null   object             \n",
      " 5   text                        2352 non-null   object             \n",
      " 6   retweeted_status_id         180 non-null    float64            \n",
      " 7   retweeted_status_user_id    180 non-null    float64            \n",
      " 8   retweeted_status_timestamp  180 non-null    object             \n",
      " 9   expanded_urls               2294 non-null   object             \n",
      " 10  rating_numerator            2352 non-null   int64              \n",
      " 11  rating_denominator          2352 non-null   int64              \n",
      " 12  name                        2352 non-null   object             \n",
      " 13  doggo                       2352 non-null   object             \n",
      " 14  floofer                     2352 non-null   object             \n",
      " 15  pupper                      2352 non-null   object             \n",
      " 16  puppo                       2352 non-null   object             \n",
      "dtypes: datetime64[ns, UTC](1), float64(4), int64(3), object(9)\n",
      "memory usage: 330.8+ KB\n"
     ]
    }
   ],
   "source": [
    "twitter_archive_cp.info()"
   ]
  },
  {
   "cell_type": "code",
   "execution_count": 40,
   "metadata": {},
   "outputs": [],
   "source": [
    "dog_type = ['doggo', 'floofer', 'pupper', 'puppo']"
   ]
  },
  {
   "cell_type": "code",
   "execution_count": 41,
   "metadata": {},
   "outputs": [],
   "source": [
    "# unpivot columns in dog_type\n",
    "df1 = pd.melt(twitter_archive_cp, id_vars=twitter_archive_cp.columns.difference(dog_type), var_name='dog_type_name_column', value_name='dog_type')"
   ]
  },
  {
   "cell_type": "code",
   "execution_count": 42,
   "metadata": {},
   "outputs": [],
   "source": [
    "# split dataset into None dog_type and dog_type in ['doggo', 'floofer', 'pupper', 'puppo'] and remove duplicates\n",
    "df2 = df1.drop('dog_type_name_column', axis=1).loc[df1.dog_type == 'None'].drop_duplicates() # all tweet_id\n",
    "df3 = df1.loc[df1.dog_type == df1.dog_type_name_column].drop('dog_type_name_column', axis=1).drop_duplicates() # tweet_id having dogtype"
   ]
  },
  {
   "cell_type": "code",
   "execution_count": 43,
   "metadata": {},
   "outputs": [],
   "source": [
    "# df4 will exclude tweet_id having dogtype from df2 (real None dog type)\n",
    "df4 = df2.loc[~df2.tweet_id.isin(df3.tweet_id)]\n",
    "twitter_archive_cp = pd.concat([df3, df4], axis=0)"
   ]
  },
  {
   "cell_type": "code",
   "execution_count": 44,
   "metadata": {},
   "outputs": [
    {
     "data": {
      "text/html": [
       "<div>\n",
       "<style scoped>\n",
       "    .dataframe tbody tr th:only-of-type {\n",
       "        vertical-align: middle;\n",
       "    }\n",
       "\n",
       "    .dataframe tbody tr th {\n",
       "        vertical-align: top;\n",
       "    }\n",
       "\n",
       "    .dataframe thead th {\n",
       "        text-align: right;\n",
       "    }\n",
       "</style>\n",
       "<table border=\"1\" class=\"dataframe\">\n",
       "  <thead>\n",
       "    <tr style=\"text-align: right;\">\n",
       "      <th></th>\n",
       "      <th>expanded_urls</th>\n",
       "      <th>in_reply_to_status_id</th>\n",
       "      <th>in_reply_to_user_id</th>\n",
       "      <th>name</th>\n",
       "      <th>rating_denominator</th>\n",
       "      <th>rating_numerator</th>\n",
       "      <th>retweeted_status_id</th>\n",
       "      <th>retweeted_status_timestamp</th>\n",
       "      <th>retweeted_status_user_id</th>\n",
       "      <th>source</th>\n",
       "      <th>text</th>\n",
       "      <th>timestamp</th>\n",
       "      <th>tweet_id</th>\n",
       "      <th>dog_type</th>\n",
       "    </tr>\n",
       "  </thead>\n",
       "  <tbody>\n",
       "    <tr>\n",
       "      <th>0</th>\n",
       "      <td>https://twitter.com/dog_rates/status/890240255...</td>\n",
       "      <td>NaN</td>\n",
       "      <td>NaN</td>\n",
       "      <td>Cassie</td>\n",
       "      <td>10</td>\n",
       "      <td>14</td>\n",
       "      <td>NaN</td>\n",
       "      <td>NaN</td>\n",
       "      <td>NaN</td>\n",
       "      <td>&lt;a href=\"http://twitter.com/download/iphone\" r...</td>\n",
       "      <td>This is Cassie. She is a college pup. Studying...</td>\n",
       "      <td>2017-07-26 15:59:51+00:00</td>\n",
       "      <td>890240255349198849</td>\n",
       "      <td>doggo</td>\n",
       "    </tr>\n",
       "    <tr>\n",
       "      <th>1</th>\n",
       "      <td>https://twitter.com/dog_rates/status/884162670...</td>\n",
       "      <td>NaN</td>\n",
       "      <td>NaN</td>\n",
       "      <td>Yogi</td>\n",
       "      <td>10</td>\n",
       "      <td>12</td>\n",
       "      <td>NaN</td>\n",
       "      <td>NaN</td>\n",
       "      <td>NaN</td>\n",
       "      <td>&lt;a href=\"http://twitter.com/download/iphone\" r...</td>\n",
       "      <td>Meet Yogi. He doesn't have any important dog m...</td>\n",
       "      <td>2017-07-09 21:29:42+00:00</td>\n",
       "      <td>884162670584377345</td>\n",
       "      <td>doggo</td>\n",
       "    </tr>\n",
       "    <tr>\n",
       "      <th>2</th>\n",
       "      <td>https://twitter.com/dog_rates/status/872967104...</td>\n",
       "      <td>NaN</td>\n",
       "      <td>NaN</td>\n",
       "      <td>None</td>\n",
       "      <td>10</td>\n",
       "      <td>12</td>\n",
       "      <td>NaN</td>\n",
       "      <td>NaN</td>\n",
       "      <td>NaN</td>\n",
       "      <td>&lt;a href=\"http://twitter.com/download/iphone\" r...</td>\n",
       "      <td>Here's a very large dog. He has a date later. ...</td>\n",
       "      <td>2017-06-09 00:02:31+00:00</td>\n",
       "      <td>872967104147763200</td>\n",
       "      <td>doggo</td>\n",
       "    </tr>\n",
       "    <tr>\n",
       "      <th>3</th>\n",
       "      <td>https://twitter.com/dog_rates/status/871515927...</td>\n",
       "      <td>NaN</td>\n",
       "      <td>NaN</td>\n",
       "      <td>Napolean</td>\n",
       "      <td>10</td>\n",
       "      <td>12</td>\n",
       "      <td>NaN</td>\n",
       "      <td>NaN</td>\n",
       "      <td>NaN</td>\n",
       "      <td>&lt;a href=\"http://twitter.com/download/iphone\" r...</td>\n",
       "      <td>This is Napolean. He's a Raggedy East Nicaragu...</td>\n",
       "      <td>2017-06-04 23:56:03+00:00</td>\n",
       "      <td>871515927908634625</td>\n",
       "      <td>doggo</td>\n",
       "    </tr>\n",
       "    <tr>\n",
       "      <th>4</th>\n",
       "      <td>https://twitter.com/animalcog/status/871075758...</td>\n",
       "      <td>NaN</td>\n",
       "      <td>NaN</td>\n",
       "      <td>None</td>\n",
       "      <td>10</td>\n",
       "      <td>14</td>\n",
       "      <td>NaN</td>\n",
       "      <td>NaN</td>\n",
       "      <td>NaN</td>\n",
       "      <td>&lt;a href=\"http://twitter.com/download/iphone\" r...</td>\n",
       "      <td>Never doubt a doggo 14/10 https://t.co/AbBLh2FZCH</td>\n",
       "      <td>2017-06-03 20:33:19+00:00</td>\n",
       "      <td>871102520638267392</td>\n",
       "      <td>doggo</td>\n",
       "    </tr>\n",
       "    <tr>\n",
       "      <th>...</th>\n",
       "      <td>...</td>\n",
       "      <td>...</td>\n",
       "      <td>...</td>\n",
       "      <td>...</td>\n",
       "      <td>...</td>\n",
       "      <td>...</td>\n",
       "      <td>...</td>\n",
       "      <td>...</td>\n",
       "      <td>...</td>\n",
       "      <td>...</td>\n",
       "      <td>...</td>\n",
       "      <td>...</td>\n",
       "      <td>...</td>\n",
       "      <td>...</td>\n",
       "    </tr>\n",
       "    <tr>\n",
       "      <th>2361</th>\n",
       "      <td>https://twitter.com/dog_rates/status/666049248...</td>\n",
       "      <td>NaN</td>\n",
       "      <td>NaN</td>\n",
       "      <td>None</td>\n",
       "      <td>10</td>\n",
       "      <td>5</td>\n",
       "      <td>NaN</td>\n",
       "      <td>NaN</td>\n",
       "      <td>NaN</td>\n",
       "      <td>&lt;a href=\"http://twitter.com/download/iphone\" r...</td>\n",
       "      <td>Here we have a 1949 1st generation vulpix. Enj...</td>\n",
       "      <td>2015-11-16 00:24:50+00:00</td>\n",
       "      <td>666049248165822465</td>\n",
       "      <td>None</td>\n",
       "    </tr>\n",
       "    <tr>\n",
       "      <th>2362</th>\n",
       "      <td>https://twitter.com/dog_rates/status/666044226...</td>\n",
       "      <td>NaN</td>\n",
       "      <td>NaN</td>\n",
       "      <td>None</td>\n",
       "      <td>10</td>\n",
       "      <td>6</td>\n",
       "      <td>NaN</td>\n",
       "      <td>NaN</td>\n",
       "      <td>NaN</td>\n",
       "      <td>&lt;a href=\"http://twitter.com/download/iphone\" r...</td>\n",
       "      <td>This is a purebred Piers Morgan. Loves to Netf...</td>\n",
       "      <td>2015-11-16 00:04:52+00:00</td>\n",
       "      <td>666044226329800704</td>\n",
       "      <td>None</td>\n",
       "    </tr>\n",
       "    <tr>\n",
       "      <th>2363</th>\n",
       "      <td>https://twitter.com/dog_rates/status/666033412...</td>\n",
       "      <td>NaN</td>\n",
       "      <td>NaN</td>\n",
       "      <td>None</td>\n",
       "      <td>10</td>\n",
       "      <td>9</td>\n",
       "      <td>NaN</td>\n",
       "      <td>NaN</td>\n",
       "      <td>NaN</td>\n",
       "      <td>&lt;a href=\"http://twitter.com/download/iphone\" r...</td>\n",
       "      <td>Here is a very happy pup. Big fan of well-main...</td>\n",
       "      <td>2015-11-15 23:21:54+00:00</td>\n",
       "      <td>666033412701032449</td>\n",
       "      <td>None</td>\n",
       "    </tr>\n",
       "    <tr>\n",
       "      <th>2364</th>\n",
       "      <td>https://twitter.com/dog_rates/status/666029285...</td>\n",
       "      <td>NaN</td>\n",
       "      <td>NaN</td>\n",
       "      <td>None</td>\n",
       "      <td>10</td>\n",
       "      <td>7</td>\n",
       "      <td>NaN</td>\n",
       "      <td>NaN</td>\n",
       "      <td>NaN</td>\n",
       "      <td>&lt;a href=\"http://twitter.com/download/iphone\" r...</td>\n",
       "      <td>This is a western brown Mitsubishi terrier. Up...</td>\n",
       "      <td>2015-11-15 23:05:30+00:00</td>\n",
       "      <td>666029285002620928</td>\n",
       "      <td>None</td>\n",
       "    </tr>\n",
       "    <tr>\n",
       "      <th>2365</th>\n",
       "      <td>https://twitter.com/dog_rates/status/666020888...</td>\n",
       "      <td>NaN</td>\n",
       "      <td>NaN</td>\n",
       "      <td>None</td>\n",
       "      <td>10</td>\n",
       "      <td>8</td>\n",
       "      <td>NaN</td>\n",
       "      <td>NaN</td>\n",
       "      <td>NaN</td>\n",
       "      <td>&lt;a href=\"http://twitter.com/download/iphone\" r...</td>\n",
       "      <td>Here we have a Japanese Irish Setter. Lost eye...</td>\n",
       "      <td>2015-11-15 22:32:08+00:00</td>\n",
       "      <td>666020888022790149</td>\n",
       "      <td>None</td>\n",
       "    </tr>\n",
       "  </tbody>\n",
       "</table>\n",
       "<p>2366 rows × 14 columns</p>\n",
       "</div>"
      ],
      "text/plain": [
       "                                          expanded_urls  \\\n",
       "0     https://twitter.com/dog_rates/status/890240255...   \n",
       "1     https://twitter.com/dog_rates/status/884162670...   \n",
       "2     https://twitter.com/dog_rates/status/872967104...   \n",
       "3     https://twitter.com/dog_rates/status/871515927...   \n",
       "4     https://twitter.com/animalcog/status/871075758...   \n",
       "...                                                 ...   \n",
       "2361  https://twitter.com/dog_rates/status/666049248...   \n",
       "2362  https://twitter.com/dog_rates/status/666044226...   \n",
       "2363  https://twitter.com/dog_rates/status/666033412...   \n",
       "2364  https://twitter.com/dog_rates/status/666029285...   \n",
       "2365  https://twitter.com/dog_rates/status/666020888...   \n",
       "\n",
       "      in_reply_to_status_id  in_reply_to_user_id      name  \\\n",
       "0                       NaN                  NaN    Cassie   \n",
       "1                       NaN                  NaN      Yogi   \n",
       "2                       NaN                  NaN      None   \n",
       "3                       NaN                  NaN  Napolean   \n",
       "4                       NaN                  NaN      None   \n",
       "...                     ...                  ...       ...   \n",
       "2361                    NaN                  NaN      None   \n",
       "2362                    NaN                  NaN      None   \n",
       "2363                    NaN                  NaN      None   \n",
       "2364                    NaN                  NaN      None   \n",
       "2365                    NaN                  NaN      None   \n",
       "\n",
       "      rating_denominator  rating_numerator  retweeted_status_id  \\\n",
       "0                     10                14                  NaN   \n",
       "1                     10                12                  NaN   \n",
       "2                     10                12                  NaN   \n",
       "3                     10                12                  NaN   \n",
       "4                     10                14                  NaN   \n",
       "...                  ...               ...                  ...   \n",
       "2361                  10                 5                  NaN   \n",
       "2362                  10                 6                  NaN   \n",
       "2363                  10                 9                  NaN   \n",
       "2364                  10                 7                  NaN   \n",
       "2365                  10                 8                  NaN   \n",
       "\n",
       "     retweeted_status_timestamp  retweeted_status_user_id  \\\n",
       "0                           NaN                       NaN   \n",
       "1                           NaN                       NaN   \n",
       "2                           NaN                       NaN   \n",
       "3                           NaN                       NaN   \n",
       "4                           NaN                       NaN   \n",
       "...                         ...                       ...   \n",
       "2361                        NaN                       NaN   \n",
       "2362                        NaN                       NaN   \n",
       "2363                        NaN                       NaN   \n",
       "2364                        NaN                       NaN   \n",
       "2365                        NaN                       NaN   \n",
       "\n",
       "                                                 source  \\\n",
       "0     <a href=\"http://twitter.com/download/iphone\" r...   \n",
       "1     <a href=\"http://twitter.com/download/iphone\" r...   \n",
       "2     <a href=\"http://twitter.com/download/iphone\" r...   \n",
       "3     <a href=\"http://twitter.com/download/iphone\" r...   \n",
       "4     <a href=\"http://twitter.com/download/iphone\" r...   \n",
       "...                                                 ...   \n",
       "2361  <a href=\"http://twitter.com/download/iphone\" r...   \n",
       "2362  <a href=\"http://twitter.com/download/iphone\" r...   \n",
       "2363  <a href=\"http://twitter.com/download/iphone\" r...   \n",
       "2364  <a href=\"http://twitter.com/download/iphone\" r...   \n",
       "2365  <a href=\"http://twitter.com/download/iphone\" r...   \n",
       "\n",
       "                                                   text  \\\n",
       "0     This is Cassie. She is a college pup. Studying...   \n",
       "1     Meet Yogi. He doesn't have any important dog m...   \n",
       "2     Here's a very large dog. He has a date later. ...   \n",
       "3     This is Napolean. He's a Raggedy East Nicaragu...   \n",
       "4     Never doubt a doggo 14/10 https://t.co/AbBLh2FZCH   \n",
       "...                                                 ...   \n",
       "2361  Here we have a 1949 1st generation vulpix. Enj...   \n",
       "2362  This is a purebred Piers Morgan. Loves to Netf...   \n",
       "2363  Here is a very happy pup. Big fan of well-main...   \n",
       "2364  This is a western brown Mitsubishi terrier. Up...   \n",
       "2365  Here we have a Japanese Irish Setter. Lost eye...   \n",
       "\n",
       "                     timestamp            tweet_id dog_type  \n",
       "0    2017-07-26 15:59:51+00:00  890240255349198849    doggo  \n",
       "1    2017-07-09 21:29:42+00:00  884162670584377345    doggo  \n",
       "2    2017-06-09 00:02:31+00:00  872967104147763200    doggo  \n",
       "3    2017-06-04 23:56:03+00:00  871515927908634625    doggo  \n",
       "4    2017-06-03 20:33:19+00:00  871102520638267392    doggo  \n",
       "...                        ...                 ...      ...  \n",
       "2361 2015-11-16 00:24:50+00:00  666049248165822465     None  \n",
       "2362 2015-11-16 00:04:52+00:00  666044226329800704     None  \n",
       "2363 2015-11-15 23:21:54+00:00  666033412701032449     None  \n",
       "2364 2015-11-15 23:05:30+00:00  666029285002620928     None  \n",
       "2365 2015-11-15 22:32:08+00:00  666020888022790149     None  \n",
       "\n",
       "[2366 rows x 14 columns]"
      ]
     },
     "execution_count": 44,
     "metadata": {},
     "output_type": "execute_result"
    }
   ],
   "source": [
    "# reset index for twitter_archive_cp\n",
    "twitter_archive_cp.reset_index(drop=True)"
   ]
  },
  {
   "cell_type": "markdown",
   "metadata": {},
   "source": [
    "##### Test"
   ]
  },
  {
   "cell_type": "code",
   "execution_count": 45,
   "metadata": {},
   "outputs": [
    {
     "data": {
      "text/plain": [
       "array(['doggo', 'floofer', 'pupper', 'puppo', 'None'], dtype=object)"
      ]
     },
     "execution_count": 45,
     "metadata": {},
     "output_type": "execute_result"
    }
   ],
   "source": [
    "twitter_archive_cp['dog_type'].unique()"
   ]
  },
  {
   "cell_type": "code",
   "execution_count": 46,
   "metadata": {},
   "outputs": [
    {
     "data": {
      "text/plain": [
       "(2366, 14)"
      ]
     },
     "execution_count": 46,
     "metadata": {},
     "output_type": "execute_result"
    }
   ],
   "source": [
    "twitter_archive_cp.shape"
   ]
  },
  {
   "cell_type": "markdown",
   "metadata": {},
   "source": [
    "#### Issue #2:"
   ]
  },
  {
   "cell_type": "markdown",
   "metadata": {},
   "source": [
    "##### Define: Match image prediction columns in image_prediction.tsv to define dog tweet_id and columns retweet count and favorite count in tweet_api for analysis"
   ]
  },
  {
   "cell_type": "code",
   "execution_count": 47,
   "metadata": {},
   "outputs": [
    {
     "data": {
      "text/html": [
       "<div>\n",
       "<style scoped>\n",
       "    .dataframe tbody tr th:only-of-type {\n",
       "        vertical-align: middle;\n",
       "    }\n",
       "\n",
       "    .dataframe tbody tr th {\n",
       "        vertical-align: top;\n",
       "    }\n",
       "\n",
       "    .dataframe thead th {\n",
       "        text-align: right;\n",
       "    }\n",
       "</style>\n",
       "<table border=\"1\" class=\"dataframe\">\n",
       "  <thead>\n",
       "    <tr style=\"text-align: right;\">\n",
       "      <th></th>\n",
       "      <th>tweet_id</th>\n",
       "      <th>jpg_url</th>\n",
       "      <th>img_num</th>\n",
       "      <th>p1</th>\n",
       "      <th>p1_conf</th>\n",
       "      <th>p1_dog</th>\n",
       "      <th>p2</th>\n",
       "      <th>p2_conf</th>\n",
       "      <th>p2_dog</th>\n",
       "      <th>p3</th>\n",
       "      <th>p3_conf</th>\n",
       "      <th>p3_dog</th>\n",
       "    </tr>\n",
       "  </thead>\n",
       "  <tbody>\n",
       "    <tr>\n",
       "      <th>0</th>\n",
       "      <td>666020888022790149</td>\n",
       "      <td>https://pbs.twimg.com/media/CT4udn0WwAA0aMy.jpg</td>\n",
       "      <td>1</td>\n",
       "      <td>Welsh_springer_spaniel</td>\n",
       "      <td>0.465074</td>\n",
       "      <td>True</td>\n",
       "      <td>collie</td>\n",
       "      <td>0.156665</td>\n",
       "      <td>True</td>\n",
       "      <td>Shetland_sheepdog</td>\n",
       "      <td>0.061428</td>\n",
       "      <td>True</td>\n",
       "    </tr>\n",
       "    <tr>\n",
       "      <th>1</th>\n",
       "      <td>666029285002620928</td>\n",
       "      <td>https://pbs.twimg.com/media/CT42GRgUYAA5iDo.jpg</td>\n",
       "      <td>1</td>\n",
       "      <td>redbone</td>\n",
       "      <td>0.506826</td>\n",
       "      <td>True</td>\n",
       "      <td>miniature_pinscher</td>\n",
       "      <td>0.074192</td>\n",
       "      <td>True</td>\n",
       "      <td>Rhodesian_ridgeback</td>\n",
       "      <td>0.072010</td>\n",
       "      <td>True</td>\n",
       "    </tr>\n",
       "    <tr>\n",
       "      <th>2</th>\n",
       "      <td>666033412701032449</td>\n",
       "      <td>https://pbs.twimg.com/media/CT4521TWwAEvMyu.jpg</td>\n",
       "      <td>1</td>\n",
       "      <td>German_shepherd</td>\n",
       "      <td>0.596461</td>\n",
       "      <td>True</td>\n",
       "      <td>malinois</td>\n",
       "      <td>0.138584</td>\n",
       "      <td>True</td>\n",
       "      <td>bloodhound</td>\n",
       "      <td>0.116197</td>\n",
       "      <td>True</td>\n",
       "    </tr>\n",
       "    <tr>\n",
       "      <th>3</th>\n",
       "      <td>666044226329800704</td>\n",
       "      <td>https://pbs.twimg.com/media/CT5Dr8HUEAA-lEu.jpg</td>\n",
       "      <td>1</td>\n",
       "      <td>Rhodesian_ridgeback</td>\n",
       "      <td>0.408143</td>\n",
       "      <td>True</td>\n",
       "      <td>redbone</td>\n",
       "      <td>0.360687</td>\n",
       "      <td>True</td>\n",
       "      <td>miniature_pinscher</td>\n",
       "      <td>0.222752</td>\n",
       "      <td>True</td>\n",
       "    </tr>\n",
       "    <tr>\n",
       "      <th>4</th>\n",
       "      <td>666049248165822465</td>\n",
       "      <td>https://pbs.twimg.com/media/CT5IQmsXIAAKY4A.jpg</td>\n",
       "      <td>1</td>\n",
       "      <td>miniature_pinscher</td>\n",
       "      <td>0.560311</td>\n",
       "      <td>True</td>\n",
       "      <td>Rottweiler</td>\n",
       "      <td>0.243682</td>\n",
       "      <td>True</td>\n",
       "      <td>Doberman</td>\n",
       "      <td>0.154629</td>\n",
       "      <td>True</td>\n",
       "    </tr>\n",
       "  </tbody>\n",
       "</table>\n",
       "</div>"
      ],
      "text/plain": [
       "             tweet_id                                          jpg_url  \\\n",
       "0  666020888022790149  https://pbs.twimg.com/media/CT4udn0WwAA0aMy.jpg   \n",
       "1  666029285002620928  https://pbs.twimg.com/media/CT42GRgUYAA5iDo.jpg   \n",
       "2  666033412701032449  https://pbs.twimg.com/media/CT4521TWwAEvMyu.jpg   \n",
       "3  666044226329800704  https://pbs.twimg.com/media/CT5Dr8HUEAA-lEu.jpg   \n",
       "4  666049248165822465  https://pbs.twimg.com/media/CT5IQmsXIAAKY4A.jpg   \n",
       "\n",
       "   img_num                      p1   p1_conf  p1_dog                  p2  \\\n",
       "0        1  Welsh_springer_spaniel  0.465074    True              collie   \n",
       "1        1                 redbone  0.506826    True  miniature_pinscher   \n",
       "2        1         German_shepherd  0.596461    True            malinois   \n",
       "3        1     Rhodesian_ridgeback  0.408143    True             redbone   \n",
       "4        1      miniature_pinscher  0.560311    True          Rottweiler   \n",
       "\n",
       "    p2_conf  p2_dog                   p3   p3_conf  p3_dog  \n",
       "0  0.156665    True    Shetland_sheepdog  0.061428    True  \n",
       "1  0.074192    True  Rhodesian_ridgeback  0.072010    True  \n",
       "2  0.138584    True           bloodhound  0.116197    True  \n",
       "3  0.360687    True   miniature_pinscher  0.222752    True  \n",
       "4  0.243682    True             Doberman  0.154629    True  "
      ]
     },
     "execution_count": 47,
     "metadata": {},
     "output_type": "execute_result"
    }
   ],
   "source": [
    "image_prediction_cp.head()"
   ]
  },
  {
   "cell_type": "code",
   "execution_count": 48,
   "metadata": {},
   "outputs": [
    {
     "data": {
      "text/html": [
       "<div>\n",
       "<style scoped>\n",
       "    .dataframe tbody tr th:only-of-type {\n",
       "        vertical-align: middle;\n",
       "    }\n",
       "\n",
       "    .dataframe tbody tr th {\n",
       "        vertical-align: top;\n",
       "    }\n",
       "\n",
       "    .dataframe thead th {\n",
       "        text-align: right;\n",
       "    }\n",
       "</style>\n",
       "<table border=\"1\" class=\"dataframe\">\n",
       "  <thead>\n",
       "    <tr style=\"text-align: right;\">\n",
       "      <th></th>\n",
       "      <th>tweet_id</th>\n",
       "      <th>retweet_count</th>\n",
       "      <th>favorite_count</th>\n",
       "    </tr>\n",
       "  </thead>\n",
       "  <tbody>\n",
       "    <tr>\n",
       "      <th>0</th>\n",
       "      <td>892420643555336193</td>\n",
       "      <td>6953</td>\n",
       "      <td>33614</td>\n",
       "    </tr>\n",
       "    <tr>\n",
       "      <th>1</th>\n",
       "      <td>892177421306343426</td>\n",
       "      <td>5256</td>\n",
       "      <td>29150</td>\n",
       "    </tr>\n",
       "    <tr>\n",
       "      <th>2</th>\n",
       "      <td>891815181378084864</td>\n",
       "      <td>3462</td>\n",
       "      <td>21935</td>\n",
       "    </tr>\n",
       "    <tr>\n",
       "      <th>3</th>\n",
       "      <td>891689557279858688</td>\n",
       "      <td>7163</td>\n",
       "      <td>36677</td>\n",
       "    </tr>\n",
       "    <tr>\n",
       "      <th>4</th>\n",
       "      <td>891327558926688256</td>\n",
       "      <td>7703</td>\n",
       "      <td>35066</td>\n",
       "    </tr>\n",
       "  </tbody>\n",
       "</table>\n",
       "</div>"
      ],
      "text/plain": [
       "             tweet_id  retweet_count  favorite_count\n",
       "0  892420643555336193           6953           33614\n",
       "1  892177421306343426           5256           29150\n",
       "2  891815181378084864           3462           21935\n",
       "3  891689557279858688           7163           36677\n",
       "4  891327558926688256           7703           35066"
      ]
     },
     "execution_count": 48,
     "metadata": {},
     "output_type": "execute_result"
    }
   ],
   "source": [
    "tweet_api_cp.head()"
   ]
  },
  {
   "cell_type": "code",
   "execution_count": 49,
   "metadata": {},
   "outputs": [],
   "source": [
    "# merge prediction result from image_prediction_cp into twitter_archive_cp\n",
    "twitter_archive_cp = twitter_archive_cp.merge(image_prediction_cp[['tweet_id', 'p1_dog', 'p2_dog', 'p3_dog']], how='left', on='tweet_id')\n"
   ]
  },
  {
   "cell_type": "code",
   "execution_count": 50,
   "metadata": {},
   "outputs": [],
   "source": [
    "# merge retweet count and favorite count into twitter_archive_cp\n",
    "twitter_archive_cp = twitter_archive_cp.merge(tweet_api_cp, how='left', on='tweet_id')"
   ]
  },
  {
   "cell_type": "markdown",
   "metadata": {},
   "source": [
    "##### Test"
   ]
  },
  {
   "cell_type": "code",
   "execution_count": 51,
   "metadata": {},
   "outputs": [
    {
     "data": {
      "text/plain": [
       "(2366, 19)"
      ]
     },
     "execution_count": 51,
     "metadata": {},
     "output_type": "execute_result"
    }
   ],
   "source": [
    "\n",
    "twitter_archive_cp.shape"
   ]
  },
  {
   "cell_type": "markdown",
   "metadata": {},
   "source": [
    "## Storing Data\n",
    "Save gathered, assessed, and cleaned master dataset to a CSV file named \"twitter_archive_master.csv\"."
   ]
  },
  {
   "cell_type": "code",
   "execution_count": 52,
   "metadata": {},
   "outputs": [],
   "source": [
    "if os.path.exists('twitter_archive_master.csv'):\n",
    "    os.remove('twitter_archive_master.csv') \n",
    "    twitter_archive_cp.to_csv('twitter_archive_master.csv', index=False)\n",
    "else: \n",
    "    twitter_archive_cp.to_csv('twitter_archive_master.csv', index=False)"
   ]
  },
  {
   "cell_type": "markdown",
   "metadata": {},
   "source": [
    "## Analyzing and Visualizing Data\n",
    "In this section, analyze and visualize your wrangled data. You must produce at least **three (3) insights and one (1) visualization.**"
   ]
  },
  {
   "cell_type": "code",
   "execution_count": 53,
   "metadata": {},
   "outputs": [
    {
     "data": {
      "text/plain": [
       "(2366, 19)"
      ]
     },
     "execution_count": 53,
     "metadata": {},
     "output_type": "execute_result"
    }
   ],
   "source": [
    "# import master file\n",
    "master = pd.read_csv(r'C:\\Users\\DE\\Documents\\Data wrangling_Udacity\\twitter_archive_master.csv')\n",
    "master.shape"
   ]
  },
  {
   "cell_type": "code",
   "execution_count": 54,
   "metadata": {},
   "outputs": [
    {
     "data": {
      "text/plain": [
       "14"
      ]
     },
     "execution_count": 54,
     "metadata": {},
     "output_type": "execute_result"
    }
   ],
   "source": [
    "# check duplicates number is 14 tweet_ids = 2366 - 2352 due to difference dog type\n",
    "master[master.duplicated(subset='tweet_id', keep='last') == True]['tweet_id'].count()"
   ]
  },
  {
   "cell_type": "code",
   "execution_count": 119,
   "metadata": {},
   "outputs": [
    {
     "data": {
      "text/html": [
       "<div>\n",
       "<style scoped>\n",
       "    .dataframe tbody tr th:only-of-type {\n",
       "        vertical-align: middle;\n",
       "    }\n",
       "\n",
       "    .dataframe tbody tr th {\n",
       "        vertical-align: top;\n",
       "    }\n",
       "\n",
       "    .dataframe thead th {\n",
       "        text-align: right;\n",
       "    }\n",
       "</style>\n",
       "<table border=\"1\" class=\"dataframe\">\n",
       "  <thead>\n",
       "    <tr style=\"text-align: right;\">\n",
       "      <th></th>\n",
       "      <th>expanded_urls</th>\n",
       "      <th>in_reply_to_status_id</th>\n",
       "      <th>in_reply_to_user_id</th>\n",
       "      <th>name</th>\n",
       "      <th>rating_denominator</th>\n",
       "      <th>rating_numerator</th>\n",
       "      <th>retweeted_status_id</th>\n",
       "      <th>retweeted_status_timestamp</th>\n",
       "      <th>retweeted_status_user_id</th>\n",
       "      <th>source</th>\n",
       "      <th>text</th>\n",
       "      <th>timestamp</th>\n",
       "      <th>tweet_id</th>\n",
       "      <th>dog_type</th>\n",
       "      <th>p1_dog</th>\n",
       "      <th>p2_dog</th>\n",
       "      <th>p3_dog</th>\n",
       "      <th>retweet_count</th>\n",
       "      <th>favorite_count</th>\n",
       "    </tr>\n",
       "  </thead>\n",
       "  <tbody>\n",
       "    <tr>\n",
       "      <th>91</th>\n",
       "      <td>https://twitter.com/dog_rates/status/733109485...</td>\n",
       "      <td>NaN</td>\n",
       "      <td>NaN</td>\n",
       "      <td>None</td>\n",
       "      <td>10</td>\n",
       "      <td>12</td>\n",
       "      <td>NaN</td>\n",
       "      <td>NaN</td>\n",
       "      <td>NaN</td>\n",
       "      <td>&lt;a href=\"http://twitter.com/download/iphone\" r...</td>\n",
       "      <td>Like father (doggo), like son (pupper). Both 1...</td>\n",
       "      <td>2016-05-19 01:38:16+00:00</td>\n",
       "      <td>733109485275860992</td>\n",
       "      <td>doggo</td>\n",
       "      <td>True</td>\n",
       "      <td>True</td>\n",
       "      <td>False</td>\n",
       "      <td>15418.0</td>\n",
       "      <td>49050.0</td>\n",
       "    </tr>\n",
       "    <tr>\n",
       "      <th>202</th>\n",
       "      <td>https://twitter.com/dog_rates/status/733109485...</td>\n",
       "      <td>NaN</td>\n",
       "      <td>NaN</td>\n",
       "      <td>None</td>\n",
       "      <td>10</td>\n",
       "      <td>12</td>\n",
       "      <td>NaN</td>\n",
       "      <td>NaN</td>\n",
       "      <td>NaN</td>\n",
       "      <td>&lt;a href=\"http://twitter.com/download/iphone\" r...</td>\n",
       "      <td>Like father (doggo), like son (pupper). Both 1...</td>\n",
       "      <td>2016-05-19 01:38:16+00:00</td>\n",
       "      <td>733109485275860992</td>\n",
       "      <td>pupper</td>\n",
       "      <td>True</td>\n",
       "      <td>True</td>\n",
       "      <td>False</td>\n",
       "      <td>15418.0</td>\n",
       "      <td>49050.0</td>\n",
       "    </tr>\n",
       "    <tr>\n",
       "      <th>87</th>\n",
       "      <td>https://twitter.com/dog_rates/status/741067306...</td>\n",
       "      <td>NaN</td>\n",
       "      <td>NaN</td>\n",
       "      <td>None</td>\n",
       "      <td>10</td>\n",
       "      <td>12</td>\n",
       "      <td>NaN</td>\n",
       "      <td>NaN</td>\n",
       "      <td>NaN</td>\n",
       "      <td>&lt;a href=\"http://twitter.com/download/iphone\" r...</td>\n",
       "      <td>This is just downright precious af. 12/10 for ...</td>\n",
       "      <td>2016-06-10 00:39:48+00:00</td>\n",
       "      <td>741067306818797568</td>\n",
       "      <td>doggo</td>\n",
       "      <td>True</td>\n",
       "      <td>True</td>\n",
       "      <td>True</td>\n",
       "      <td>2793.0</td>\n",
       "      <td>8814.0</td>\n",
       "    </tr>\n",
       "    <tr>\n",
       "      <th>195</th>\n",
       "      <td>https://twitter.com/dog_rates/status/741067306...</td>\n",
       "      <td>NaN</td>\n",
       "      <td>NaN</td>\n",
       "      <td>None</td>\n",
       "      <td>10</td>\n",
       "      <td>12</td>\n",
       "      <td>NaN</td>\n",
       "      <td>NaN</td>\n",
       "      <td>NaN</td>\n",
       "      <td>&lt;a href=\"http://twitter.com/download/iphone\" r...</td>\n",
       "      <td>This is just downright precious af. 12/10 for ...</td>\n",
       "      <td>2016-06-10 00:39:48+00:00</td>\n",
       "      <td>741067306818797568</td>\n",
       "      <td>pupper</td>\n",
       "      <td>True</td>\n",
       "      <td>True</td>\n",
       "      <td>True</td>\n",
       "      <td>2793.0</td>\n",
       "      <td>8814.0</td>\n",
       "    </tr>\n",
       "    <tr>\n",
       "      <th>179</th>\n",
       "      <td>https://twitter.com/dog_rates/status/751583847...</td>\n",
       "      <td>NaN</td>\n",
       "      <td>NaN</td>\n",
       "      <td>None</td>\n",
       "      <td>10</td>\n",
       "      <td>5</td>\n",
       "      <td>NaN</td>\n",
       "      <td>NaN</td>\n",
       "      <td>NaN</td>\n",
       "      <td>&lt;a href=\"http://twitter.com/download/iphone\" r...</td>\n",
       "      <td>Please stop sending it pictures that don't eve...</td>\n",
       "      <td>2016-07-09 01:08:47+00:00</td>\n",
       "      <td>751583847268179968</td>\n",
       "      <td>pupper</td>\n",
       "      <td>True</td>\n",
       "      <td>False</td>\n",
       "      <td>False</td>\n",
       "      <td>1000.0</td>\n",
       "      <td>4079.0</td>\n",
       "    </tr>\n",
       "    <tr>\n",
       "      <th>78</th>\n",
       "      <td>https://twitter.com/dog_rates/status/751583847...</td>\n",
       "      <td>NaN</td>\n",
       "      <td>NaN</td>\n",
       "      <td>None</td>\n",
       "      <td>10</td>\n",
       "      <td>5</td>\n",
       "      <td>NaN</td>\n",
       "      <td>NaN</td>\n",
       "      <td>NaN</td>\n",
       "      <td>&lt;a href=\"http://twitter.com/download/iphone\" r...</td>\n",
       "      <td>Please stop sending it pictures that don't eve...</td>\n",
       "      <td>2016-07-09 01:08:47+00:00</td>\n",
       "      <td>751583847268179968</td>\n",
       "      <td>doggo</td>\n",
       "      <td>True</td>\n",
       "      <td>False</td>\n",
       "      <td>False</td>\n",
       "      <td>1000.0</td>\n",
       "      <td>4079.0</td>\n",
       "    </tr>\n",
       "    <tr>\n",
       "      <th>70</th>\n",
       "      <td>https://twitter.com/dog_rates/status/759793422...</td>\n",
       "      <td>NaN</td>\n",
       "      <td>NaN</td>\n",
       "      <td>Maggie</td>\n",
       "      <td>10</td>\n",
       "      <td>12</td>\n",
       "      <td>NaN</td>\n",
       "      <td>NaN</td>\n",
       "      <td>NaN</td>\n",
       "      <td>&lt;a href=\"http://twitter.com/download/iphone\" r...</td>\n",
       "      <td>Meet Maggie &amp;amp; Lila. Maggie is the doggo, L...</td>\n",
       "      <td>2016-07-31 16:50:42+00:00</td>\n",
       "      <td>759793422261743616</td>\n",
       "      <td>doggo</td>\n",
       "      <td>True</td>\n",
       "      <td>True</td>\n",
       "      <td>True</td>\n",
       "      <td>1753.0</td>\n",
       "      <td>5554.0</td>\n",
       "    </tr>\n",
       "    <tr>\n",
       "      <th>174</th>\n",
       "      <td>https://twitter.com/dog_rates/status/759793422...</td>\n",
       "      <td>NaN</td>\n",
       "      <td>NaN</td>\n",
       "      <td>Maggie</td>\n",
       "      <td>10</td>\n",
       "      <td>12</td>\n",
       "      <td>NaN</td>\n",
       "      <td>NaN</td>\n",
       "      <td>NaN</td>\n",
       "      <td>&lt;a href=\"http://twitter.com/download/iphone\" r...</td>\n",
       "      <td>Meet Maggie &amp;amp; Lila. Maggie is the doggo, L...</td>\n",
       "      <td>2016-07-31 16:50:42+00:00</td>\n",
       "      <td>759793422261743616</td>\n",
       "      <td>pupper</td>\n",
       "      <td>True</td>\n",
       "      <td>True</td>\n",
       "      <td>True</td>\n",
       "      <td>1753.0</td>\n",
       "      <td>5554.0</td>\n",
       "    </tr>\n",
       "    <tr>\n",
       "      <th>64</th>\n",
       "      <td>https://twitter.com/dog_rates/status/741067306...</td>\n",
       "      <td>NaN</td>\n",
       "      <td>NaN</td>\n",
       "      <td>None</td>\n",
       "      <td>10</td>\n",
       "      <td>12</td>\n",
       "      <td>7.410673e+17</td>\n",
       "      <td>2016-06-10 00:39:48 +0000</td>\n",
       "      <td>4.196984e+09</td>\n",
       "      <td>&lt;a href=\"http://twitter.com/download/iphone\" r...</td>\n",
       "      <td>RT @dog_rates: This is just downright precious...</td>\n",
       "      <td>2016-08-29 03:00:36+00:00</td>\n",
       "      <td>770093767776997377</td>\n",
       "      <td>doggo</td>\n",
       "      <td>True</td>\n",
       "      <td>True</td>\n",
       "      <td>True</td>\n",
       "      <td>2793.0</td>\n",
       "      <td>0.0</td>\n",
       "    </tr>\n",
       "    <tr>\n",
       "      <th>169</th>\n",
       "      <td>https://twitter.com/dog_rates/status/741067306...</td>\n",
       "      <td>NaN</td>\n",
       "      <td>NaN</td>\n",
       "      <td>None</td>\n",
       "      <td>10</td>\n",
       "      <td>12</td>\n",
       "      <td>7.410673e+17</td>\n",
       "      <td>2016-06-10 00:39:48 +0000</td>\n",
       "      <td>4.196984e+09</td>\n",
       "      <td>&lt;a href=\"http://twitter.com/download/iphone\" r...</td>\n",
       "      <td>RT @dog_rates: This is just downright precious...</td>\n",
       "      <td>2016-08-29 03:00:36+00:00</td>\n",
       "      <td>770093767776997377</td>\n",
       "      <td>pupper</td>\n",
       "      <td>True</td>\n",
       "      <td>True</td>\n",
       "      <td>True</td>\n",
       "      <td>2793.0</td>\n",
       "      <td>0.0</td>\n",
       "    </tr>\n",
       "    <tr>\n",
       "      <th>59</th>\n",
       "      <td>https://twitter.com/dog_rates/status/733109485...</td>\n",
       "      <td>NaN</td>\n",
       "      <td>NaN</td>\n",
       "      <td>None</td>\n",
       "      <td>10</td>\n",
       "      <td>12</td>\n",
       "      <td>7.331095e+17</td>\n",
       "      <td>2016-05-19 01:38:16 +0000</td>\n",
       "      <td>4.196984e+09</td>\n",
       "      <td>&lt;a href=\"http://twitter.com/download/iphone\" r...</td>\n",
       "      <td>RT @dog_rates: Like father (doggo), like son (...</td>\n",
       "      <td>2016-09-14 03:27:11+00:00</td>\n",
       "      <td>775898661951791106</td>\n",
       "      <td>doggo</td>\n",
       "      <td>True</td>\n",
       "      <td>True</td>\n",
       "      <td>False</td>\n",
       "      <td>15418.0</td>\n",
       "      <td>0.0</td>\n",
       "    </tr>\n",
       "    <tr>\n",
       "      <th>164</th>\n",
       "      <td>https://twitter.com/dog_rates/status/733109485...</td>\n",
       "      <td>NaN</td>\n",
       "      <td>NaN</td>\n",
       "      <td>None</td>\n",
       "      <td>10</td>\n",
       "      <td>12</td>\n",
       "      <td>7.331095e+17</td>\n",
       "      <td>2016-05-19 01:38:16 +0000</td>\n",
       "      <td>4.196984e+09</td>\n",
       "      <td>&lt;a href=\"http://twitter.com/download/iphone\" r...</td>\n",
       "      <td>RT @dog_rates: Like father (doggo), like son (...</td>\n",
       "      <td>2016-09-14 03:27:11+00:00</td>\n",
       "      <td>775898661951791106</td>\n",
       "      <td>pupper</td>\n",
       "      <td>True</td>\n",
       "      <td>True</td>\n",
       "      <td>False</td>\n",
       "      <td>15418.0</td>\n",
       "      <td>0.0</td>\n",
       "    </tr>\n",
       "    <tr>\n",
       "      <th>56</th>\n",
       "      <td>https://vine.co/v/5rgu2Law2ut</td>\n",
       "      <td>NaN</td>\n",
       "      <td>NaN</td>\n",
       "      <td>None</td>\n",
       "      <td>10</td>\n",
       "      <td>12</td>\n",
       "      <td>NaN</td>\n",
       "      <td>NaN</td>\n",
       "      <td>NaN</td>\n",
       "      <td>&lt;a href=\"http://vine.co\" rel=\"nofollow\"&gt;Vine -...</td>\n",
       "      <td>Pupper butt 1, Doggo 0. Both 12/10 https://t.c...</td>\n",
       "      <td>2016-09-29 01:42:20+00:00</td>\n",
       "      <td>781308096455073793</td>\n",
       "      <td>doggo</td>\n",
       "      <td>NaN</td>\n",
       "      <td>NaN</td>\n",
       "      <td>NaN</td>\n",
       "      <td>2369.0</td>\n",
       "      <td>6696.0</td>\n",
       "    </tr>\n",
       "    <tr>\n",
       "      <th>157</th>\n",
       "      <td>https://vine.co/v/5rgu2Law2ut</td>\n",
       "      <td>NaN</td>\n",
       "      <td>NaN</td>\n",
       "      <td>None</td>\n",
       "      <td>10</td>\n",
       "      <td>12</td>\n",
       "      <td>NaN</td>\n",
       "      <td>NaN</td>\n",
       "      <td>NaN</td>\n",
       "      <td>&lt;a href=\"http://vine.co\" rel=\"nofollow\"&gt;Vine -...</td>\n",
       "      <td>Pupper butt 1, Doggo 0. Both 12/10 https://t.c...</td>\n",
       "      <td>2016-09-29 01:42:20+00:00</td>\n",
       "      <td>781308096455073793</td>\n",
       "      <td>pupper</td>\n",
       "      <td>NaN</td>\n",
       "      <td>NaN</td>\n",
       "      <td>NaN</td>\n",
       "      <td>2369.0</td>\n",
       "      <td>6696.0</td>\n",
       "    </tr>\n",
       "    <tr>\n",
       "      <th>52</th>\n",
       "      <td>https://twitter.com/dog_rates/status/785639753...</td>\n",
       "      <td>NaN</td>\n",
       "      <td>NaN</td>\n",
       "      <td>Pinot</td>\n",
       "      <td>10</td>\n",
       "      <td>10</td>\n",
       "      <td>NaN</td>\n",
       "      <td>NaN</td>\n",
       "      <td>NaN</td>\n",
       "      <td>&lt;a href=\"http://twitter.com/download/iphone\" r...</td>\n",
       "      <td>This is Pinot. He's a sophisticated doggo. You...</td>\n",
       "      <td>2016-10-11 00:34:48+00:00</td>\n",
       "      <td>785639753186217984</td>\n",
       "      <td>doggo</td>\n",
       "      <td>False</td>\n",
       "      <td>False</td>\n",
       "      <td>False</td>\n",
       "      <td>2093.0</td>\n",
       "      <td>7410.0</td>\n",
       "    </tr>\n",
       "    <tr>\n",
       "      <th>156</th>\n",
       "      <td>https://twitter.com/dog_rates/status/785639753...</td>\n",
       "      <td>NaN</td>\n",
       "      <td>NaN</td>\n",
       "      <td>Pinot</td>\n",
       "      <td>10</td>\n",
       "      <td>10</td>\n",
       "      <td>NaN</td>\n",
       "      <td>NaN</td>\n",
       "      <td>NaN</td>\n",
       "      <td>&lt;a href=\"http://twitter.com/download/iphone\" r...</td>\n",
       "      <td>This is Pinot. He's a sophisticated doggo. You...</td>\n",
       "      <td>2016-10-11 00:34:48+00:00</td>\n",
       "      <td>785639753186217984</td>\n",
       "      <td>pupper</td>\n",
       "      <td>False</td>\n",
       "      <td>False</td>\n",
       "      <td>False</td>\n",
       "      <td>2093.0</td>\n",
       "      <td>7410.0</td>\n",
       "    </tr>\n",
       "    <tr>\n",
       "      <th>145</th>\n",
       "      <td>https://twitter.com/dog_rates/status/801115127...</td>\n",
       "      <td>NaN</td>\n",
       "      <td>NaN</td>\n",
       "      <td>Bones</td>\n",
       "      <td>10</td>\n",
       "      <td>12</td>\n",
       "      <td>NaN</td>\n",
       "      <td>NaN</td>\n",
       "      <td>NaN</td>\n",
       "      <td>&lt;a href=\"http://twitter.com/download/iphone\" r...</td>\n",
       "      <td>This is Bones. He's being haunted by another d...</td>\n",
       "      <td>2016-11-22 17:28:25+00:00</td>\n",
       "      <td>801115127852503040</td>\n",
       "      <td>pupper</td>\n",
       "      <td>True</td>\n",
       "      <td>True</td>\n",
       "      <td>True</td>\n",
       "      <td>1976.0</td>\n",
       "      <td>7639.0</td>\n",
       "    </tr>\n",
       "    <tr>\n",
       "      <th>45</th>\n",
       "      <td>https://twitter.com/dog_rates/status/801115127...</td>\n",
       "      <td>NaN</td>\n",
       "      <td>NaN</td>\n",
       "      <td>Bones</td>\n",
       "      <td>10</td>\n",
       "      <td>12</td>\n",
       "      <td>NaN</td>\n",
       "      <td>NaN</td>\n",
       "      <td>NaN</td>\n",
       "      <td>&lt;a href=\"http://twitter.com/download/iphone\" r...</td>\n",
       "      <td>This is Bones. He's being haunted by another d...</td>\n",
       "      <td>2016-11-22 17:28:25+00:00</td>\n",
       "      <td>801115127852503040</td>\n",
       "      <td>doggo</td>\n",
       "      <td>True</td>\n",
       "      <td>True</td>\n",
       "      <td>True</td>\n",
       "      <td>1976.0</td>\n",
       "      <td>7639.0</td>\n",
       "    </tr>\n",
       "    <tr>\n",
       "      <th>43</th>\n",
       "      <td>https://twitter.com/dog_rates/status/802265048...</td>\n",
       "      <td>7.331095e+17</td>\n",
       "      <td>4.196984e+09</td>\n",
       "      <td>None</td>\n",
       "      <td>10</td>\n",
       "      <td>11</td>\n",
       "      <td>NaN</td>\n",
       "      <td>NaN</td>\n",
       "      <td>NaN</td>\n",
       "      <td>&lt;a href=\"http://twitter.com/download/iphone\" r...</td>\n",
       "      <td>Like doggo, like pupper version 2. Both 11/10 ...</td>\n",
       "      <td>2016-11-25 21:37:47+00:00</td>\n",
       "      <td>802265048156610565</td>\n",
       "      <td>doggo</td>\n",
       "      <td>True</td>\n",
       "      <td>True</td>\n",
       "      <td>True</td>\n",
       "      <td>1285.0</td>\n",
       "      <td>6580.0</td>\n",
       "    </tr>\n",
       "    <tr>\n",
       "      <th>144</th>\n",
       "      <td>https://twitter.com/dog_rates/status/802265048...</td>\n",
       "      <td>7.331095e+17</td>\n",
       "      <td>4.196984e+09</td>\n",
       "      <td>None</td>\n",
       "      <td>10</td>\n",
       "      <td>11</td>\n",
       "      <td>NaN</td>\n",
       "      <td>NaN</td>\n",
       "      <td>NaN</td>\n",
       "      <td>&lt;a href=\"http://twitter.com/download/iphone\" r...</td>\n",
       "      <td>Like doggo, like pupper version 2. Both 11/10 ...</td>\n",
       "      <td>2016-11-25 21:37:47+00:00</td>\n",
       "      <td>802265048156610565</td>\n",
       "      <td>pupper</td>\n",
       "      <td>True</td>\n",
       "      <td>True</td>\n",
       "      <td>True</td>\n",
       "      <td>1285.0</td>\n",
       "      <td>6580.0</td>\n",
       "    </tr>\n",
       "    <tr>\n",
       "      <th>42</th>\n",
       "      <td>https://twitter.com/dog_rates/status/808106460...</td>\n",
       "      <td>NaN</td>\n",
       "      <td>NaN</td>\n",
       "      <td>None</td>\n",
       "      <td>10</td>\n",
       "      <td>12</td>\n",
       "      <td>NaN</td>\n",
       "      <td>NaN</td>\n",
       "      <td>NaN</td>\n",
       "      <td>&lt;a href=\"http://twitter.com/download/iphone\" r...</td>\n",
       "      <td>Here we have Burke (pupper) and Dexter (doggo)...</td>\n",
       "      <td>2016-12-12 00:29:28+00:00</td>\n",
       "      <td>808106460588765185</td>\n",
       "      <td>doggo</td>\n",
       "      <td>True</td>\n",
       "      <td>True</td>\n",
       "      <td>True</td>\n",
       "      <td>2051.0</td>\n",
       "      <td>8351.0</td>\n",
       "    </tr>\n",
       "    <tr>\n",
       "      <th>141</th>\n",
       "      <td>https://twitter.com/dog_rates/status/808106460...</td>\n",
       "      <td>NaN</td>\n",
       "      <td>NaN</td>\n",
       "      <td>None</td>\n",
       "      <td>10</td>\n",
       "      <td>12</td>\n",
       "      <td>NaN</td>\n",
       "      <td>NaN</td>\n",
       "      <td>NaN</td>\n",
       "      <td>&lt;a href=\"http://twitter.com/download/iphone\" r...</td>\n",
       "      <td>Here we have Burke (pupper) and Dexter (doggo)...</td>\n",
       "      <td>2016-12-12 00:29:28+00:00</td>\n",
       "      <td>808106460588765185</td>\n",
       "      <td>pupper</td>\n",
       "      <td>True</td>\n",
       "      <td>True</td>\n",
       "      <td>True</td>\n",
       "      <td>2051.0</td>\n",
       "      <td>8351.0</td>\n",
       "    </tr>\n",
       "    <tr>\n",
       "      <th>134</th>\n",
       "      <td>https://twitter.com/dog_rates/status/817777686...</td>\n",
       "      <td>NaN</td>\n",
       "      <td>NaN</td>\n",
       "      <td>Dido</td>\n",
       "      <td>10</td>\n",
       "      <td>13</td>\n",
       "      <td>NaN</td>\n",
       "      <td>NaN</td>\n",
       "      <td>NaN</td>\n",
       "      <td>&lt;a href=\"http://twitter.com/download/iphone\" r...</td>\n",
       "      <td>This is Dido. She's playing the lead role in \"...</td>\n",
       "      <td>2017-01-07 16:59:28+00:00</td>\n",
       "      <td>817777686764523521</td>\n",
       "      <td>pupper</td>\n",
       "      <td>True</td>\n",
       "      <td>True</td>\n",
       "      <td>True</td>\n",
       "      <td>2509.0</td>\n",
       "      <td>10176.0</td>\n",
       "    </tr>\n",
       "    <tr>\n",
       "      <th>37</th>\n",
       "      <td>https://twitter.com/dog_rates/status/817777686...</td>\n",
       "      <td>NaN</td>\n",
       "      <td>NaN</td>\n",
       "      <td>Dido</td>\n",
       "      <td>10</td>\n",
       "      <td>13</td>\n",
       "      <td>NaN</td>\n",
       "      <td>NaN</td>\n",
       "      <td>NaN</td>\n",
       "      <td>&lt;a href=\"http://twitter.com/download/iphone\" r...</td>\n",
       "      <td>This is Dido. She's playing the lead role in \"...</td>\n",
       "      <td>2017-01-07 16:59:28+00:00</td>\n",
       "      <td>817777686764523521</td>\n",
       "      <td>doggo</td>\n",
       "      <td>True</td>\n",
       "      <td>True</td>\n",
       "      <td>True</td>\n",
       "      <td>2509.0</td>\n",
       "      <td>10176.0</td>\n",
       "    </tr>\n",
       "    <tr>\n",
       "      <th>8</th>\n",
       "      <td>https://twitter.com/dog_rates/status/854010172...</td>\n",
       "      <td>NaN</td>\n",
       "      <td>NaN</td>\n",
       "      <td>None</td>\n",
       "      <td>10</td>\n",
       "      <td>11</td>\n",
       "      <td>NaN</td>\n",
       "      <td>NaN</td>\n",
       "      <td>NaN</td>\n",
       "      <td>&lt;a href=\"http://twitter.com/download/iphone\" r...</td>\n",
       "      <td>At first I thought this was a shy doggo, but i...</td>\n",
       "      <td>2017-04-17 16:34:26+00:00</td>\n",
       "      <td>854010172552949760</td>\n",
       "      <td>doggo</td>\n",
       "      <td>True</td>\n",
       "      <td>True</td>\n",
       "      <td>True</td>\n",
       "      <td>2779.0</td>\n",
       "      <td>14769.0</td>\n",
       "    </tr>\n",
       "    <tr>\n",
       "      <th>98</th>\n",
       "      <td>https://twitter.com/dog_rates/status/854010172...</td>\n",
       "      <td>NaN</td>\n",
       "      <td>NaN</td>\n",
       "      <td>None</td>\n",
       "      <td>10</td>\n",
       "      <td>11</td>\n",
       "      <td>NaN</td>\n",
       "      <td>NaN</td>\n",
       "      <td>NaN</td>\n",
       "      <td>&lt;a href=\"http://twitter.com/download/iphone\" r...</td>\n",
       "      <td>At first I thought this was a shy doggo, but i...</td>\n",
       "      <td>2017-04-17 16:34:26+00:00</td>\n",
       "      <td>854010172552949760</td>\n",
       "      <td>floofer</td>\n",
       "      <td>True</td>\n",
       "      <td>True</td>\n",
       "      <td>True</td>\n",
       "      <td>2779.0</td>\n",
       "      <td>14769.0</td>\n",
       "    </tr>\n",
       "    <tr>\n",
       "      <th>7</th>\n",
       "      <td>https://twitter.com/dog_rates/status/855851453...</td>\n",
       "      <td>NaN</td>\n",
       "      <td>NaN</td>\n",
       "      <td>None</td>\n",
       "      <td>10</td>\n",
       "      <td>13</td>\n",
       "      <td>NaN</td>\n",
       "      <td>NaN</td>\n",
       "      <td>NaN</td>\n",
       "      <td>&lt;a href=\"http://twitter.com/download/iphone\" r...</td>\n",
       "      <td>Here's a puppo participating in the #ScienceMa...</td>\n",
       "      <td>2017-04-22 18:31:02+00:00</td>\n",
       "      <td>855851453814013952</td>\n",
       "      <td>doggo</td>\n",
       "      <td>True</td>\n",
       "      <td>True</td>\n",
       "      <td>True</td>\n",
       "      <td>16054.0</td>\n",
       "      <td>41727.0</td>\n",
       "    </tr>\n",
       "    <tr>\n",
       "      <th>370</th>\n",
       "      <td>https://twitter.com/dog_rates/status/855851453...</td>\n",
       "      <td>NaN</td>\n",
       "      <td>NaN</td>\n",
       "      <td>None</td>\n",
       "      <td>10</td>\n",
       "      <td>13</td>\n",
       "      <td>NaN</td>\n",
       "      <td>NaN</td>\n",
       "      <td>NaN</td>\n",
       "      <td>&lt;a href=\"http://twitter.com/download/iphone\" r...</td>\n",
       "      <td>Here's a puppo participating in the #ScienceMa...</td>\n",
       "      <td>2017-04-22 18:31:02+00:00</td>\n",
       "      <td>855851453814013952</td>\n",
       "      <td>puppo</td>\n",
       "      <td>True</td>\n",
       "      <td>True</td>\n",
       "      <td>True</td>\n",
       "      <td>16054.0</td>\n",
       "      <td>41727.0</td>\n",
       "    </tr>\n",
       "  </tbody>\n",
       "</table>\n",
       "</div>"
      ],
      "text/plain": [
       "                                         expanded_urls  in_reply_to_status_id  \\\n",
       "91   https://twitter.com/dog_rates/status/733109485...                    NaN   \n",
       "202  https://twitter.com/dog_rates/status/733109485...                    NaN   \n",
       "87   https://twitter.com/dog_rates/status/741067306...                    NaN   \n",
       "195  https://twitter.com/dog_rates/status/741067306...                    NaN   \n",
       "179  https://twitter.com/dog_rates/status/751583847...                    NaN   \n",
       "78   https://twitter.com/dog_rates/status/751583847...                    NaN   \n",
       "70   https://twitter.com/dog_rates/status/759793422...                    NaN   \n",
       "174  https://twitter.com/dog_rates/status/759793422...                    NaN   \n",
       "64   https://twitter.com/dog_rates/status/741067306...                    NaN   \n",
       "169  https://twitter.com/dog_rates/status/741067306...                    NaN   \n",
       "59   https://twitter.com/dog_rates/status/733109485...                    NaN   \n",
       "164  https://twitter.com/dog_rates/status/733109485...                    NaN   \n",
       "56                       https://vine.co/v/5rgu2Law2ut                    NaN   \n",
       "157                      https://vine.co/v/5rgu2Law2ut                    NaN   \n",
       "52   https://twitter.com/dog_rates/status/785639753...                    NaN   \n",
       "156  https://twitter.com/dog_rates/status/785639753...                    NaN   \n",
       "145  https://twitter.com/dog_rates/status/801115127...                    NaN   \n",
       "45   https://twitter.com/dog_rates/status/801115127...                    NaN   \n",
       "43   https://twitter.com/dog_rates/status/802265048...           7.331095e+17   \n",
       "144  https://twitter.com/dog_rates/status/802265048...           7.331095e+17   \n",
       "42   https://twitter.com/dog_rates/status/808106460...                    NaN   \n",
       "141  https://twitter.com/dog_rates/status/808106460...                    NaN   \n",
       "134  https://twitter.com/dog_rates/status/817777686...                    NaN   \n",
       "37   https://twitter.com/dog_rates/status/817777686...                    NaN   \n",
       "8    https://twitter.com/dog_rates/status/854010172...                    NaN   \n",
       "98   https://twitter.com/dog_rates/status/854010172...                    NaN   \n",
       "7    https://twitter.com/dog_rates/status/855851453...                    NaN   \n",
       "370  https://twitter.com/dog_rates/status/855851453...                    NaN   \n",
       "\n",
       "     in_reply_to_user_id    name  rating_denominator  rating_numerator  \\\n",
       "91                   NaN    None                  10                12   \n",
       "202                  NaN    None                  10                12   \n",
       "87                   NaN    None                  10                12   \n",
       "195                  NaN    None                  10                12   \n",
       "179                  NaN    None                  10                 5   \n",
       "78                   NaN    None                  10                 5   \n",
       "70                   NaN  Maggie                  10                12   \n",
       "174                  NaN  Maggie                  10                12   \n",
       "64                   NaN    None                  10                12   \n",
       "169                  NaN    None                  10                12   \n",
       "59                   NaN    None                  10                12   \n",
       "164                  NaN    None                  10                12   \n",
       "56                   NaN    None                  10                12   \n",
       "157                  NaN    None                  10                12   \n",
       "52                   NaN   Pinot                  10                10   \n",
       "156                  NaN   Pinot                  10                10   \n",
       "145                  NaN   Bones                  10                12   \n",
       "45                   NaN   Bones                  10                12   \n",
       "43          4.196984e+09    None                  10                11   \n",
       "144         4.196984e+09    None                  10                11   \n",
       "42                   NaN    None                  10                12   \n",
       "141                  NaN    None                  10                12   \n",
       "134                  NaN    Dido                  10                13   \n",
       "37                   NaN    Dido                  10                13   \n",
       "8                    NaN    None                  10                11   \n",
       "98                   NaN    None                  10                11   \n",
       "7                    NaN    None                  10                13   \n",
       "370                  NaN    None                  10                13   \n",
       "\n",
       "     retweeted_status_id retweeted_status_timestamp  retweeted_status_user_id  \\\n",
       "91                   NaN                        NaN                       NaN   \n",
       "202                  NaN                        NaN                       NaN   \n",
       "87                   NaN                        NaN                       NaN   \n",
       "195                  NaN                        NaN                       NaN   \n",
       "179                  NaN                        NaN                       NaN   \n",
       "78                   NaN                        NaN                       NaN   \n",
       "70                   NaN                        NaN                       NaN   \n",
       "174                  NaN                        NaN                       NaN   \n",
       "64          7.410673e+17  2016-06-10 00:39:48 +0000              4.196984e+09   \n",
       "169         7.410673e+17  2016-06-10 00:39:48 +0000              4.196984e+09   \n",
       "59          7.331095e+17  2016-05-19 01:38:16 +0000              4.196984e+09   \n",
       "164         7.331095e+17  2016-05-19 01:38:16 +0000              4.196984e+09   \n",
       "56                   NaN                        NaN                       NaN   \n",
       "157                  NaN                        NaN                       NaN   \n",
       "52                   NaN                        NaN                       NaN   \n",
       "156                  NaN                        NaN                       NaN   \n",
       "145                  NaN                        NaN                       NaN   \n",
       "45                   NaN                        NaN                       NaN   \n",
       "43                   NaN                        NaN                       NaN   \n",
       "144                  NaN                        NaN                       NaN   \n",
       "42                   NaN                        NaN                       NaN   \n",
       "141                  NaN                        NaN                       NaN   \n",
       "134                  NaN                        NaN                       NaN   \n",
       "37                   NaN                        NaN                       NaN   \n",
       "8                    NaN                        NaN                       NaN   \n",
       "98                   NaN                        NaN                       NaN   \n",
       "7                    NaN                        NaN                       NaN   \n",
       "370                  NaN                        NaN                       NaN   \n",
       "\n",
       "                                                source  \\\n",
       "91   <a href=\"http://twitter.com/download/iphone\" r...   \n",
       "202  <a href=\"http://twitter.com/download/iphone\" r...   \n",
       "87   <a href=\"http://twitter.com/download/iphone\" r...   \n",
       "195  <a href=\"http://twitter.com/download/iphone\" r...   \n",
       "179  <a href=\"http://twitter.com/download/iphone\" r...   \n",
       "78   <a href=\"http://twitter.com/download/iphone\" r...   \n",
       "70   <a href=\"http://twitter.com/download/iphone\" r...   \n",
       "174  <a href=\"http://twitter.com/download/iphone\" r...   \n",
       "64   <a href=\"http://twitter.com/download/iphone\" r...   \n",
       "169  <a href=\"http://twitter.com/download/iphone\" r...   \n",
       "59   <a href=\"http://twitter.com/download/iphone\" r...   \n",
       "164  <a href=\"http://twitter.com/download/iphone\" r...   \n",
       "56   <a href=\"http://vine.co\" rel=\"nofollow\">Vine -...   \n",
       "157  <a href=\"http://vine.co\" rel=\"nofollow\">Vine -...   \n",
       "52   <a href=\"http://twitter.com/download/iphone\" r...   \n",
       "156  <a href=\"http://twitter.com/download/iphone\" r...   \n",
       "145  <a href=\"http://twitter.com/download/iphone\" r...   \n",
       "45   <a href=\"http://twitter.com/download/iphone\" r...   \n",
       "43   <a href=\"http://twitter.com/download/iphone\" r...   \n",
       "144  <a href=\"http://twitter.com/download/iphone\" r...   \n",
       "42   <a href=\"http://twitter.com/download/iphone\" r...   \n",
       "141  <a href=\"http://twitter.com/download/iphone\" r...   \n",
       "134  <a href=\"http://twitter.com/download/iphone\" r...   \n",
       "37   <a href=\"http://twitter.com/download/iphone\" r...   \n",
       "8    <a href=\"http://twitter.com/download/iphone\" r...   \n",
       "98   <a href=\"http://twitter.com/download/iphone\" r...   \n",
       "7    <a href=\"http://twitter.com/download/iphone\" r...   \n",
       "370  <a href=\"http://twitter.com/download/iphone\" r...   \n",
       "\n",
       "                                                  text  \\\n",
       "91   Like father (doggo), like son (pupper). Both 1...   \n",
       "202  Like father (doggo), like son (pupper). Both 1...   \n",
       "87   This is just downright precious af. 12/10 for ...   \n",
       "195  This is just downright precious af. 12/10 for ...   \n",
       "179  Please stop sending it pictures that don't eve...   \n",
       "78   Please stop sending it pictures that don't eve...   \n",
       "70   Meet Maggie &amp; Lila. Maggie is the doggo, L...   \n",
       "174  Meet Maggie &amp; Lila. Maggie is the doggo, L...   \n",
       "64   RT @dog_rates: This is just downright precious...   \n",
       "169  RT @dog_rates: This is just downright precious...   \n",
       "59   RT @dog_rates: Like father (doggo), like son (...   \n",
       "164  RT @dog_rates: Like father (doggo), like son (...   \n",
       "56   Pupper butt 1, Doggo 0. Both 12/10 https://t.c...   \n",
       "157  Pupper butt 1, Doggo 0. Both 12/10 https://t.c...   \n",
       "52   This is Pinot. He's a sophisticated doggo. You...   \n",
       "156  This is Pinot. He's a sophisticated doggo. You...   \n",
       "145  This is Bones. He's being haunted by another d...   \n",
       "45   This is Bones. He's being haunted by another d...   \n",
       "43   Like doggo, like pupper version 2. Both 11/10 ...   \n",
       "144  Like doggo, like pupper version 2. Both 11/10 ...   \n",
       "42   Here we have Burke (pupper) and Dexter (doggo)...   \n",
       "141  Here we have Burke (pupper) and Dexter (doggo)...   \n",
       "134  This is Dido. She's playing the lead role in \"...   \n",
       "37   This is Dido. She's playing the lead role in \"...   \n",
       "8    At first I thought this was a shy doggo, but i...   \n",
       "98   At first I thought this was a shy doggo, but i...   \n",
       "7    Here's a puppo participating in the #ScienceMa...   \n",
       "370  Here's a puppo participating in the #ScienceMa...   \n",
       "\n",
       "                     timestamp            tweet_id dog_type p1_dog p2_dog  \\\n",
       "91   2016-05-19 01:38:16+00:00  733109485275860992    doggo   True   True   \n",
       "202  2016-05-19 01:38:16+00:00  733109485275860992   pupper   True   True   \n",
       "87   2016-06-10 00:39:48+00:00  741067306818797568    doggo   True   True   \n",
       "195  2016-06-10 00:39:48+00:00  741067306818797568   pupper   True   True   \n",
       "179  2016-07-09 01:08:47+00:00  751583847268179968   pupper   True  False   \n",
       "78   2016-07-09 01:08:47+00:00  751583847268179968    doggo   True  False   \n",
       "70   2016-07-31 16:50:42+00:00  759793422261743616    doggo   True   True   \n",
       "174  2016-07-31 16:50:42+00:00  759793422261743616   pupper   True   True   \n",
       "64   2016-08-29 03:00:36+00:00  770093767776997377    doggo   True   True   \n",
       "169  2016-08-29 03:00:36+00:00  770093767776997377   pupper   True   True   \n",
       "59   2016-09-14 03:27:11+00:00  775898661951791106    doggo   True   True   \n",
       "164  2016-09-14 03:27:11+00:00  775898661951791106   pupper   True   True   \n",
       "56   2016-09-29 01:42:20+00:00  781308096455073793    doggo    NaN    NaN   \n",
       "157  2016-09-29 01:42:20+00:00  781308096455073793   pupper    NaN    NaN   \n",
       "52   2016-10-11 00:34:48+00:00  785639753186217984    doggo  False  False   \n",
       "156  2016-10-11 00:34:48+00:00  785639753186217984   pupper  False  False   \n",
       "145  2016-11-22 17:28:25+00:00  801115127852503040   pupper   True   True   \n",
       "45   2016-11-22 17:28:25+00:00  801115127852503040    doggo   True   True   \n",
       "43   2016-11-25 21:37:47+00:00  802265048156610565    doggo   True   True   \n",
       "144  2016-11-25 21:37:47+00:00  802265048156610565   pupper   True   True   \n",
       "42   2016-12-12 00:29:28+00:00  808106460588765185    doggo   True   True   \n",
       "141  2016-12-12 00:29:28+00:00  808106460588765185   pupper   True   True   \n",
       "134  2017-01-07 16:59:28+00:00  817777686764523521   pupper   True   True   \n",
       "37   2017-01-07 16:59:28+00:00  817777686764523521    doggo   True   True   \n",
       "8    2017-04-17 16:34:26+00:00  854010172552949760    doggo   True   True   \n",
       "98   2017-04-17 16:34:26+00:00  854010172552949760  floofer   True   True   \n",
       "7    2017-04-22 18:31:02+00:00  855851453814013952    doggo   True   True   \n",
       "370  2017-04-22 18:31:02+00:00  855851453814013952    puppo   True   True   \n",
       "\n",
       "    p3_dog  retweet_count  favorite_count  \n",
       "91   False        15418.0         49050.0  \n",
       "202  False        15418.0         49050.0  \n",
       "87    True         2793.0          8814.0  \n",
       "195   True         2793.0          8814.0  \n",
       "179  False         1000.0          4079.0  \n",
       "78   False         1000.0          4079.0  \n",
       "70    True         1753.0          5554.0  \n",
       "174   True         1753.0          5554.0  \n",
       "64    True         2793.0             0.0  \n",
       "169   True         2793.0             0.0  \n",
       "59   False        15418.0             0.0  \n",
       "164  False        15418.0             0.0  \n",
       "56     NaN         2369.0          6696.0  \n",
       "157    NaN         2369.0          6696.0  \n",
       "52   False         2093.0          7410.0  \n",
       "156  False         2093.0          7410.0  \n",
       "145   True         1976.0          7639.0  \n",
       "45    True         1976.0          7639.0  \n",
       "43    True         1285.0          6580.0  \n",
       "144   True         1285.0          6580.0  \n",
       "42    True         2051.0          8351.0  \n",
       "141   True         2051.0          8351.0  \n",
       "134   True         2509.0         10176.0  \n",
       "37    True         2509.0         10176.0  \n",
       "8     True         2779.0         14769.0  \n",
       "98    True         2779.0         14769.0  \n",
       "7     True        16054.0         41727.0  \n",
       "370   True        16054.0         41727.0  "
      ]
     },
     "execution_count": 119,
     "metadata": {},
     "output_type": "execute_result"
    }
   ],
   "source": [
    "# show all duplcates\n",
    "master[master.duplicated(subset='tweet_id', keep=False) == True].sort_values(by='tweet_id')"
   ]
  },
  {
   "cell_type": "code",
   "execution_count": 120,
   "metadata": {},
   "outputs": [
    {
     "data": {
      "text/plain": [
       "'https://twitter.com/dog_rates/status/741067306818797568/photo/1'"
      ]
     },
     "execution_count": 120,
     "metadata": {},
     "output_type": "execute_result"
    }
   ],
   "source": [
    "master[master.duplicated(subset='tweet_id', keep=False) == True].sort_values(by='tweet_id').at[195, 'expanded_urls']"
   ]
  },
  {
   "cell_type": "code",
   "execution_count": 56,
   "metadata": {},
   "outputs": [
    {
     "name": "stdout",
     "output_type": "stream",
     "text": [
      "Check distinct rows in tweet_api True\n",
      "Check distinct rows in image prediction True\n"
     ]
    }
   ],
   "source": [
    "## Tweet_ID having the biggest retweets and favorites\n",
    "# check distinction in the other 2 datasets to make sure left join without duplications\n",
    "print('Check distinct rows in tweet_api', tweet_api['tweet_id'].nunique() == tweet_api['tweet_id'].shape[0])\n",
    "print('Check distinct rows in image prediction', image_prediction['tweet_id'].nunique() == image_prediction['tweet_id'].shape[0]) "
   ]
  },
  {
   "cell_type": "code",
   "execution_count": 57,
   "metadata": {},
   "outputs": [
    {
     "data": {
      "text/html": [
       "<div>\n",
       "<style scoped>\n",
       "    .dataframe tbody tr th:only-of-type {\n",
       "        vertical-align: middle;\n",
       "    }\n",
       "\n",
       "    .dataframe tbody tr th {\n",
       "        vertical-align: top;\n",
       "    }\n",
       "\n",
       "    .dataframe thead th {\n",
       "        text-align: right;\n",
       "    }\n",
       "</style>\n",
       "<table border=\"1\" class=\"dataframe\">\n",
       "  <thead>\n",
       "    <tr style=\"text-align: right;\">\n",
       "      <th></th>\n",
       "      <th>expanded_urls</th>\n",
       "      <th>in_reply_to_status_id</th>\n",
       "      <th>in_reply_to_user_id</th>\n",
       "      <th>name</th>\n",
       "      <th>rating_denominator</th>\n",
       "      <th>rating_numerator</th>\n",
       "      <th>retweeted_status_id</th>\n",
       "      <th>retweeted_status_timestamp</th>\n",
       "      <th>retweeted_status_user_id</th>\n",
       "      <th>source</th>\n",
       "      <th>text</th>\n",
       "      <th>timestamp</th>\n",
       "      <th>tweet_id</th>\n",
       "      <th>dog_type</th>\n",
       "      <th>p1_dog</th>\n",
       "      <th>p2_dog</th>\n",
       "      <th>p3_dog</th>\n",
       "      <th>retweet_count</th>\n",
       "      <th>favorite_count</th>\n",
       "    </tr>\n",
       "  </thead>\n",
       "  <tbody>\n",
       "    <tr>\n",
       "      <th>85</th>\n",
       "      <td>https://twitter.com/dog_rates/status/744234799...</td>\n",
       "      <td>NaN</td>\n",
       "      <td>NaN</td>\n",
       "      <td>None</td>\n",
       "      <td>10</td>\n",
       "      <td>13</td>\n",
       "      <td>NaN</td>\n",
       "      <td>NaN</td>\n",
       "      <td>NaN</td>\n",
       "      <td>&lt;a href=\"http://twitter.com/download/iphone\" r...</td>\n",
       "      <td>Here's a doggo realizing you can stand in a po...</td>\n",
       "      <td>2016-06-18 18:26:18+00:00</td>\n",
       "      <td>744234799360020481</td>\n",
       "      <td>doggo</td>\n",
       "      <td>True</td>\n",
       "      <td>False</td>\n",
       "      <td>True</td>\n",
       "      <td>70116.0</td>\n",
       "      <td>143796.0</td>\n",
       "    </tr>\n",
       "    <tr>\n",
       "      <th>374</th>\n",
       "      <td>https://twitter.com/dog_rates/status/822872901...</td>\n",
       "      <td>NaN</td>\n",
       "      <td>NaN</td>\n",
       "      <td>None</td>\n",
       "      <td>10</td>\n",
       "      <td>13</td>\n",
       "      <td>NaN</td>\n",
       "      <td>NaN</td>\n",
       "      <td>NaN</td>\n",
       "      <td>&lt;a href=\"http://twitter.com/download/iphone\" r...</td>\n",
       "      <td>Here's a super supportive puppo participating ...</td>\n",
       "      <td>2017-01-21 18:26:02+00:00</td>\n",
       "      <td>822872901745569793</td>\n",
       "      <td>puppo</td>\n",
       "      <td>True</td>\n",
       "      <td>True</td>\n",
       "      <td>True</td>\n",
       "      <td>39660.0</td>\n",
       "      <td>123296.0</td>\n",
       "    </tr>\n",
       "    <tr>\n",
       "      <th>834</th>\n",
       "      <td>https://twitter.com/dog_rates/status/807106840...</td>\n",
       "      <td>NaN</td>\n",
       "      <td>NaN</td>\n",
       "      <td>Stephan</td>\n",
       "      <td>10</td>\n",
       "      <td>13</td>\n",
       "      <td>NaN</td>\n",
       "      <td>NaN</td>\n",
       "      <td>NaN</td>\n",
       "      <td>&lt;a href=\"http://twitter.com/download/iphone\" r...</td>\n",
       "      <td>This is Stephan. He just wants to help. 13/10 ...</td>\n",
       "      <td>2016-12-09 06:17:20+00:00</td>\n",
       "      <td>807106840509214720</td>\n",
       "      <td>None</td>\n",
       "      <td>True</td>\n",
       "      <td>True</td>\n",
       "      <td>True</td>\n",
       "      <td>51274.0</td>\n",
       "      <td>110832.0</td>\n",
       "    </tr>\n",
       "    <tr>\n",
       "      <th>117</th>\n",
       "      <td>https://twitter.com/dog_rates/status/866450705...</td>\n",
       "      <td>NaN</td>\n",
       "      <td>NaN</td>\n",
       "      <td>Jamesy</td>\n",
       "      <td>10</td>\n",
       "      <td>13</td>\n",
       "      <td>NaN</td>\n",
       "      <td>NaN</td>\n",
       "      <td>NaN</td>\n",
       "      <td>&lt;a href=\"http://twitter.com/download/iphone\" r...</td>\n",
       "      <td>This is Jamesy. He gives a kiss to every other...</td>\n",
       "      <td>2017-05-22 00:28:40+00:00</td>\n",
       "      <td>866450705531457537</td>\n",
       "      <td>pupper</td>\n",
       "      <td>True</td>\n",
       "      <td>True</td>\n",
       "      <td>True</td>\n",
       "      <td>29995.0</td>\n",
       "      <td>108243.0</td>\n",
       "    </tr>\n",
       "    <tr>\n",
       "      <th>89</th>\n",
       "      <td>https://twitter.com/dog_rates/status/739238157...</td>\n",
       "      <td>NaN</td>\n",
       "      <td>NaN</td>\n",
       "      <td>None</td>\n",
       "      <td>10</td>\n",
       "      <td>13</td>\n",
       "      <td>NaN</td>\n",
       "      <td>NaN</td>\n",
       "      <td>NaN</td>\n",
       "      <td>&lt;a href=\"http://twitter.com/download/iphone\" r...</td>\n",
       "      <td>Here's a doggo blowing bubbles. It's downright...</td>\n",
       "      <td>2016-06-04 23:31:25+00:00</td>\n",
       "      <td>739238157791694849</td>\n",
       "      <td>doggo</td>\n",
       "      <td>True</td>\n",
       "      <td>True</td>\n",
       "      <td>True</td>\n",
       "      <td>52484.0</td>\n",
       "      <td>106478.0</td>\n",
       "    </tr>\n",
       "  </tbody>\n",
       "</table>\n",
       "</div>"
      ],
      "text/plain": [
       "                                         expanded_urls  in_reply_to_status_id  \\\n",
       "85   https://twitter.com/dog_rates/status/744234799...                    NaN   \n",
       "374  https://twitter.com/dog_rates/status/822872901...                    NaN   \n",
       "834  https://twitter.com/dog_rates/status/807106840...                    NaN   \n",
       "117  https://twitter.com/dog_rates/status/866450705...                    NaN   \n",
       "89   https://twitter.com/dog_rates/status/739238157...                    NaN   \n",
       "\n",
       "     in_reply_to_user_id     name  rating_denominator  rating_numerator  \\\n",
       "85                   NaN     None                  10                13   \n",
       "374                  NaN     None                  10                13   \n",
       "834                  NaN  Stephan                  10                13   \n",
       "117                  NaN   Jamesy                  10                13   \n",
       "89                   NaN     None                  10                13   \n",
       "\n",
       "     retweeted_status_id retweeted_status_timestamp  retweeted_status_user_id  \\\n",
       "85                   NaN                        NaN                       NaN   \n",
       "374                  NaN                        NaN                       NaN   \n",
       "834                  NaN                        NaN                       NaN   \n",
       "117                  NaN                        NaN                       NaN   \n",
       "89                   NaN                        NaN                       NaN   \n",
       "\n",
       "                                                source  \\\n",
       "85   <a href=\"http://twitter.com/download/iphone\" r...   \n",
       "374  <a href=\"http://twitter.com/download/iphone\" r...   \n",
       "834  <a href=\"http://twitter.com/download/iphone\" r...   \n",
       "117  <a href=\"http://twitter.com/download/iphone\" r...   \n",
       "89   <a href=\"http://twitter.com/download/iphone\" r...   \n",
       "\n",
       "                                                  text  \\\n",
       "85   Here's a doggo realizing you can stand in a po...   \n",
       "374  Here's a super supportive puppo participating ...   \n",
       "834  This is Stephan. He just wants to help. 13/10 ...   \n",
       "117  This is Jamesy. He gives a kiss to every other...   \n",
       "89   Here's a doggo blowing bubbles. It's downright...   \n",
       "\n",
       "                     timestamp            tweet_id dog_type p1_dog p2_dog  \\\n",
       "85   2016-06-18 18:26:18+00:00  744234799360020481    doggo   True  False   \n",
       "374  2017-01-21 18:26:02+00:00  822872901745569793    puppo   True   True   \n",
       "834  2016-12-09 06:17:20+00:00  807106840509214720     None   True   True   \n",
       "117  2017-05-22 00:28:40+00:00  866450705531457537   pupper   True   True   \n",
       "89   2016-06-04 23:31:25+00:00  739238157791694849    doggo   True   True   \n",
       "\n",
       "    p3_dog  retweet_count  favorite_count  \n",
       "85    True        70116.0        143796.0  \n",
       "374   True        39660.0        123296.0  \n",
       "834   True        51274.0        110832.0  \n",
       "117   True        29995.0        108243.0  \n",
       "89    True        52484.0        106478.0  "
      ]
     },
     "execution_count": 57,
     "metadata": {},
     "output_type": "execute_result"
    }
   ],
   "source": [
    "## Tweet_ID having the biggest retweets and favorites\n",
    "# sort values from largest to smallest to see the largest retweets and favoites\n",
    "master.sort_values(by='favorite_count', ascending=False).head()\n"
   ]
  },
  {
   "cell_type": "code",
   "execution_count": 58,
   "metadata": {},
   "outputs": [
    {
     "data": {
      "text/plain": [
       "'https://twitter.com/dog_rates/status/744234799360020481/video/1'"
      ]
     },
     "execution_count": 58,
     "metadata": {},
     "output_type": "execute_result"
    }
   ],
   "source": [
    "## Tweet_ID having the biggest retweets and favorites\n",
    "# check the url of tweet which has the biggest number of retweets and favorites\n",
    "master.at[85,'expanded_urls']"
   ]
  },
  {
   "cell_type": "code",
   "execution_count": 61,
   "metadata": {},
   "outputs": [
    {
     "data": {
      "text/plain": [
       "1.2230222229584473"
      ]
     },
     "execution_count": 61,
     "metadata": {},
     "output_type": "execute_result"
    }
   ],
   "source": [
    "## Average of rating numerator per denominator\n",
    "# calculate the average of rating numerator per denominator\n",
    "from numpy import average\n",
    "average(master.drop_duplicates('tweet_id').rating_numerator/master.drop_duplicates('tweet_id').rating_denominator)"
   ]
  },
  {
   "cell_type": "code",
   "execution_count": 108,
   "metadata": {},
   "outputs": [
    {
     "name": "stdout",
     "output_type": "stream",
     "text": [
      "At least one True prediction 0.844187168355041\n",
      "All True prediction 0.5991316931982634\n"
     ]
    }
   ],
   "source": [
    "## Prediction Rate\n",
    "# drop duplicates on tweet_id level\n",
    "master_1 = master.drop_duplicates('tweet_id')\n",
    "# check total tweet ids which has predictions\n",
    "total_pre = master_1.loc[(master_1.p1_dog + master_1.p2_dog + master_1.p3_dog).isna() == False].shape[0]\n",
    "# check number of tweet ids which has at least 1 True prediction\n",
    "one_true_pre = master_1.loc[master_1.p1_dog + master_1.p2_dog + master_1.p3_dog > 0].shape[0]\n",
    "# check number of tweet ids which has all True prediction\n",
    "all_true_pre = master_1.loc[master_1.p1_dog + master_1.p2_dog + master_1.p3_dog == 3].shape[0]\n",
    "# rate True prediction\n",
    "print('At least one True prediction', one_true_pre/total_pre)\n",
    "print('All True prediction', all_true_pre/total_pre)\n"
   ]
  },
  {
   "cell_type": "markdown",
   "metadata": {},
   "source": [
    "### Insights:\n",
    "1. Tweet ID = 744234799360020481 is the tweet with the highest retweet counts and favorite counts in the dataset. This is the url: https://twitter.com/dog_rates/status/744234799360020481/video/1\n",
    "2. The average point of dog rating is 1.22, greater than 1, which means that there exists more tweets using the rating system that rating numerator greater than rating denominator.\n",
    "3. Prediction rate: \n",
    "- At least one True prediction: 0.844187168355041\n",
    "- All True prediction: 0.5991316931982634"
   ]
  },
  {
   "cell_type": "markdown",
   "metadata": {
    "collapsed": true
   },
   "source": [
    "### Visualization"
   ]
  },
  {
   "cell_type": "markdown",
   "metadata": {},
   "source": [
    "In this visualization, my interest is to see the relationship between the rating and the favorite count and retweet count."
   ]
  },
  {
   "cell_type": "code",
   "execution_count": 124,
   "metadata": {},
   "outputs": [
    {
     "name": "stderr",
     "output_type": "stream",
     "text": [
      "C:\\Users\\DE\\AppData\\Roaming\\Python\\Python37\\site-packages\\ipykernel_launcher.py:2: SettingWithCopyWarning: \n",
      "A value is trying to be set on a copy of a slice from a DataFrame.\n",
      "Try using .loc[row_indexer,col_indexer] = value instead\n",
      "\n",
      "See the caveats in the documentation: https://pandas.pydata.org/pandas-docs/stable/user_guide/indexing.html#returning-a-view-versus-a-copy\n",
      "  \n"
     ]
    },
    {
     "data": {
      "text/plain": [
       "0       1.4\n",
       "1       1.2\n",
       "2       1.2\n",
       "3       1.2\n",
       "4       1.4\n",
       "       ... \n",
       "2361    0.5\n",
       "2362    0.6\n",
       "2363    0.9\n",
       "2364    0.7\n",
       "2365    0.8\n",
       "Name: rate_point, Length: 2352, dtype: float64"
      ]
     },
     "execution_count": 124,
     "metadata": {},
     "output_type": "execute_result"
    }
   ],
   "source": [
    "# create rate point column\n",
    "master_1 = master.drop_duplicates('tweet_id')\n",
    "master_1['rate_point'] = master_1['rating_numerator']/master_1['rating_denominator']\n",
    "master_1['rate_point']"
   ]
  },
  {
   "cell_type": "code",
   "execution_count": 195,
   "metadata": {},
   "outputs": [
    {
     "data": {
      "text/plain": [
       "Text(0.5, 1.0, 'Retweet count for rate point > 2 (outlier)')"
      ]
     },
     "execution_count": 195,
     "metadata": {},
     "output_type": "execute_result"
    },
    {
     "data": {
      "image/png": "[encoded data removed]",
      "text/plain": [
       "<Figure size 1800x720 with 4 Axes>"
      ]
     },
     "metadata": {
      "needs_background": "light"
     },
     "output_type": "display_data"
    }
   ],
   "source": [
    "# create fig and add subplot\n",
    "fix = plt.figure(figsize=(25,10))\n",
    "ax1 = plt.subplot(2,2,1)\n",
    "ax2 = plt.subplot(2,2,2)\n",
    "ax3 = plt.subplot(2,2,3)\n",
    "ax4 = plt.subplot(2,2,4)\n",
    "\n",
    "# regplot\n",
    "sb.regplot(data=master_1[master_1.rate_point<2], x='rate_point',y='favorite_count', fit_reg=True, ax=ax1)\n",
    "ax1.set_title('Favortie count for rate point < 2')\n",
    "\n",
    "sb.regplot(data=master_1[master_1.rate_point<2], x='rate_point',y='retweet_count', fit_reg=True, ax=ax3)\n",
    "ax3.set_title('Retweet count for rate point < 2')\n",
    "\n",
    "sb.regplot(data=master_1[master_1.rate_point>2], x='rate_point',y='favorite_count', fit_reg=True, ax=ax2)\n",
    "ax2.set_title('Favortie count for rate point > 2 (outlier)')\n",
    "\n",
    "sb.regplot(data=master_1[master_1.rate_point>2], x='rate_point',y='retweet_count', fit_reg=True, ax=ax4)\n",
    "ax4.set_title('Retweet count for rate point > 2 (outlier)')\n"
   ]
  },
  {
   "cell_type": "markdown",
   "metadata": {},
   "source": [
    "There is a slight positive correlation between the rating point and the retweet and favorite count, which means that if the tweet has the higher rating, the chance it will be retweeted or liked will be higher."
   ]
  }
 ],
 "metadata": {
  "extensions": {
   "jupyter_dashboards": {
    "activeView": "report_default",
    "version": 1,
    "views": {
     "grid_default": {
      "cellMargin": 10,
      "defaultCellHeight": 20,
      "maxColumns": 12,
      "name": "grid",
      "type": "grid"
     },
     "report_default": {
      "name": "report",
      "type": "report"
     }
    }
   }
  },
  "kernelspec": {
   "display_name": "Python 3.7.13 ('data_wrangling')",
   "language": "python",
   "name": "python3"
  },
  "language_info": {
   "codemirror_mode": {
    "name": "ipython",
    "version": 3
   },
   "file_extension": ".py",
   "mimetype": "text/x-python",
   "name": "python",
   "nbconvert_exporter": "python",
   "pygments_lexer": "ipython3",
   "version": "3.7.13"
  },
  "vscode": {
   "interpreter": {
    "hash": "757bb194e254ecf1a0e3894dc0da6672b47aebc0c507cccb4239d869fbe1032a"
   }
  }
 },
 "nbformat": 4,
 "nbformat_minor": 2
}
