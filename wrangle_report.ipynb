{
 "cells": [
  {
   "cell_type": "markdown",
   "metadata": {},
   "source": [
    "## Reporting: wrangle_report\n",
    "* Create a **300-600 word written report** called \"wrangle_report.pdf\" or \"wrangle_report.html\" that briefly describes your wrangling efforts. This is to be framed as an internal document."
   ]
  },
  {
   "cell_type": "markdown",
   "metadata": {},
   "source": [
    "Data Wrangling will include 3 steps: \n",
    "- Gather \n",
    "- Assess \n",
    "- Clean \n",
    "\n",
    "1. Gather:\n",
    "In the gather part, there are total 3 pieces of data for this project and load them in the notebook. The data are: \n",
    "- A file on hand: twitter_archive_master.csv\n",
    "- A file acquired from a given url by using Requests library: image_prediction.tsv\n",
    "- A json file acquired by twitter api: tweet_json.txt\n",
    "\n",
    "2. Assess: \n",
    "In this section, I detect and document 9 quality issues which is related to data content errors, 2 tidy issuses which is related to data structure issues. \n",
    "\n",
    "**9 quality issues are:** \n",
    "- Change datatype timestamp from string to datetime with the purpose of exclude tweets id beyond August 1st, 2017. \n",
    "- Exclude rating denominator which is equal 0: this tweet id is 835246439529840640, does not have a specific url to check the rating numbers. \n",
    "- The column expanded_urls contain 2 links per tweet_id. One case is the same url is duplicated, another case is that this contains the other url which is not twitter url. \n",
    "- Column name contains the wrong name when data is crawled, for example, there are wrong name such as: a, such, quite ...\n",
    "- Wrong rating number: the wrong information when crawling data, the data is interpreted as the rating while it is a datetime with format dd/mm.\n",
    "The methodology for checking the data is to use visual assessment, use url to check real data with data in the file.\n",
    "    - Tweet_ID = 740373189193256964 the dog has the rating is 14/10\n",
    "    - Tweet_ID = 722974582966214656 the dog has the rating is 13/10\n",
    "    - Tweet_ID = 666287406224695296 the dog has the rating is 9/10\n",
    "- Tweet_ID = 775096608509886464 does not exist, it is a duplication of Tweet_ID = 740373189193256964\n",
    "    - There is a duplication of tweet_id = 740373189193256964, the tweet_id = 775096608509886464 has the url that is the url of tweet_id = 740373189193256964.\n",
    "- Remove data in twitter-archive-enhancement.csv for matching with the image_prediction.tsv, only data not beyond Aug 1st, 2017. \n",
    "\n",
    "**2 tidiness issues are:**\n",
    "- Unpivot column doggo, pupper, floofer, pupper into 1 column\n",
    "    Issues: \n",
    "    - Each tweet id with value doggo/pupper/floofer/pupper will be duplicated due to there are 2 values: `doggo/pupper/floofer/pupper` and `None`. \n",
    "    Solutions: \n",
    "    - Separate data set into `None` dog_type (1) and `doggo/pupper/floofer/pupper` dog type (2). The (2) will remove `None` row for each tweet id, the (1) will remove tweet id exists in (1). Finally, combine the 2 dataset after cleaned.\n",
    "    - Some tweet ids contain 2 values, for example, doggo and pupper (due to the image contains 2 dogs)\n",
    "- Match image prediction columns in image_prediction.tsv to define dog tweet_id and columns retweet count and favorite count in tweet_api for analysis.\n",
    "    - The interest is to find the correlation between rating and the number of retweets and number of favorites.\n",
    "\n",
    "3. Clean\n",
    "Clean data for issues found in the assessment, each issue will follow the frame: \n",
    "- Define\n",
    "- Code\n",
    "- Test \n",
    "\n",
    "\n",
    "\n"
   ]
  }
 ],
 "metadata": {
  "kernelspec": {
   "display_name": "Python 3.7.8 64-bit",
   "language": "python",
   "name": "python3"
  },
  "language_info": {
   "codemirror_mode": {
    "name": "ipython",
    "version": 3
   },
   "file_extension": ".py",
   "mimetype": "text/x-python",
   "name": "python",
   "nbconvert_exporter": "python",
   "pygments_lexer": "ipython3",
   "version": "3.7.8"
  },
  "vscode": {
   "interpreter": {
    "hash": "0a54084e6b208ee8d1ce3989ffc20924477a5f55f5a43e22e699a6741623861e"
   }
  }
 },
 "nbformat": 4,
 "nbformat_minor": 2
}
